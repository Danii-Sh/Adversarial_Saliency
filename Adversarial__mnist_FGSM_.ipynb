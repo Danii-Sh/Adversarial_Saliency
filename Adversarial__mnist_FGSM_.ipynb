{
  "cells": [
    {
      "cell_type": "markdown",
      "metadata": {
        "id": "view-in-github",
        "colab_type": "text"
      },
      "source": [
        "<a href=\"https://colab.research.google.com/github/Danii-Sh/Adversarial_Saliency/blob/main/Adversarial__mnist_FGSM_.ipynb\" target=\"_parent\"><img src=\"https://colab.research.google.com/assets/colab-badge.svg\" alt=\"Open In Colab\"/></a>"
      ]
    },
    {
      "cell_type": "code",
      "execution_count": null,
      "metadata": {
        "colab": {
          "base_uri": "https://localhost:8080/"
        },
        "id": "d5SMS3vjXECk",
        "outputId": "91b68748-75dc-4b33-8522-ad847bd37420"
      },
      "outputs": [
        {
          "name": "stdout",
          "output_type": "stream",
          "text": [
            "Mounted at /content/drive\n"
          ]
        }
      ],
      "source": [
        "from google.colab import drive\n",
        "drive.mount('/content/drive')"
      ]
    },
    {
      "cell_type": "code",
      "source": [],
      "metadata": {
        "id": "R2ql8XPGv9go"
      },
      "execution_count": null,
      "outputs": []
    },
    {
      "cell_type": "markdown",
      "source": [
        "# New Section"
      ],
      "metadata": {
        "id": "2c7vOvjt-slo"
      }
    },
    {
      "cell_type": "markdown",
      "source": [
        "# New Section"
      ],
      "metadata": {
        "id": "V7iAi0w1-tBk"
      }
    },
    {
      "cell_type": "code",
      "execution_count": null,
      "metadata": {
        "colab": {
          "base_uri": "https://localhost:8080/"
        },
        "id": "UjTel5AuXdJ_",
        "outputId": "6a83b10a-0e3a-409c-da2a-0f789af134e9"
      },
      "outputs": [
        {
          "name": "stdout",
          "output_type": "stream",
          "text": [
            "/content/drive/MyDrive\n"
          ]
        }
      ],
      "source": [
        "cd drive/MyDrive/"
      ]
    },
    {
      "cell_type": "code",
      "execution_count": null,
      "metadata": {
        "colab": {
          "base_uri": "https://localhost:8080/"
        },
        "id": "aYBsvxJFYXf9",
        "outputId": "1f0e20fc-7319-4af1-9c15-f09589c5a658"
      },
      "outputs": [
        {
          "name": "stdout",
          "output_type": "stream",
          "text": [
            "/content/drive/MyDrive/Adversarial_jamshid_idea\n"
          ]
        }
      ],
      "source": [
        "cd Adversarial_jamshid_idea/"
      ]
    },
    {
      "cell_type": "code",
      "execution_count": null,
      "metadata": {
        "colab": {
          "base_uri": "https://localhost:8080/"
        },
        "id": "yPm5ckFJYdAy",
        "outputId": "890f2a91-967c-4aef-987f-0fc91ac81254"
      },
      "outputs": [
        {
          "name": "stdout",
          "output_type": "stream",
          "text": [
            "Collecting captum\n",
            "  Downloading captum-0.6.0-py3-none-any.whl (1.3 MB)\n",
            "\u001b[2K     \u001b[90m━━━━━━━━━━━━━━━━━━━━━━━━━━━━━━━━━━━━━━━━\u001b[0m \u001b[32m1.3/1.3 MB\u001b[0m \u001b[31m8.4 MB/s\u001b[0m eta \u001b[36m0:00:00\u001b[0m\n",
            "\u001b[?25hRequirement already satisfied: matplotlib in /usr/local/lib/python3.10/dist-packages (from captum) (3.7.1)\n",
            "Requirement already satisfied: numpy in /usr/local/lib/python3.10/dist-packages (from captum) (1.23.5)\n",
            "Requirement already satisfied: torch>=1.6 in /usr/local/lib/python3.10/dist-packages (from captum) (2.0.1+cu118)\n",
            "Requirement already satisfied: filelock in /usr/local/lib/python3.10/dist-packages (from torch>=1.6->captum) (3.12.2)\n",
            "Requirement already satisfied: typing-extensions in /usr/local/lib/python3.10/dist-packages (from torch>=1.6->captum) (4.7.1)\n",
            "Requirement already satisfied: sympy in /usr/local/lib/python3.10/dist-packages (from torch>=1.6->captum) (1.12)\n",
            "Requirement already satisfied: networkx in /usr/local/lib/python3.10/dist-packages (from torch>=1.6->captum) (3.1)\n",
            "Requirement already satisfied: jinja2 in /usr/local/lib/python3.10/dist-packages (from torch>=1.6->captum) (3.1.2)\n",
            "Requirement already satisfied: triton==2.0.0 in /usr/local/lib/python3.10/dist-packages (from torch>=1.6->captum) (2.0.0)\n",
            "Requirement already satisfied: cmake in /usr/local/lib/python3.10/dist-packages (from triton==2.0.0->torch>=1.6->captum) (3.27.2)\n",
            "Requirement already satisfied: lit in /usr/local/lib/python3.10/dist-packages (from triton==2.0.0->torch>=1.6->captum) (16.0.6)\n",
            "Requirement already satisfied: contourpy>=1.0.1 in /usr/local/lib/python3.10/dist-packages (from matplotlib->captum) (1.1.0)\n",
            "Requirement already satisfied: cycler>=0.10 in /usr/local/lib/python3.10/dist-packages (from matplotlib->captum) (0.11.0)\n",
            "Requirement already satisfied: fonttools>=4.22.0 in /usr/local/lib/python3.10/dist-packages (from matplotlib->captum) (4.42.1)\n",
            "Requirement already satisfied: kiwisolver>=1.0.1 in /usr/local/lib/python3.10/dist-packages (from matplotlib->captum) (1.4.4)\n",
            "Requirement already satisfied: packaging>=20.0 in /usr/local/lib/python3.10/dist-packages (from matplotlib->captum) (23.1)\n",
            "Requirement already satisfied: pillow>=6.2.0 in /usr/local/lib/python3.10/dist-packages (from matplotlib->captum) (9.4.0)\n",
            "Requirement already satisfied: pyparsing>=2.3.1 in /usr/local/lib/python3.10/dist-packages (from matplotlib->captum) (3.1.1)\n",
            "Requirement already satisfied: python-dateutil>=2.7 in /usr/local/lib/python3.10/dist-packages (from matplotlib->captum) (2.8.2)\n",
            "Requirement already satisfied: six>=1.5 in /usr/local/lib/python3.10/dist-packages (from python-dateutil>=2.7->matplotlib->captum) (1.16.0)\n",
            "Requirement already satisfied: MarkupSafe>=2.0 in /usr/local/lib/python3.10/dist-packages (from jinja2->torch>=1.6->captum) (2.1.3)\n",
            "Requirement already satisfied: mpmath>=0.19 in /usr/local/lib/python3.10/dist-packages (from sympy->torch>=1.6->captum) (1.3.0)\n",
            "Installing collected packages: captum\n",
            "Successfully installed captum-0.6.0\n"
          ]
        }
      ],
      "source": [
        "!pip install captum"
      ]
    },
    {
      "cell_type": "code",
      "execution_count": null,
      "metadata": {
        "id": "xBAiUCaqYfHg"
      },
      "outputs": [],
      "source": [
        "import sys\n",
        "sys.argv=['']\n",
        "del sys"
      ]
    },
    {
      "cell_type": "code",
      "execution_count": null,
      "metadata": {
        "id": "8CXAwV2xYhrX"
      },
      "outputs": [],
      "source": [
        "import torch\n",
        "import torchvision.models as models"
      ]
    },
    {
      "cell_type": "code",
      "execution_count": null,
      "metadata": {
        "colab": {
          "base_uri": "https://localhost:8080/"
        },
        "id": "ktcD-Z25Yjy-",
        "outputId": "3ab7fc66-974a-4d74-f664-5733868a0702"
      },
      "outputs": [
        {
          "name": "stdout",
          "output_type": "stream",
          "text": [
            "Collecting foolbox\n",
            "  Downloading foolbox-3.3.3-py3-none-any.whl (1.7 MB)\n",
            "\u001b[2K     \u001b[90m━━━━━━━━━━━━━━━━━━━━━━━━━━━━━━━━━━━━━━━━\u001b[0m \u001b[32m1.7/1.7 MB\u001b[0m \u001b[31m8.5 MB/s\u001b[0m eta \u001b[36m0:00:00\u001b[0m\n",
            "\u001b[?25hRequirement already satisfied: numpy in /usr/local/lib/python3.10/dist-packages (from foolbox) (1.23.5)\n",
            "Requirement already satisfied: scipy in /usr/local/lib/python3.10/dist-packages (from foolbox) (1.10.1)\n",
            "Requirement already satisfied: setuptools in /usr/local/lib/python3.10/dist-packages (from foolbox) (67.7.2)\n",
            "Collecting eagerpy>=0.30.0 (from foolbox)\n",
            "  Downloading eagerpy-0.30.0-py3-none-any.whl (31 kB)\n",
            "Collecting GitPython>=3.0.7 (from foolbox)\n",
            "  Downloading GitPython-3.1.34-py3-none-any.whl (188 kB)\n",
            "\u001b[2K     \u001b[90m━━━━━━━━━━━━━━━━━━━━━━━━━━━━━━━━━━━━━━\u001b[0m \u001b[32m188.6/188.6 kB\u001b[0m \u001b[31m10.9 MB/s\u001b[0m eta \u001b[36m0:00:00\u001b[0m\n",
            "\u001b[?25hRequirement already satisfied: typing-extensions>=3.7.4.1 in /usr/local/lib/python3.10/dist-packages (from foolbox) (4.7.1)\n",
            "Requirement already satisfied: requests>=2.24.0 in /usr/local/lib/python3.10/dist-packages (from foolbox) (2.31.0)\n",
            "Collecting gitdb<5,>=4.0.1 (from GitPython>=3.0.7->foolbox)\n",
            "  Downloading gitdb-4.0.10-py3-none-any.whl (62 kB)\n",
            "\u001b[2K     \u001b[90m━━━━━━━━━━━━━━━━━━━━━━━━━━━━━━━━━━━━━━━━\u001b[0m \u001b[32m62.7/62.7 kB\u001b[0m \u001b[31m7.8 MB/s\u001b[0m eta \u001b[36m0:00:00\u001b[0m\n",
            "\u001b[?25hRequirement already satisfied: charset-normalizer<4,>=2 in /usr/local/lib/python3.10/dist-packages (from requests>=2.24.0->foolbox) (3.2.0)\n",
            "Requirement already satisfied: idna<4,>=2.5 in /usr/local/lib/python3.10/dist-packages (from requests>=2.24.0->foolbox) (3.4)\n",
            "Requirement already satisfied: urllib3<3,>=1.21.1 in /usr/local/lib/python3.10/dist-packages (from requests>=2.24.0->foolbox) (2.0.4)\n",
            "Requirement already satisfied: certifi>=2017.4.17 in /usr/local/lib/python3.10/dist-packages (from requests>=2.24.0->foolbox) (2023.7.22)\n",
            "Collecting smmap<6,>=3.0.1 (from gitdb<5,>=4.0.1->GitPython>=3.0.7->foolbox)\n",
            "  Downloading smmap-5.0.0-py3-none-any.whl (24 kB)\n",
            "Installing collected packages: smmap, eagerpy, gitdb, GitPython, foolbox\n",
            "Successfully installed GitPython-3.1.34 eagerpy-0.30.0 foolbox-3.3.3 gitdb-4.0.10 smmap-5.0.0\n"
          ]
        }
      ],
      "source": [
        "!pip install foolbox"
      ]
    },
    {
      "cell_type": "code",
      "execution_count": null,
      "metadata": {
        "id": "lV7zulx6ZBb6"
      },
      "outputs": [],
      "source": [
        "import torch\n",
        "import torchvision.models as models\n",
        "import numpy as np\n",
        "import eagerpy as ep\n",
        "from foolbox import PyTorchModel, accuracy, samples\n",
        "import foolbox as fb\n",
        "from foolbox.attacks import FGSM, LinfPGD"
      ]
    },
    {
      "cell_type": "code",
      "execution_count": null,
      "metadata": {
        "id": "TkZAPB5fZHWM"
      },
      "outputs": [],
      "source": [
        "import torch\n",
        "import torchvision.models as models\n",
        "\n",
        "#resnet = models.resnet152(pretrained=True)\n",
        "#model = resnet.eval()"
      ]
    },
    {
      "cell_type": "code",
      "execution_count": null,
      "metadata": {
        "colab": {
          "base_uri": "https://localhost:8080/"
        },
        "id": "7Vh59d6zZKza",
        "outputId": "2c64e348-d7a5-47a1-918f-7cbef7f36729"
      },
      "outputs": [
        {
          "name": "stdout",
          "output_type": "stream",
          "text": [
            "/content/drive/MyDrive\n"
          ]
        }
      ],
      "source": [
        "cd .."
      ]
    },
    {
      "cell_type": "code",
      "execution_count": null,
      "metadata": {
        "id": "Dd0XNQZEZyLt"
      },
      "outputs": [],
      "source": [
        "ls"
      ]
    },
    {
      "cell_type": "code",
      "execution_count": null,
      "metadata": {
        "colab": {
          "base_uri": "https://localhost:8080/"
        },
        "id": "_UXiAizUZNdy",
        "outputId": "00a702e4-e4a9-4de5-f95d-fcd2527b76ee"
      },
      "outputs": [
        {
          "name": "stdout",
          "output_type": "stream",
          "text": [
            "/content/drive/MyDrive/Saliency_k_adjust_MNIST0\n"
          ]
        }
      ],
      "source": [
        "cd Saliency_k_adjust_MNIST0"
      ]
    },
    {
      "cell_type": "code",
      "execution_count": null,
      "metadata": {
        "colab": {
          "base_uri": "https://localhost:8080/"
        },
        "id": "wcpZni3aZ2p2",
        "outputId": "cf9a5eb2-aa15-4914-f36d-fbacea914b82"
      },
      "outputs": [
        {
          "name": "stdout",
          "output_type": "stream",
          "text": [
            " cnn.py               model_089.pt                  model_mnist_51273.pt\n",
            " \u001b[0m\u001b[01;34mdata\u001b[0m/                model_090.pt                  model_mnist_512_74.pt\n",
            " grads.pt             model_091.pt                  model_mnist_51274.pt\n",
            " Helper.py            model_092.pt                  model_mnist_51275.pt\n",
            " interpretable.py     model_093.pt                  model_mnist_51276.pt\n",
            " k0                   model_094.pt                  model_mnist_51277.pt\n",
            " k1                   model_095.pt                  model_mnist_51278.pt\n",
            " k10                  model_096.pt                  model_mnist_51279.pt\n",
            " k11                  model_097.pt                  model_mnist_51280.pt\n",
            " k12                  model_098.pt                  model_mnist_51281.pt\n",
            " k13                  model_099.pt                  model_mnist_51282.pt\n",
            " k14                  Model_Best_0_5.pt             model_mnist_51283.pt\n",
            " k15                 'model_mnist_512_0.5 _0.pt'    model_mnist_51284.pt\n",
            " k16                 'model_mnist_512_0.5 _10.pt'   model_mnist_51285.pt\n",
            " k17                 'model_mnist_512_0.5 _20.pt'   model_mnist_51286.pt\n",
            " k18                 'model_mnist_512_0.5 _30.pt'   model_mnist_51287.pt\n",
            " k19                 'model_mnist_512_0.5 _40.pt'   model_mnist_51288.pt\n",
            " k2                  'model_mnist_512_0.5 _50.pt'   model_mnist_51289.pt\n",
            " k20                 'model_mnist_512_0.5 _51.pt'   model_mnist_51290.pt\n",
            " k21                 'model_mnist_512_0.5 _52.pt'   model_mnist_51291.pt\n",
            " k22                 'model_mnist_512_0.5 _53.pt'   model_mnist_51292.pt\n",
            " k23                 'model_mnist_512_0.5 _54.pt'   model_mnist_51293.pt\n",
            " k24                 'model_mnist_512_0.5 _55.pt'   model_mnist_51294.pt\n",
            " k25                 'model_mnist_512_0.5 _56.pt'   model_mnist_51295.pt\n",
            " k26                 'model_mnist_512_0.5 _57.pt'   model_mnist_51296.pt\n",
            " k27                 'model_mnist_512_0.5 _58.pt'   model_mnist_51297.pt\n",
            " k28                 'model_mnist_512_0.5 _59.pt'   model_mnist_51298.pt\n",
            " k29                 'model_mnist_512_0.5 _60.pt'   model_mnist_51299.pt\n",
            " k3                  'model_mnist_512_0.5 _61.pt'   model_mnist_zero_41.pt\n",
            " k30                 'model_mnist_512_0.5 _62.pt'   model_mnist_zero_42.pt\n",
            " k31                 'model_mnist_512_0.5 _63.pt'   model_mnist_zero_43.pt\n",
            " k32                 'model_mnist_512_0.5 _64.pt'   model_mnist_zero_44.pt\n",
            " k33                 'model_mnist_512_0.5 _65.pt'   model_mnist_zero_45.pt\n",
            " k34                 'model_mnist_512_0.5 _66.pt'   model_mnist_zero_46.pt\n",
            " k35                 'model_mnist_512_0.5 _67.pt'   model_mnist_zero_47.pt\n",
            " k36                 'model_mnist_512_0.5 _68.pt'   model_mnist_zero_48.pt\n",
            " k37                 'model_mnist_512_0.5 _69.pt'   model_mnist_zero_49.pt\n",
            " k38                 'model_mnist_512_0.5 _70.pt'   model_mnist_zero_50.pt\n",
            " k39                 'model_mnist_512_0.5 _71.pt'   model_mnist_zero_51.pt\n",
            " k4                  'model_mnist_512_0.5 _72.pt'   model_mnist_zero_52.pt\n",
            " k40                 'model_mnist_512_0.5 _73.pt'   model_mnist_zero_53.pt\n",
            " k41                 'model_mnist_512_0.5 _74.pt'   model_mnist_zero_54.pt\n",
            " k42                 'model_mnist_512_0.5 _75.pt'   model_mnist_zero_55.pt\n",
            " k43                 'model_mnist_512_0.5 _76.pt'   model_mnist_zero_56.pt\n",
            " k44                 'model_mnist_512_0.5 _77.pt'   model_mnist_zero_57.pt\n",
            " k45                 'model_mnist_512_0.5 _78.pt'   model_mnist_zero_58.pt\n",
            " k46                 'model_mnist_512_0.5 _79.pt'   model_mnist_zero_59.pt\n",
            " k47                 'model_mnist_512_0.5 _80.pt'   model_mnist_zero_60.pt\n",
            " k48                 'model_mnist_512_0.5 _81.pt'   model_mnist_zero_61.pt\n",
            " k49                 'model_mnist_512_0.5 _82.pt'   model_mnist_zero_62.pt\n",
            " k5                  'model_mnist_512_0.5 _83.pt'   model_mnist_zero_63.pt\n",
            " k50                 'model_mnist_512_0.5 _84.pt'   model_mnist_zero_64.pt\n",
            " k51                 'model_mnist_512_0.5 _85.pt'   model_mnist_zero_65.pt\n",
            " k52                 'model_mnist_512_0.5 _86.pt'   model_mnist_zero_66.pt\n",
            " k53                 'model_mnist_512_0.5 _87.pt'   model_mnist_zero_67.pt\n",
            " k54                 'model_mnist_512_0.5 _88.pt'   model_mnist_zero_68.pt\n",
            " k55                 'model_mnist_512_0.5 _89.pt'   model_mnist_zero_69.pt\n",
            " k56                 'model_mnist_512_0.5 _90.pt'   model_mnist_zero_70.pt\n",
            " k57                 'model_mnist_512_0.5 _91.pt'   model_mnist_zero_71.pt\n",
            " k58                 'model_mnist_512_0.5 _92.pt'   model_mnist_zero_72.pt\n",
            " k59                 'model_mnist_512_0.5 _93.pt'   model_mnist_zero_73.pt\n",
            " k6                  'model_mnist_512_0.5 _94.pt'   model_mnist_zero_74.pt\n",
            " k60                 'model_mnist_512_0.5 _95.pt'   model_mnist_zero_75.pt\n",
            " k61                 'model_mnist_512_0.5 _96.pt'   model_mnist_zero_76.pt\n",
            " k62                 'model_mnist_512_0.5 _97.pt'   model_mnist_zero_77.pt\n",
            " k63                 'model_mnist_512_0.5 _98.pt'   model_mnist_zero_78.pt\n",
            " k64                 'model_mnist_512_0.5 _99.pt'   model_mnist_zero_79.pt\n",
            " k65                  model_mnist_512_0.pt          model_mnist_zero_80.pt\n",
            " k66                  model_mnist_5120.pt           model_mnist_zero_81.pt\n",
            " k67                  model_mnist_512_10.pt         model_mnist_zero_82.pt\n",
            " k68                  model_mnist_51210.pt          model_mnist_zero_83.pt\n",
            " k69                  model_mnist_512_20.pt         model_mnist_zero_84.pt\n",
            " k7                   model_mnist_51220.pt          model_mnist_zero_85.pt\n",
            " k70                  model_mnist_512_30.pt         model_mnist_zero_86.pt\n",
            " k71                  model_mnist_51230.pt          model_mnist_zero_87.pt\n",
            " k72                  model_mnist_512_40.pt         model_mnist_zero_88.pt\n",
            " k73                  model_mnist_51240.pt          model_mnist_zero_89.pt\n",
            " k74                  model_mnist_512_50.pt         model_mnist_zero_90.pt\n",
            " k75                  model_mnist_51250.pt          model_mnist_zero_91.pt\n",
            " k76                  model_mnist_512_51.pt         model_mnist_zero_92.pt\n",
            " k77                  model_mnist_51251.pt          model_mnist_zero_93.pt\n",
            " k78                  model_mnist_512_52.pt         model_mnist_zero_94.pt\n",
            " k79                  model_mnist_51252.pt          model_mnist_zero_95.pt\n",
            " k8                   model_mnist_512_53.pt         model_mnist_zero_96.pt\n",
            " k80                  model_mnist_51253.pt          model_mnist_zero_97.pt\n",
            " k81                  model_mnist_512_54.pt         model_mnist_zero_98.pt\n",
            " k82                  model_mnist_51254.pt          model_mnist_zero_99.pt\n",
            " k83                  model_mnist_512_55.pt         \u001b[01;34mmodels\u001b[0m/\n",
            " k84                  model_mnist_51255.pt          model_without74.pt\n",
            " k85                  model_mnist_512_56.pt         model_without75.pt\n",
            " k86                  model_mnist_51256.pt          model_without76.pt\n",
            " k87                  model_mnist_512_57.pt         model_without77.pt\n",
            " k88                  model_mnist_51257.pt          model_without78.pt\n",
            " k89                  model_mnist_512_58.pt         model_without79.pt\n",
            " k9                   model_mnist_51258.pt          model_without80.pt\n",
            " k90                  model_mnist_512_59.pt         model_without81.pt\n",
            " k91                  model_mnist_51259.pt          model_without82.pt\n",
            " k92                  model_mnist_512_60.pt         model_without83.pt\n",
            " k93                  model_mnist_51260.pt          model_without84.pt\n",
            " k94                  model_mnist_512_61.pt         model_without85.pt\n",
            " k95                  model_mnist_51261.pt          model_without86.pt\n",
            " k96                  model_mnist_512_62.pt         model_without87.pt\n",
            " k97                  model_mnist_51262.pt          model_without88.pt\n",
            " k98                  model_mnist_512_63.pt         model_without89.pt\n",
            " k99                  model_mnist_51263.pt          model_without90.pt\n",
            " maskedAcc_MNIST.py   model_mnist_512_64.pt         model_without91.pt\n",
            " model_071.pt         model_mnist_51264.pt          model_without92.pt\n",
            " model_072.pt         model_mnist_512_65.pt         model_without93.pt\n",
            " model_073.pt         model_mnist_51265.pt          model_without94.pt\n",
            " model_074.pt         model_mnist_512_66.pt         model_without95.pt\n",
            " model_075.pt         model_mnist_51266.pt          model_without96.pt\n",
            " model_076.pt         model_mnist_512_67.pt         model_without97.pt\n",
            " model_077.pt         model_mnist_51267.pt          model_without98.pt\n",
            " model_078.pt         model_mnist_512_68.pt         model_without99.pt\n",
            " model_079.pt         model_mnist_51268.pt          \u001b[01;34mpath\u001b[0m/\n",
            " model_080.pt         model_mnist_512_69.pt         \u001b[01;34m__pycache__\u001b[0m/\n",
            " model_081.pt         model_mnist_51269.pt          regular.py\n",
            " model_082.pt         model_mnist_512_70.pt         temp_Data_sample.pt\n",
            " model_083.pt         model_mnist_51270.pt          train_Bird.py\n",
            " model_084.pt         model_mnist_512_71.pt         train_cifar10.py\n",
            " model_085.pt         model_mnist_51271.pt          train_MNIST.py\n",
            " model_086.pt         model_mnist_512_72.pt         utils.py\n",
            " model_087.pt         model_mnist_51272.pt          vizualize.py\n",
            " model_088.pt         model_mnist_512_73.pt\n"
          ]
        }
      ],
      "source": [
        "ls"
      ]
    },
    {
      "cell_type": "code",
      "execution_count": null,
      "metadata": {
        "id": "UH2uvNaDZ6_R"
      },
      "outputs": [],
      "source": [
        "model_without = torch.load(\"model_without89.pt\", map_location=torch.device('cpu'))"
      ]
    },
    {
      "cell_type": "code",
      "execution_count": null,
      "metadata": {
        "colab": {
          "base_uri": "https://localhost:8080/"
        },
        "id": "I2m4wGkPe-f-",
        "outputId": "08d7b59e-d689-41ab-8ac4-d9377063c377"
      },
      "outputs": [
        {
          "name": "stdout",
          "output_type": "stream",
          "text": [
            "Mean: 0.005889657884836197\n"
          ]
        }
      ],
      "source": [
        "# Calculate the mean\n",
        "mean_t = torch.mean(images_)\n",
        "\n",
        "# Print the mean\n",
        "print(\"Mean:\", mean_t.item())"
      ]
    },
    {
      "cell_type": "code",
      "execution_count": null,
      "metadata": {
        "colab": {
          "base_uri": "https://localhost:8080/"
        },
        "id": "pVPuuWnWfCVZ",
        "outputId": "e6e1a551-1e4e-4335-f9d3-d442c8f692c3"
      },
      "outputs": [
        {
          "name": "stdout",
          "output_type": "stream",
          "text": [
            "std: 1.007725715637207\n"
          ]
        }
      ],
      "source": [
        "# Calculate the mean\n",
        "std_t = torch.std(images_)\n",
        "\n",
        "# Print the mean\n",
        "print(\"std:\", std_t.item())"
      ]
    },
    {
      "cell_type": "code",
      "execution_count": null,
      "metadata": {
        "colab": {
          "base_uri": "https://localhost:8080/"
        },
        "id": "ffp494GbBmN9",
        "outputId": "eee08c3a-3f7e-4389-81bb-a8c287f93b33"
      },
      "outputs": [
        {
          "name": "stdout",
          "output_type": "stream",
          "text": [
            "min: -0.4242129623889923\n"
          ]
        }
      ],
      "source": [
        "# Calculate the mean\n",
        "min_t = torch.min(images_)\n",
        "\n",
        "# Print the mean\n",
        "print(\"min:\", min_t.item())"
      ]
    },
    {
      "cell_type": "code",
      "execution_count": null,
      "metadata": {
        "colab": {
          "base_uri": "https://localhost:8080/"
        },
        "id": "6tGme4e_BvEA",
        "outputId": "b27d20e9-4f12-4f1a-edd7-eacda16234de"
      },
      "outputs": [
        {
          "name": "stdout",
          "output_type": "stream",
          "text": [
            "max: 2.821486711502075\n"
          ]
        }
      ],
      "source": [
        "# Calculate the mean\n",
        "max_t = torch.max(images_)\n",
        "\n",
        "# Print the mean\n",
        "print(\"max:\", max_t.item())"
      ]
    },
    {
      "cell_type": "code",
      "execution_count": null,
      "metadata": {
        "colab": {
          "base_uri": "https://localhost:8080/"
        },
        "id": "L4x4l-PY0Sga",
        "outputId": "5b6b9378-943f-4265-f70b-1fb872b295c9"
      },
      "outputs": [
        {
          "name": "stdout",
          "output_type": "stream",
          "text": [
            "images.shape torch.Size([10000, 1, 28, 28])\n",
            "labels.shape torch.Size([10000])\n",
            "Clean accuracy: 99.3%\n"
          ]
        }
      ],
      "source": [
        "import eagerpy as ep\n",
        "from foolbox import PyTorchModel, accuracy\n",
        "import foolbox as fb\n",
        "import torchvision.transforms as transforms\n",
        "from torchvision.datasets import MNIST\n",
        "import numpy as np\n",
        "import torch\n",
        "\n",
        "# Define the transform for test data\n",
        "transform = transforms.Compose([\n",
        "    transforms.ToTensor(),\n",
        "    transforms.Normalize((0.1307,), (0.3081,))\n",
        "])\n",
        "\n",
        "# Load the MNIST test dataset with the defined transform\n",
        "test_dataset = MNIST(root='path/to/dataset', train=False, download=True, transform=transform)\n",
        "\n",
        "# Create a PyTorch model\n",
        "model = model_without  # Your MNIST model initialization here\n",
        "\n",
        "# Create the Foolbox model\n",
        "fmodel = PyTorchModel(model, bounds=(-0.4242129623889923, 2.821486711502075))\n",
        "\n",
        "# Prepare the test samples\n",
        "images = []\n",
        "labels = []\n",
        "for i in range(len(test_dataset)):\n",
        "    image, label = test_dataset[i]\n",
        "    images.append(image)\n",
        "    labels.append(label)\n",
        "\n",
        "# Convert the test samples to PyTorch tensors\n",
        "images_ = torch.stack(images)\n",
        "labels_ = torch.tensor(labels)\n",
        "\n",
        "# Convert the PyTorch tensors to eagerpy tensors\n",
        "images__ = ep.astensor(images_)\n",
        "labels__ = ep.astensor(labels_)\n",
        "print(\"images.shape\", images__.shape)\n",
        "print(\"labels.shape\", labels__.shape)\n",
        "\n",
        "# Calculate clean accuracy\n",
        "clean_acc = accuracy(fmodel, images__, labels__)\n",
        "print(f\"Clean accuracy: {clean_acc * 100:.1f}%\")\n"
      ]
    },
    {
      "cell_type": "code",
      "execution_count": null,
      "metadata": {
        "id": "NuIkS7sE9Wzt"
      },
      "outputs": [],
      "source": [
        "def generate_list(num_elements):\n",
        "    step = 1 / (num_elements - 1)\n",
        "    elements = [i * step for i in range(num_elements)]\n",
        "    return elements\n"
      ]
    },
    {
      "cell_type": "code",
      "execution_count": null,
      "metadata": {
        "colab": {
          "base_uri": "https://localhost:8080/"
        },
        "id": "I9rljGxO9aJI",
        "outputId": "eb26c7b9-47df-457c-96f1-6deb5b1829dc"
      },
      "outputs": [
        {
          "output_type": "stream",
          "name": "stdout",
          "text": [
            "[0.0, 0.1, 0.2, 0.30000000000000004, 0.4, 0.5, 0.6000000000000001, 0.7000000000000001, 0.8, 0.9, 1.0]\n"
          ]
        }
      ],
      "source": [
        "my_list = generate_list(11)\n",
        "print(my_list)"
      ]
    },
    {
      "cell_type": "code",
      "execution_count": null,
      "metadata": {
        "id": "SWtlPSCz8xvz"
      },
      "outputs": [],
      "source": [
        "# Perform the attack\n",
        "attack = fb.attacks.FGSM()\n",
        "epsilons = my_list\n",
        "advss, advs, success = attack(fmodel, images__, labels__, epsilons=epsilons)"
      ]
    },
    {
      "cell_type": "code",
      "execution_count": null,
      "metadata": {
        "id": "CjGloRIJJuUz"
      },
      "outputs": [],
      "source": [
        "successs = torch.zeros((11,10000))\n",
        "\n",
        "for l in range(11):\n",
        "  for m in range(10000):\n",
        "      successs[l][m]=success[l][m].item()"
      ]
    },
    {
      "cell_type": "code",
      "execution_count": null,
      "metadata": {
        "colab": {
          "base_uri": "https://localhost:8080/"
        },
        "id": "nr0zvJoDxhlj",
        "outputId": "0110c92c-6b01-4b92-c4a4-3072cd32ba2b"
      },
      "outputs": [
        {
          "output_type": "stream",
          "name": "stdout",
          "text": [
            "Number of True values: 73.0\n",
            "Number of True values: 220.0\n",
            "Number of True values: 483.0\n",
            "Number of True values: 916.0\n",
            "Number of True values: 1526.0\n",
            "Number of True values: 2264.0\n",
            "Number of True values: 2927.0\n",
            "Number of True values: 3538.0\n",
            "Number of True values: 4049.0\n",
            "Number of True values: 4454.0\n",
            "Number of True values: 4709.0\n"
          ]
        }
      ],
      "source": [
        "import torch\n",
        "\n",
        "# Assuming you have a tensor named 'tensor' with shape (2000,) containing boolean values\n",
        "num_true_list = []\n",
        "# Count the number of True values in the tensor\n",
        "for l in range(11):\n",
        "    num_true = torch.sum(successs[l]).item()\n",
        "    print(\"Number of True values:\", num_true)\n",
        "    num_true_list.append(num_true)\n"
      ]
    },
    {
      "cell_type": "code",
      "execution_count": null,
      "metadata": {
        "colab": {
          "base_uri": "https://localhost:8080/"
        },
        "id": "1s8GL_SNKwYV",
        "outputId": "9e05f4df-e17d-4392-ae61-57a86b5a3ba5"
      },
      "outputs": [
        {
          "output_type": "stream",
          "name": "stdout",
          "text": [
            "Number of True values: 73.0\n",
            "Number of True values: 220.0\n",
            "Number of True values: 483.0\n",
            "Number of True values: 916.0\n",
            "Number of True values: 1526.0\n",
            "Number of True values: 2264.0\n",
            "Number of True values: 2927.0\n",
            "Number of True values: 3538.0\n",
            "Number of True values: 4049.0\n",
            "Number of True values: 4454.0\n",
            "Number of True values: 4709.0\n"
          ]
        }
      ],
      "source": [
        "import torch\n",
        "\n",
        "# Assuming you have a tensor named 'tensor' with shape (2000,) containing boolean values\n",
        "num_true_list = []\n",
        "# Count the number of True values in the tensor\n",
        "for l in range(11):\n",
        "    num_true = torch.sum(successs[l]).item()\n",
        "    print(\"Number of True values:\", num_true)\n",
        "    num_true_list.append(num_true)\n"
      ]
    },
    {
      "cell_type": "code",
      "execution_count": null,
      "metadata": {
        "colab": {
          "base_uri": "https://localhost:8080/"
        },
        "id": "5zDh-ziz4cTB",
        "outputId": "6fc67e4f-8171-4b08-878b-1080b4dc10d7"
      },
      "outputs": [
        {
          "name": "stdout",
          "output_type": "stream",
          "text": [
            "sample 0 predict 7 Label 7\n",
            "sample 1000 predict 9 Label 9\n",
            "sample 2000 predict 6 Label 6\n",
            "sample 3000 predict 6 Label 6\n",
            "sample 4000 predict 9 Label 9\n",
            "sample 5000 predict 3 Label 3\n",
            "sample 6000 predict 9 Label 9\n",
            "sample 7000 predict 1 Label 1\n",
            "sample 8000 predict 4 Label 4\n",
            "sample 9000 predict 7 Label 7\n"
          ]
        }
      ],
      "source": [
        "Label = []\n",
        "predicted = []\n",
        "for i in range(10000):\n",
        "    #print(pic[i].shape)\n",
        "    y= images[i].unsqueeze(0)\n",
        "    #print(y.shape)\n",
        "    output = model(y)\n",
        "    predicted_label = torch.argmax(output, dim=1).item()\n",
        "    predicted.append(predicted_label)\n",
        "    label_= labels[i]\n",
        "    Label.append(label_)\n",
        "    if i % 1000==0:\n",
        "      print(\"sample\",i,\"predict\",predicted[i], \"Label\", Label[i])"
      ]
    },
    {
      "cell_type": "code",
      "execution_count": null,
      "metadata": {
        "id": "iCYTks0ZFW5C"
      },
      "outputs": [],
      "source": [
        "adversarial = torch.zeros((10000,1, 28, 28))\n",
        "for m in range(10000):\n",
        "  for i in range(1):\n",
        "    for j in range(28):\n",
        "      for k in range(28):\n",
        "        adversarial[m][i][j][k]=advs[10][m][i][j][k].item()"
      ]
    },
    {
      "cell_type": "code",
      "execution_count": null,
      "metadata": {
        "colab": {
          "base_uri": "https://localhost:8080/"
        },
        "id": "CmdWvm6xGVNj",
        "outputId": "46108fce-01b2-4d8d-ed7e-f23521ad5557"
      },
      "outputs": [
        {
          "name": "stdout",
          "output_type": "stream",
          "text": [
            "sample 0 predict 7 adversaral 7 Label 7\n",
            "sample 1000 predict 9 adversaral 8 Label 9\n",
            "sample 2000 predict 6 adversaral 8 Label 6\n",
            "sample 3000 predict 6 adversaral 8 Label 6\n",
            "sample 4000 predict 9 adversaral 8 Label 9\n",
            "sample 5000 predict 3 adversaral 8 Label 3\n",
            "sample 6000 predict 9 adversaral 3 Label 9\n",
            "sample 7000 predict 1 adversaral 8 Label 1\n",
            "sample 8000 predict 4 adversaral 4 Label 4\n",
            "sample 9000 predict 7 adversaral 7 Label 7\n"
          ]
        }
      ],
      "source": [
        "adversarial_label = []\n",
        "adversarial_All = []\n",
        "for i in range(10000):\n",
        "    #adver= adversarial[i].unsqueeze(0).cuda()\n",
        "    adver= adversarial[i].unsqueeze(0)\n",
        "\n",
        "    adversarial_All.append(adver)\n",
        "    output_adver = model(adver)\n",
        "    predicted_adver = torch.argmax(output_adver, dim=1).item()\n",
        "    adversarial_label.append(predicted_adver)\n",
        "    if i % 1000==0:\n",
        "       print(\"sample\",i,\"predict\",predicted[i],\"adversaral\",adversarial_label[i], \"Label\", Label[i])"
      ]
    },
    {
      "cell_type": "code",
      "execution_count": null,
      "metadata": {
        "id": "Fp14PRd1959a"
      },
      "outputs": [],
      "source": [
        "pic_ = torch.permute(images[5000],(1,2,0))"
      ]
    },
    {
      "cell_type": "code",
      "execution_count": null,
      "metadata": {
        "colab": {
          "base_uri": "https://localhost:8080/",
          "height": 448
        },
        "id": "3-qeZFFO-Byd",
        "outputId": "7d774620-f1d2-473b-c715-a2dc8aaefb69"
      },
      "outputs": [
        {
          "data": {
            "text/plain": [
              "<matplotlib.image.AxesImage at 0x7fe676d21ea0>"
            ]
          },
          "execution_count": 38,
          "metadata": {},
          "output_type": "execute_result"
        },
        {
          "data": {
            "image/png": "[encoded data removed]",
            "text/plain": [
              "<Figure size 640x480 with 1 Axes>"
            ]
          },
          "metadata": {},
          "output_type": "display_data"
        }
      ],
      "source": [
        "import matplotlib.pyplot as plt\n",
        "\n",
        "plt.imshow(pic_)"
      ]
    },
    {
      "cell_type": "code",
      "execution_count": null,
      "metadata": {
        "id": "0UYHKRi5-HbL"
      },
      "outputs": [],
      "source": [
        "adversarial_ = torch.permute(adversarial[5000],(1,2,0))"
      ]
    },
    {
      "cell_type": "code",
      "execution_count": null,
      "metadata": {
        "colab": {
          "base_uri": "https://localhost:8080/",
          "height": 448
        },
        "id": "_wef5ZWu-Kmy",
        "outputId": "d1c6e342-7083-4b18-a7bc-1909cb22d4ae"
      },
      "outputs": [
        {
          "data": {
            "text/plain": [
              "<matplotlib.image.AxesImage at 0x7fe67632a3b0>"
            ]
          },
          "execution_count": 40,
          "metadata": {},
          "output_type": "execute_result"
        },
        {
          "data": {
            "image/png": "[encoded data removed]",
            "text/plain": [
              "<Figure size 640x480 with 1 Axes>"
            ]
          },
          "metadata": {},
          "output_type": "display_data"
        }
      ],
      "source": [
        "import matplotlib.pyplot as plt\n",
        "\n",
        "plt.imshow(adversarial_)"
      ]
    },
    {
      "cell_type": "code",
      "execution_count": null,
      "metadata": {
        "id": "W3-kPereZsfJ"
      },
      "outputs": [],
      "source": [
        "adversarial_s = torch.zeros((10,1, 28, 28))\n",
        "for m in range(10):\n",
        "  for i in range(1):\n",
        "    for j in range(28):\n",
        "      for k in range(28):\n",
        "        adversarial_s[m][i][j][k]=advs[m][6000][i][j][k].item()"
      ]
    },
    {
      "cell_type": "code",
      "execution_count": null,
      "metadata": {
        "colab": {
          "base_uri": "https://localhost:8080/"
        },
        "id": "7h0AX-DXZ3RC",
        "outputId": "4f877912-5b70-4f1d-c88c-7abc8c8fed85"
      },
      "outputs": [
        {
          "name": "stdout",
          "output_type": "stream",
          "text": [
            "sample 0 predict 9 adversaral 9 Label 9\n",
            "sample 1 predict 9 adversaral 4 Label 9\n",
            "sample 2 predict 9 adversaral 3 Label 9\n",
            "sample 3 predict 9 adversaral 3 Label 9\n",
            "sample 4 predict 9 adversaral 3 Label 9\n",
            "sample 5 predict 9 adversaral 3 Label 9\n",
            "sample 6 predict 9 adversaral 3 Label 9\n",
            "sample 7 predict 9 adversaral 3 Label 9\n",
            "sample 8 predict 9 adversaral 3 Label 9\n",
            "sample 9 predict 9 adversaral 3 Label 9\n"
          ]
        }
      ],
      "source": [
        "adversarial_s_label = []\n",
        "adversarial_s_All = []\n",
        "for i in range(10):\n",
        "    #adver= adversarial[i].unsqueeze(0).cuda()\n",
        "    adver= adversarial_s[i].unsqueeze(0)\n",
        "\n",
        "    adversarial_s_All.append(adver)\n",
        "    output_adver = model(adver)\n",
        "    predicted_adver = torch.argmax(output_adver, dim=1).item()\n",
        "    adversarial_s_label.append(predicted_adver)\n",
        "    print(\"sample\",i,\"predict\",predicted[6000],\"adversaral\",adversarial_s_label[i], \"Label\", Label[6000])"
      ]
    },
    {
      "cell_type": "code",
      "execution_count": null,
      "metadata": {
        "colab": {
          "base_uri": "https://localhost:8080/",
          "height": 448
        },
        "id": "pkfz63ULaPVK",
        "outputId": "5df28c51-8b60-4f31-b3e8-f7b41d8e4897"
      },
      "outputs": [
        {
          "data": {
            "text/plain": [
              "<matplotlib.image.AxesImage at 0x7fe6761b3940>"
            ]
          },
          "execution_count": 43,
          "metadata": {},
          "output_type": "execute_result"
        },
        {
          "data": {
            "image/png": "[encoded data removed]",
            "text/plain": [
              "<Figure size 640x480 with 1 Axes>"
            ]
          },
          "metadata": {},
          "output_type": "display_data"
        }
      ],
      "source": [
        "adversarial_ss = torch.permute(adversarial_s[0],(1,2,0))\n",
        "import matplotlib.pyplot as plt\n",
        "\n",
        "plt.imshow(adversarial_ss)"
      ]
    },
    {
      "cell_type": "code",
      "execution_count": null,
      "metadata": {
        "colab": {
          "base_uri": "https://localhost:8080/"
        },
        "id": "f3BQ8xfnPoLL",
        "outputId": "578eb3e7-40b0-4e49-c5e0-ae409e56c981"
      },
      "outputs": [
        {
          "name": "stdout",
          "output_type": "stream",
          "text": [
            "images.shape torch.Size([2000, 1, 28, 28])\n",
            "labels.shape torch.Size([2000])\n",
            "Clean accuracy: 99.2%\n"
          ]
        }
      ],
      "source": [
        "import eagerpy as ep\n",
        "from foolbox import PyTorchModel, accuracy\n",
        "import foolbox as fb\n",
        "import torchvision.transforms as transforms\n",
        "from torchvision.datasets import MNIST\n",
        "import numpy as np\n",
        "import torch\n",
        "\n",
        "# Define the transform for test data\n",
        "transform = transforms.Compose([\n",
        "    transforms.ToTensor(),\n",
        "    transforms.Normalize((0.1307,), (0.3081,))\n",
        "])\n",
        "\n",
        "# Load the MNIST test dataset with the defined transform\n",
        "from torch.utils.data import random_split\n",
        "\n",
        "# Load the full MNIST dataset\n",
        "full_dataset = MNIST(\n",
        "    root='path/to/dataset',\n",
        "    train=False,\n",
        "    download=True,\n",
        "    transform=transform\n",
        ")\n",
        "\n",
        "# Split the full dataset into training and testing datasets\n",
        "train_size = int(0.8 * len(full_dataset))  # 80% for training\n",
        "test_size = len(full_dataset) - train_size  # Remaining 20% for testing\n",
        "train_dataset, test_dataset = random_split(full_dataset, [train_size, test_size])\n",
        "\n",
        "# Create a PyTorch model\n",
        "model = model_without  # Your MNIST model initialization here\n",
        "\n",
        "# Create the Foolbox model\n",
        "#fmodel_t = PyTorchModel(model, bounds=(-0.4242129623889923, 2.821486711502075))\n",
        "fmodel = PyTorchModel(model, bounds=(-0.4242129623889923, 2.821486711502075))\n",
        "\"\"\"\n",
        "\n",
        "# Prepare the test samples\n",
        "images_t = []\n",
        "labels_t = []\n",
        "for i in range(len(train_dataset)):\n",
        "    image, label = train_dataset[i]\n",
        "    images_t.append(image)\n",
        "    labels_t.append(label)\n",
        "\n",
        "# Convert the test samples to PyTorch tensors\n",
        "images_t = torch.stack(images_t)\n",
        "labels_t = torch.tensor(labels_t)\n",
        "\n",
        "# Convert the PyTorch tensors to eagerpy tensors\n",
        "images__t = ep.astensor(images_t)\n",
        "labels__t = ep.astensor(labels_t)\n",
        "print(\"images.shape\", images__t.shape)\n",
        "print(\"labels.shape\", labels__t.shape)\n",
        "\n",
        "# Calculate clean accuracy\n",
        "clean_acc_t = accuracy(fmodel_t, images__t, labels__t)\n",
        "print(f\"Clean accuracy on train: {clean_acc_t * 100:.1f}%\")\n",
        "\"\"\"\n",
        "\n",
        "# Prepare the test samples\n",
        "images = []\n",
        "labels = []\n",
        "for i in range(len(test_dataset)):\n",
        "    image, label = test_dataset[i]\n",
        "    images.append(image)\n",
        "    labels.append(label)\n",
        "\n",
        "# Convert the test samples to PyTorch tensors\n",
        "images_ = torch.stack(images)\n",
        "labels_ = torch.tensor(labels)\n",
        "\n",
        "# Convert the PyTorch tensors to eagerpy tensors\n",
        "images__ = ep.astensor(images_)\n",
        "labels__ = ep.astensor(labels_)\n",
        "print(\"images.shape\", images__.shape)\n",
        "print(\"labels.shape\", labels__.shape)\n",
        "\n",
        "# Calculate clean accuracy\n",
        "clean_acc = accuracy(fmodel, images__, labels__)\n",
        "print(f\"Clean accuracy: {clean_acc * 100:.1f}%\")\n"
      ]
    },
    {
      "cell_type": "code",
      "execution_count": null,
      "metadata": {
        "colab": {
          "base_uri": "https://localhost:8080/"
        },
        "id": "NfWFwrH7dZsU",
        "outputId": "d6de4dd4-4fed-462d-feaa-7cb14564b3ec"
      },
      "outputs": [
        {
          "name": "stdout",
          "output_type": "stream",
          "text": [
            "images.shape torch.Size([60000, 1, 28, 28])\n",
            "labels.shape torch.Size([60000])\n",
            "Clean accuracy on train: 100.0%\n",
            "images.shape torch.Size([10000, 1, 28, 28])\n",
            "labels.shape torch.Size([10000])\n",
            "Clean accuracy: 99.3%\n"
          ]
        }
      ],
      "source": [
        "import eagerpy as ep\n",
        "from foolbox import PyTorchModel, accuracy\n",
        "import foolbox as fb\n",
        "import torchvision.transforms as transforms\n",
        "from torchvision.datasets import MNIST\n",
        "import numpy as np\n",
        "import torch\n",
        "\n",
        "# Define the transform for test data\n",
        "transform = transforms.Compose([\n",
        "    transforms.ToTensor(),\n",
        "    transforms.Normalize((0.1307,), (0.3081,))\n",
        "])\n",
        "\n",
        "# Load the MNIST test dataset with the defined transform\n",
        "from torch.utils.data import random_split\n",
        "\n",
        "train_dataset = MNIST(\n",
        "    root='path/to/dataset',\n",
        "    train=True,\n",
        "    download=True,\n",
        "    transform=transform\n",
        ")\n",
        "\n",
        "test_dataset = MNIST(\n",
        "    root='path/to/dataset',\n",
        "    train=False,\n",
        "    download=True,\n",
        "    transform=transform\n",
        ")\n",
        "\n",
        "# Create a PyTorch model\n",
        "model = model_without  # Your MNIST model initialization here\n",
        "\n",
        "# Create the Foolbox model\n",
        "#fmodel_t = PyTorchModel(model, bounds=(-0.4242129623889923, 2.821486711502075))\n",
        "fmodel = PyTorchModel(model, bounds=(-0.4242129623889923, 2.821486711502075))\n",
        "\n",
        "\n",
        "# Prepare the test samples\n",
        "images_t = []\n",
        "labels_t = []\n",
        "for i in range(len(train_dataset)):\n",
        "    image, label = train_dataset[i]\n",
        "    images_t.append(image)\n",
        "    labels_t.append(label)\n",
        "\n",
        "# Convert the test samples to PyTorch tensors\n",
        "images_t = torch.stack(images_t)\n",
        "labels_t = torch.tensor(labels_t)\n",
        "\n",
        "# Convert the PyTorch tensors to eagerpy tensors\n",
        "images__t = ep.astensor(images_t)\n",
        "labels__t = ep.astensor(labels_t)\n",
        "print(\"images.shape\", images__t.shape)\n",
        "print(\"labels.shape\", labels__t.shape)\n",
        "\n",
        "# Calculate clean accuracy\n",
        "clean_acc_t = accuracy(fmodel, images__t, labels__t)\n",
        "print(f\"Clean accuracy on train: {clean_acc_t * 100:.1f}%\")\n",
        "\n",
        "\n",
        "# Prepare the test samples\n",
        "images = []\n",
        "labels = []\n",
        "for i in range(len(test_dataset)):\n",
        "    image, label = test_dataset[i]\n",
        "    images.append(image)\n",
        "    labels.append(label)\n",
        "\n",
        "# Convert the test samples to PyTorch tensors\n",
        "images_ = torch.stack(images)\n",
        "labels_ = torch.tensor(labels)\n",
        "\n",
        "# Convert the PyTorch tensors to eagerpy tensors\n",
        "images__ = ep.astensor(images_)\n",
        "labels__ = ep.astensor(labels_)\n",
        "print(\"images.shape\", images__.shape)\n",
        "print(\"labels.shape\", labels__.shape)\n",
        "\n",
        "# Calculate clean accuracy\n",
        "clean_acc = accuracy(fmodel, images__, labels__)\n",
        "print(f\"Clean accuracy: {clean_acc * 100:.1f}%\")\n",
        "\n"
      ]
    },
    {
      "cell_type": "code",
      "execution_count": null,
      "metadata": {
        "colab": {
          "base_uri": "https://localhost:8080/"
        },
        "id": "MMY3FkazfJc8",
        "outputId": "48cca314-17b0-4231-cdda-2f5e3e3bfb86"
      },
      "outputs": [
        {
          "data": {
            "text/plain": [
              "10000"
            ]
          },
          "execution_count": 61,
          "metadata": {},
          "output_type": "execute_result"
        }
      ],
      "source": [
        "len(adversarial)"
      ]
    },
    {
      "cell_type": "code",
      "execution_count": null,
      "metadata": {
        "colab": {
          "base_uri": "https://localhost:8080/"
        },
        "id": "nTHADfmMfVG9",
        "outputId": "b6621366-f557-4703-87dd-1dfe4cf8641b"
      },
      "outputs": [
        {
          "data": {
            "text/plain": [
              "torch.Size([10000, 1, 28, 28])"
            ]
          },
          "execution_count": 62,
          "metadata": {},
          "output_type": "execute_result"
        }
      ],
      "source": [
        "adversarial.shape\n"
      ]
    },
    {
      "cell_type": "code",
      "execution_count": null,
      "metadata": {
        "id": "TzFtbWqjggt4"
      },
      "outputs": [],
      "source": [
        "Label_tensor = torch.tensor(Label)\n"
      ]
    },
    {
      "cell_type": "code",
      "execution_count": null,
      "metadata": {
        "colab": {
          "base_uri": "https://localhost:8080/"
        },
        "id": "WDpFpt0fiWfe",
        "outputId": "31fa8e75-bb64-4562-f6cb-9c7dfef2d3ab"
      },
      "outputs": [
        {
          "name": "stdout",
          "output_type": "stream",
          "text": [
            "tensor(7)\n"
          ]
        }
      ],
      "source": [
        "print(Label_tensor[0])"
      ]
    },
    {
      "cell_type": "code",
      "execution_count": null,
      "metadata": {
        "colab": {
          "base_uri": "https://localhost:8080/"
        },
        "id": "dJRltV4jl5u8",
        "outputId": "a1394581-5e55-439b-9a50-013b18b51d4f"
      },
      "outputs": [
        {
          "name": "stderr",
          "output_type": "stream",
          "text": [
            "<ipython-input-98-f2c7a1215b51>:1: UserWarning: To copy construct from a tensor, it is recommended to use sourceTensor.clone().detach() or sourceTensor.clone().detach().requires_grad_(True), rather than torch.tensor(sourceTensor).\n",
            "  adversarial_label_tensor = torch.tensor(Label_tensor).unsqueeze(1)\n"
          ]
        }
      ],
      "source": [
        "adversarial_label_tensor = torch.tensor(Label_tensor).unsqueeze(1)"
      ]
    },
    {
      "cell_type": "code",
      "execution_count": null,
      "metadata": {
        "colab": {
          "base_uri": "https://localhost:8080/"
        },
        "id": "RFTaBvDtl-nD",
        "outputId": "eefbba87-6c73-4e87-e39e-3c4381415630"
      },
      "outputs": [
        {
          "data": {
            "text/plain": [
              "7"
            ]
          },
          "execution_count": 99,
          "metadata": {},
          "output_type": "execute_result"
        }
      ],
      "source": [
        "adversarial_label_tensor[0].item()"
      ]
    },
    {
      "cell_type": "code",
      "execution_count": null,
      "metadata": {
        "colab": {
          "base_uri": "https://localhost:8080/"
        },
        "id": "gMzR4FzLoB1K",
        "outputId": "7067fb46-813d-43aa-ef21-7a1ca974e275"
      },
      "outputs": [
        {
          "data": {
            "text/plain": [
              "tensor(7)"
            ]
          },
          "execution_count": 85,
          "metadata": {},
          "output_type": "execute_result"
        }
      ],
      "source": [
        "adversarial_label_tensor[0]"
      ]
    },
    {
      "cell_type": "code",
      "execution_count": null,
      "metadata": {
        "id": "6qf_hbfBpya-"
      },
      "outputs": [],
      "source": [
        "list_label=[]"
      ]
    },
    {
      "cell_type": "code",
      "execution_count": null,
      "metadata": {
        "colab": {
          "base_uri": "https://localhost:8080/"
        },
        "id": "kszFiwOiqJxg",
        "outputId": "fae8ca26-f731-46c4-e4f9-18f05c0c9010"
      },
      "outputs": [
        {
          "data": {
            "text/plain": [
              "tensor([[7],\n",
              "        [2],\n",
              "        [1],\n",
              "        ...,\n",
              "        [4],\n",
              "        [5],\n",
              "        [6]])"
            ]
          },
          "execution_count": 103,
          "metadata": {},
          "output_type": "execute_result"
        }
      ],
      "source": [
        "adversarial_label_tensor"
      ]
    },
    {
      "cell_type": "code",
      "execution_count": null,
      "metadata": {
        "id": "pSBzAxlxpbm9"
      },
      "outputs": [],
      "source": [
        "for i in range(len(adversarial_label_tensor)):\n",
        "  list_label.append(adversarial_label_tensor[i].item())"
      ]
    },
    {
      "cell_type": "code",
      "execution_count": null,
      "metadata": {
        "id": "pT7dNLK4qX7f"
      },
      "outputs": [],
      "source": [
        "Label_tensor_ = torch.tensor(list_label)\n"
      ]
    },
    {
      "cell_type": "code",
      "execution_count": null,
      "metadata": {
        "id": "Wq-8UpFWd4ab"
      },
      "outputs": [],
      "source": [
        "import torch\n",
        "import torchvision\n",
        "from torchvision import transforms\n",
        "from torch.utils.data import ConcatDataset\n",
        "\n",
        "# Define the transform for test data\n",
        "transform = transforms.Compose([\n",
        "    transforms.ToTensor(),\n",
        "    transforms.Normalize((0.1307,), (0.3081,))\n",
        "])\n",
        "\n",
        "# Load the main MNIST dataset\n",
        "trainset = torchvision.datasets.MNIST(root='./data', train=True,\n",
        "                                      download=True, transform=transform)\n",
        "#testset = torchvision.datasets.MNIST(root='./data', train=False,\n",
        "#                                     download=True, transform=transform)\n",
        "\n",
        "# Load the adversarial images\n",
        "adversarial_dataset = torch.utils.data.TensorDataset(adversarial, Label_tensor_)\n",
        "\n",
        "# Concatenate the main dataset and the adversarial dataset\n",
        "combined_dataset = ConcatDataset([trainset, adversarial_dataset])\n",
        "\n",
        "# Create a data loader for the combined dataset\n",
        "dataloader = torch.utils.data.DataLoader(combined_dataset, batch_size=64, shuffle=True)\n",
        "\n",
        "# Iterate over the combined dataset\n",
        "for images, labels in trainset:\n",
        "    # Use the images and labels for training or further processing\n",
        "    # Each batch will contain a mix of main and adversarial images\n",
        "    #print(labels)\n",
        "    pass\n"
      ]
    },
    {
      "cell_type": "code",
      "execution_count": null,
      "metadata": {
        "colab": {
          "base_uri": "https://localhost:8080/"
        },
        "id": "CVzyXIEAo664",
        "outputId": "781aada7-c962-4540-983a-e2825868aa18"
      },
      "outputs": [
        {
          "name": "stderr",
          "output_type": "stream",
          "text": [
            "<ipython-input-94-1a612682a5bd>:19: UserWarning: To copy construct from a tensor, it is recommended to use sourceTensor.clone().detach() or sourceTensor.clone().detach().requires_grad_(True), rather than torch.tensor(sourceTensor).\n",
            "  adversarial_All_tensor = torch.tensor(adversarial)\n"
          ]
        }
      ],
      "source": [
        "import torch\n",
        "import torchvision\n",
        "from torchvision import transforms\n",
        "from torch.utils.data import ConcatDataset\n",
        "\n",
        "# Define the transform for test data\n",
        "transform = transforms.Compose([\n",
        "    transforms.ToTensor(),\n",
        "    transforms.Normalize((0.1307,), (0.3081,))\n",
        "])\n",
        "\n",
        "# Load the main MNIST dataset\n",
        "trainset = torchvision.datasets.MNIST(root='./data', train=True,\n",
        "                                      download=True, transform=transform)\n",
        "testset = torchvision.datasets.MNIST(root='./data', train=False,\n",
        "                                     download=True, transform=transform)\n",
        "\n",
        "# Convert adversarial_All to a PyTorch tensor\n",
        "adversarial_All_tensor = torch.tensor(adversarial)\n",
        "\n",
        "# Create the adversarial dataset with integer labels\n",
        "adversarial_dataset = [(image, label) for image, label in zip(adversarial_All_tensor, adversarial_label)]\n",
        "\n",
        "# Concatenate the main dataset, test dataset, and adversarial dataset\n",
        "combined_dataset = ConcatDataset([trainset, testset] + adversarial_dataset)\n",
        "\n",
        "# Create a data loader for the combined dataset\n",
        "dataloader = torch.utils.data.DataLoader(combined_dataset, batch_size=64, shuffle=True)\n",
        "\n",
        "# Iterate over the combined dataset\n",
        "for images, labels in adversarial_dataset:\n",
        "    # Use the images and labels for training or further processing\n",
        "    # Each batch will contain a mix of main and adversarial images\n",
        "    pass\n"
      ]
    },
    {
      "cell_type": "code",
      "execution_count": null,
      "metadata": {
        "colab": {
          "base_uri": "https://localhost:8080/",
          "height": 448
        },
        "id": "4ZVvCEI0aVF7",
        "outputId": "536a3d4c-d89a-4e9e-891a-04e377369ad3"
      },
      "outputs": [
        {
          "data": {
            "text/plain": [
              "<matplotlib.image.AxesImage at 0x7fe6760442e0>"
            ]
          },
          "execution_count": 44,
          "metadata": {},
          "output_type": "execute_result"
        },
        {
          "data": {
            "image/png": "[encoded data removed]",
            "text/plain": [
              "<Figure size 640x480 with 1 Axes>"
            ]
          },
          "metadata": {},
          "output_type": "display_data"
        }
      ],
      "source": [
        "adversarial_ss = torch.permute(adversarial_s[1],(1,2,0))\n",
        "import matplotlib.pyplot as plt\n",
        "\n",
        "plt.imshow(adversarial_ss)"
      ]
    },
    {
      "cell_type": "code",
      "execution_count": null,
      "metadata": {
        "id": "pKzJKh5SaVDk"
      },
      "outputs": [],
      "source": [
        "adversarial_ss = torch.permute(adversarial_s[2],(1,2,0))\n",
        "import matplotlib.pyplot as plt\n",
        "\n",
        "plt.imshow(adversarial_ss)"
      ]
    },
    {
      "cell_type": "code",
      "execution_count": null,
      "metadata": {
        "colab": {
          "base_uri": "https://localhost:8080/",
          "height": 448
        },
        "id": "6r9Ka-YMaVA5",
        "outputId": "9f089039-5d66-4adf-f6e7-122dff9af67a"
      },
      "outputs": [
        {
          "data": {
            "text/plain": [
              "<matplotlib.image.AxesImage at 0x7f9115054880>"
            ]
          },
          "execution_count": 55,
          "metadata": {},
          "output_type": "execute_result"
        },
        {
          "data": {
            "image/png": "[encoded data removed]",
            "text/plain": [
              "<Figure size 640x480 with 1 Axes>"
            ]
          },
          "metadata": {},
          "output_type": "display_data"
        }
      ],
      "source": [
        "adversarial_ss = torch.permute(adversarial_s[3],(1,2,0))\n",
        "import matplotlib.pyplot as plt\n",
        "\n",
        "plt.imshow(adversarial_ss)"
      ]
    },
    {
      "cell_type": "code",
      "execution_count": null,
      "metadata": {
        "colab": {
          "base_uri": "https://localhost:8080/",
          "height": 448
        },
        "id": "-5mzC8wWaU-N",
        "outputId": "d0eb81c8-5256-44b5-aa43-5ce20abb7edd"
      },
      "outputs": [
        {
          "data": {
            "text/plain": [
              "<matplotlib.image.AxesImage at 0x7f9115110670>"
            ]
          },
          "execution_count": 54,
          "metadata": {},
          "output_type": "execute_result"
        },
        {
          "data": {
            "image/png": "[encoded data removed]",
            "text/plain": [
              "<Figure size 640x480 with 1 Axes>"
            ]
          },
          "metadata": {},
          "output_type": "display_data"
        }
      ],
      "source": [
        "adversarial_ss = torch.permute(adversarial_s[4],(1,2,0))\n",
        "import matplotlib.pyplot as plt\n",
        "\n",
        "plt.imshow(adversarial_ss)"
      ]
    },
    {
      "cell_type": "code",
      "execution_count": null,
      "metadata": {
        "colab": {
          "base_uri": "https://localhost:8080/",
          "height": 448
        },
        "id": "11sjeYIqaU7s",
        "outputId": "cf6268b9-e675-4803-c310-12124dc18694"
      },
      "outputs": [
        {
          "data": {
            "text/plain": [
              "<matplotlib.image.AxesImage at 0x7f91151151b0>"
            ]
          },
          "execution_count": 53,
          "metadata": {},
          "output_type": "execute_result"
        },
        {
          "data": {
            "image/png": "[encoded data removed]",
            "text/plain": [
              "<Figure size 640x480 with 1 Axes>"
            ]
          },
          "metadata": {},
          "output_type": "display_data"
        }
      ],
      "source": [
        "adversarial_ss = torch.permute(adversarial_s[5],(1,2,0))\n",
        "import matplotlib.pyplot as plt\n",
        "\n",
        "plt.imshow(adversarial_ss)"
      ]
    },
    {
      "cell_type": "code",
      "execution_count": null,
      "metadata": {
        "colab": {
          "base_uri": "https://localhost:8080/",
          "height": 448
        },
        "id": "ievXyRCYaU44",
        "outputId": "b7eef4f0-7c9b-40ba-ce8e-03d8e3c9ba9e"
      },
      "outputs": [
        {
          "data": {
            "text/plain": [
              "<matplotlib.image.AxesImage at 0x7f910bfebd30>"
            ]
          },
          "execution_count": 52,
          "metadata": {},
          "output_type": "execute_result"
        },
        {
          "data": {
            "image/png": "[encoded data removed]",
            "text/plain": [
              "<Figure size 640x480 with 1 Axes>"
            ]
          },
          "metadata": {},
          "output_type": "display_data"
        }
      ],
      "source": [
        "adversarial_ss = torch.permute(adversarial_s[6],(1,2,0))\n",
        "import matplotlib.pyplot as plt\n",
        "\n",
        "plt.imshow(adversarial_ss)"
      ]
    },
    {
      "cell_type": "code",
      "execution_count": null,
      "metadata": {
        "colab": {
          "base_uri": "https://localhost:8080/",
          "height": 448
        },
        "id": "rYMe7o0haU2J",
        "outputId": "38172395-06c2-40d1-917e-48b09d24e8c4"
      },
      "outputs": [
        {
          "data": {
            "text/plain": [
              "<matplotlib.image.AxesImage at 0x7f910bf96c80>"
            ]
          },
          "execution_count": 51,
          "metadata": {},
          "output_type": "execute_result"
        },
        {
          "data": {
            "image/png": "[encoded data removed]",
            "text/plain": [
              "<Figure size 640x480 with 1 Axes>"
            ]
          },
          "metadata": {},
          "output_type": "display_data"
        }
      ],
      "source": [
        "adversarial_ss = torch.permute(adversarial_s[7],(1,2,0))\n",
        "import matplotlib.pyplot as plt\n",
        "\n",
        "plt.imshow(adversarial_ss)"
      ]
    },
    {
      "cell_type": "code",
      "execution_count": null,
      "metadata": {
        "colab": {
          "base_uri": "https://localhost:8080/",
          "height": 448
        },
        "id": "pgk-wjBFaUy-",
        "outputId": "30cef170-7781-4ea0-d93d-fa4878f7d432"
      },
      "outputs": [
        {
          "data": {
            "text/plain": [
              "<matplotlib.image.AxesImage at 0x7f910bf1b910>"
            ]
          },
          "execution_count": 50,
          "metadata": {},
          "output_type": "execute_result"
        },
        {
          "data": {
            "image/png": "[encoded data removed]",
            "text/plain": [
              "<Figure size 640x480 with 1 Axes>"
            ]
          },
          "metadata": {},
          "output_type": "display_data"
        }
      ],
      "source": [
        "adversarial_ss = torch.permute(adversarial_s[8],(1,2,0))\n",
        "import matplotlib.pyplot as plt\n",
        "\n",
        "plt.imshow(adversarial_ss)"
      ]
    },
    {
      "cell_type": "code",
      "execution_count": null,
      "metadata": {
        "colab": {
          "base_uri": "https://localhost:8080/",
          "height": 448
        },
        "id": "EkC6hc6vaUub",
        "outputId": "7199849a-ca4b-442f-8e19-bc3f8ff1258b"
      },
      "outputs": [
        {
          "data": {
            "text/plain": [
              "<matplotlib.image.AxesImage at 0x7f9114f78d30>"
            ]
          },
          "execution_count": 49,
          "metadata": {},
          "output_type": "execute_result"
        },
        {
          "data": {
            "image/png": "[encoded data removed]",
            "text/plain": [
              "<Figure size 640x480 with 1 Axes>"
            ]
          },
          "metadata": {},
          "output_type": "display_data"
        }
      ],
      "source": [
        "adversarial_ss = torch.permute(adversarial_s[9],(1,2,0))\n",
        "import matplotlib.pyplot as plt\n",
        "\n",
        "plt.imshow(adversarial_ss)"
      ]
    },
    {
      "cell_type": "code",
      "execution_count": null,
      "metadata": {
        "id": "kiZHe-cKaUeA"
      },
      "outputs": [],
      "source": [
        "ls"
      ]
    },
    {
      "cell_type": "code",
      "execution_count": null,
      "metadata": {
        "colab": {
          "base_uri": "https://localhost:8080/"
        },
        "id": "iU2Eha5z_Zju",
        "outputId": "1194dcae-909d-4e71-ba92-e3df714efd46"
      },
      "outputs": [
        {
          "data": {
            "text/plain": [
              "torch.Size([11, 10000])"
            ]
          },
          "execution_count": 29,
          "metadata": {},
          "output_type": "execute_result"
        }
      ],
      "source": [
        "success.shape"
      ]
    },
    {
      "cell_type": "code",
      "execution_count": null,
      "metadata": {
        "colab": {
          "base_uri": "https://localhost:8080/"
        },
        "id": "kLbOtsGF_veN",
        "outputId": "5d830a26-245d-4cb3-d7b0-ac6ee8198cc7"
      },
      "outputs": [
        {
          "output_type": "stream",
          "name": "stdout",
          "text": [
            "/content/drive/MyDrive\n"
          ]
        }
      ],
      "source": [
        "cd .."
      ]
    },
    {
      "cell_type": "code",
      "execution_count": null,
      "metadata": {
        "colab": {
          "base_uri": "https://localhost:8080/"
        },
        "id": "5l_jcQP-DAw8",
        "outputId": "50a386bf-dd62-4bbe-a699-fece335a27f8"
      },
      "outputs": [
        {
          "output_type": "stream",
          "name": "stdout",
          "text": [
            "/content/drive/MyDrive/Salinecy_k_adjust_MNIST\n"
          ]
        }
      ],
      "source": [
        "cd Salinecy_k_adjust_MNIST"
      ]
    },
    {
      "cell_type": "code",
      "execution_count": null,
      "metadata": {
        "colab": {
          "base_uri": "https://localhost:8080/"
        },
        "id": "zr3qhLdwCl8X",
        "outputId": "d9ae7fa7-c771-4567-e599-47395f116755"
      },
      "outputs": [
        {
          "output_type": "stream",
          "name": "stdout",
          "text": [
            "cnn.py              model50.pt               model_updated_499.pt\n",
            "\u001b[0m\u001b[01;34mdata\u001b[0m/               model60.pt               model_updated_50.pt\n",
            "Helper.py           model70.pt               model_updated_510.pt\n",
            "interpretable.py    model80.pt               model_updated_520.pt\n",
            "k149                model90.pt               model_updated_530.pt\n",
            "\u001b[01;34mk_307\u001b[0m/              Model_Best392.pt         model_updated_540.pt\n",
            "k99                 Model_Best_4_392.pt      model_updated_550.pt\n",
            "maskedAcc_MNIST.py  Model_Best.pt            model_updated_560.pt\n",
            "model0.pt           Model_Best_updated_4.pt  model_updated_570.pt\n",
            "model100.pt         Model_Best_updated_5.pt  model_updated_580.pt\n",
            "model10.pt          model_k40.pt             model_updated_581.pt\n",
            "model110.pt         \u001b[01;34mmodels\u001b[0m/                  model_updated_582.pt\n",
            "model120.pt         model_updated_40.pt      model_updated_583.pt\n",
            "model130.pt         model_updated_410.pt     model_updated_584.pt\n",
            "model140.pt         model_updated_420.pt     model_updated_585.pt\n",
            "model20.pt          model_updated_430.pt     model_updated_586.pt\n",
            "model30.pt          model_updated_440.pt     model_updated_587.pt\n",
            "model39281.pt       model_updated_450.pt     model_updated_588.pt\n",
            "model39282.pt       model_updated_460.pt     model_updated_589.pt\n",
            "model39283.pt       model_updated_470.pt     model_updated_590.pt\n",
            "model39284.pt       model_updated_480.pt     model_updated_591.pt\n",
            "model39285.pt       model_updated_481.pt     model_updated_592.pt\n",
            "model39286.pt       model_updated_482.pt     model_updated_593.pt\n",
            "model39287.pt       model_updated_483.pt     model_updated_594.pt\n",
            "model39288.pt       model_updated_484.pt     model_updated_595.pt\n",
            "model39289.pt       model_updated_485.pt     model_updated_596.pt\n",
            "model39290.pt       model_updated_486.pt     model_updated_597.pt\n",
            "model39291.pt       model_updated_487.pt     model_updated_598.pt\n",
            "model39292.pt       model_updated_488.pt     model_updated_599.pt\n",
            "model39293.pt       model_updated_489.pt     \u001b[01;34mpath\u001b[0m/\n",
            "model39294.pt       model_updated_490.pt     \u001b[01;34m__pycache__\u001b[0m/\n",
            "model39295.pt       model_updated_491.pt     regular.py\n",
            "model39296.pt       model_updated_492.pt     train_Bird.py\n",
            "model39297.pt       model_updated_493.pt     train_cifar10.py\n",
            "model39298.pt       model_updated_494.pt     train_MNIST.py\n",
            "model39299.pt       model_updated_495.pt     utils.py\n",
            "model40.pt          model_updated_496.pt     vizualize.py\n",
            "model_4_3920.pt     model_updated_497.pt\n",
            "Model_4.pt          model_updated_498.pt\n"
          ]
        }
      ],
      "source": [
        "ls"
      ]
    },
    {
      "cell_type": "code",
      "execution_count": null,
      "metadata": {
        "id": "5UVNdT30DHzD"
      },
      "outputs": [],
      "source": [
        "model_saliency = torch.load(\"model_updated_593.pt\", map_location=torch.device('cpu'))"
      ]
    },
    {
      "cell_type": "code",
      "execution_count": null,
      "metadata": {
        "colab": {
          "base_uri": "https://localhost:8080/"
        },
        "id": "Sha9EQF0DXUX",
        "outputId": "fbd60911-a9d1-4e3d-b01c-a24a90d63ac8"
      },
      "outputs": [
        {
          "output_type": "stream",
          "name": "stderr",
          "text": [
            "/usr/local/lib/python3.10/dist-packages/foolbox/models/pytorch.py:36: UserWarning: The PyTorch model is in training mode and therefore might not be deterministic. Call the eval() method to set it in evaluation mode if this is not intended.\n",
            "  warnings.warn(\n"
          ]
        },
        {
          "output_type": "stream",
          "name": "stdout",
          "text": [
            "images.shape torch.Size([10000, 1, 28, 28])\n",
            "labels.shape torch.Size([10000])\n",
            "Clean accuracy: 98.8%\n"
          ]
        }
      ],
      "source": [
        "import eagerpy as ep\n",
        "from foolbox import PyTorchModel, accuracy\n",
        "import foolbox as fb\n",
        "import torchvision.transforms as transforms\n",
        "from torchvision.datasets import MNIST\n",
        "import numpy as np\n",
        "import torch\n",
        "\n",
        "# Define the transform for test data\n",
        "transform = transforms.Compose([\n",
        "    transforms.ToTensor(),\n",
        "    transforms.Normalize((0.1307,), (0.3081,))\n",
        "])\n",
        "\n",
        "# Load the MNIST test dataset with the defined transform\n",
        "test_dataset = MNIST(root='path/to/dataset', train=False, download=True, transform=transform)\n",
        "\n",
        "# Create a PyTorch model\n",
        "model_saliency = model_saliency  # Your MNIST model initialization here\n",
        "\n",
        "# Create the Foolbox model\n",
        "fmodel_saliency = PyTorchModel(model_saliency, bounds=(-0.4242129623889923, 2.821486711502075))\n",
        "\n",
        "# Prepare the test samples\n",
        "images_saliency = []\n",
        "labels_saliency = []\n",
        "for i in range(len(test_dataset)):\n",
        "    image_saliency, label_saliency = test_dataset[i]\n",
        "    images_saliency.append(image_saliency)\n",
        "    labels_saliency.append(label_saliency)\n",
        "\n",
        "# Convert the test samples to PyTorch tensors\n",
        "images__saliency = torch.stack(images_saliency)\n",
        "labels__saliency = torch.tensor(labels_saliency)\n",
        "\n",
        "# Convert the PyTorch tensors to eagerpy tensors\n",
        "images___saliency = ep.astensor(images__saliency)\n",
        "labels___saliency = ep.astensor(labels__saliency)\n",
        "print(\"images.shape\", images___saliency.shape)\n",
        "print(\"labels.shape\", labels___saliency.shape)\n",
        "\n",
        "# Calculate clean accuracy\n",
        "clean_acc_saliency = accuracy(fmodel_saliency, images___saliency, labels___saliency)\n",
        "print(f\"Clean accuracy: {clean_acc_saliency * 100:.1f}%\")\n"
      ]
    },
    {
      "cell_type": "code",
      "execution_count": null,
      "metadata": {
        "id": "75M-8AOwEa3G"
      },
      "outputs": [],
      "source": [
        "# Perform the attack\n",
        "attack = fb.attacks.FGSM()\n",
        "epsilons = my_list\n",
        "advss_saliency, advs_saliency, success_saliency = attack(fmodel_saliency, images___saliency, labels___saliency, epsilons=epsilons)"
      ]
    },
    {
      "cell_type": "code",
      "execution_count": null,
      "metadata": {
        "id": "ztYQ_MtJEowu"
      },
      "outputs": [],
      "source": [
        "successs_saliency = torch.zeros((11,10000))\n",
        "\n",
        "for l in range(11):\n",
        "  for m in range(10000):\n",
        "      successs_saliency[l][m]=success_saliency[l][m].item()"
      ]
    },
    {
      "cell_type": "code",
      "execution_count": null,
      "metadata": {
        "colab": {
          "base_uri": "https://localhost:8080/"
        },
        "id": "vzhFUrZvQjIS",
        "outputId": "1b7c3e29-b55f-44f1-e3e5-561505e9c618"
      },
      "outputs": [
        {
          "output_type": "stream",
          "name": "stdout",
          "text": [
            "Number of True values: 144.0\n",
            "Number of True values: 373.0\n",
            "Number of True values: 789.0\n",
            "Number of True values: 1483.0\n",
            "Number of True values: 2422.0\n",
            "Number of True values: 3567.0\n",
            "Number of True values: 4390.0\n",
            "Number of True values: 5215.0\n",
            "Number of True values: 5879.0\n",
            "Number of True values: 6319.0\n",
            "Number of True values: 6675.0\n"
          ]
        }
      ],
      "source": [
        "import torch\n",
        "\n",
        "# Assuming you have a tensor named 'tensor' with shape (2000,) containing boolean values\n",
        "num_true_saliency_list = []\n",
        "# Count the number of True values in the tensor\n",
        "for l in range(11):\n",
        "    num_true_saliency = torch.sum(successs_saliency[l]).item()\n",
        "    num_true_saliency_list.append(num_true_saliency)\n",
        "\n",
        "    print(\"Number of True values:\", num_true_saliency)"
      ]
    },
    {
      "cell_type": "code",
      "execution_count": null,
      "metadata": {
        "colab": {
          "base_uri": "https://localhost:8080/"
        },
        "id": "PPhJqd62Cjf-",
        "outputId": "73e556cf-a31c-49ad-a79a-105d4eb8f28e"
      },
      "outputs": [
        {
          "name": "stdout",
          "output_type": "stream",
          "text": [
            "sample 0 predict 7 Label 7\n",
            "sample 1000 predict 9 Label 9\n",
            "sample 2000 predict 6 Label 6\n",
            "sample 3000 predict 6 Label 6\n",
            "sample 4000 predict 9 Label 9\n",
            "sample 5000 predict 3 Label 3\n",
            "sample 6000 predict 9 Label 9\n",
            "sample 7000 predict 1 Label 1\n",
            "sample 8000 predict 4 Label 4\n",
            "sample 9000 predict 7 Label 7\n"
          ]
        }
      ],
      "source": [
        "Label_s = []\n",
        "predicted_s = []\n",
        "for i in range(10000):\n",
        "    #print(pic[i].shape)\n",
        "    y_s= images_saliency[i].unsqueeze(0)\n",
        "    #print(y.shape)\n",
        "    output_s = fmodel_saliency(y_s)\n",
        "    predicted_label_s = torch.argmax(output_s, dim=1).item()\n",
        "    predicted_s.append(predicted_label_s)\n",
        "    label_s= labels[i]\n",
        "    Label_s.append(label_s)\n",
        "    if i % 1000==0:\n",
        "      print(\"sample\",i,\"predict\",predicted_s[i], \"Label\", Label_s[i])"
      ]
    },
    {
      "cell_type": "code",
      "execution_count": null,
      "metadata": {
        "id": "MBn-J1YUDs5J"
      },
      "outputs": [],
      "source": [
        "adversarial_saliency = torch.zeros((10000,1, 28, 28))\n",
        "for m in range(10000):\n",
        "  for i in range(1):\n",
        "    for j in range(28):\n",
        "      for k in range(28):\n",
        "        adversarial_saliency[m][i][j][k]=advs_saliency[10][m][i][j][k].item()"
      ]
    },
    {
      "cell_type": "code",
      "execution_count": null,
      "metadata": {
        "colab": {
          "base_uri": "https://localhost:8080/"
        },
        "id": "rN00zwRbFyxm",
        "outputId": "d6c557c4-7cf6-4de1-d7f4-fbc249ad5bfc"
      },
      "outputs": [
        {
          "name": "stdout",
          "output_type": "stream",
          "text": [
            "sample 0 predict 7 adversaral 3 Label 7\n",
            "sample 1000 predict 9 adversaral 2 Label 9\n",
            "sample 2000 predict 6 adversaral 8 Label 6\n",
            "sample 3000 predict 6 adversaral 8 Label 6\n",
            "sample 4000 predict 9 adversaral 8 Label 9\n",
            "sample 5000 predict 3 adversaral 5 Label 3\n",
            "sample 6000 predict 9 adversaral 7 Label 9\n",
            "sample 7000 predict 1 adversaral 7 Label 1\n",
            "sample 8000 predict 4 adversaral 2 Label 4\n",
            "sample 9000 predict 7 adversaral 2 Label 7\n"
          ]
        }
      ],
      "source": [
        "adversarial_label_saliency = []\n",
        "adversarial_All_saliency = []\n",
        "for i in range(10000):\n",
        "    #adver= adversarial[i].unsqueeze(0).cuda()\n",
        "    adver_saliency= adversarial_saliency[i].unsqueeze(0)\n",
        "\n",
        "    adversarial_All_saliency.append(adver_saliency)\n",
        "    output_adver_saliency = model_saliency(adver_saliency)\n",
        "    predicted_adver_saliency = torch.argmax(output_adver_saliency, dim=1).item()\n",
        "    adversarial_label_saliency.append(predicted_adver_saliency)\n",
        "    if i % 1000==0:\n",
        "       print(\"sample\",i,\"predict\",predicted_s[i],\"adversaral\",adversarial_label_saliency[i], \"Label\", Label_s[i])"
      ]
    },
    {
      "cell_type": "code",
      "execution_count": null,
      "metadata": {
        "id": "CurEDBZFGjcY"
      },
      "outputs": [],
      "source": [
        "adversarial_saliency  = torch.permute(adversarial_saliency[5000],(1,2,0))"
      ]
    },
    {
      "cell_type": "code",
      "execution_count": null,
      "metadata": {
        "colab": {
          "base_uri": "https://localhost:8080/",
          "height": 448
        },
        "id": "g_XYhHipGq-Y",
        "outputId": "c9af90f3-9351-42cf-eee8-f8045df8b003"
      },
      "outputs": [
        {
          "data": {
            "text/plain": [
              "<matplotlib.image.AxesImage at 0x7f9115124460>"
            ]
          },
          "execution_count": 43,
          "metadata": {},
          "output_type": "execute_result"
        },
        {
          "data": {
            "image/png": "[encoded data removed]",
            "text/plain": [
              "<Figure size 640x480 with 1 Axes>"
            ]
          },
          "metadata": {},
          "output_type": "display_data"
        }
      ],
      "source": [
        "import matplotlib.pyplot as plt\n",
        "\n",
        "plt.imshow(adversarial_saliency)"
      ]
    },
    {
      "cell_type": "code",
      "execution_count": null,
      "metadata": {
        "id": "IBY95SRKat4E"
      },
      "outputs": [],
      "source": [
        "adversarial_s_saliency = torch.zeros((10,1, 28, 28))\n",
        "for m in range(10):\n",
        "  for i in range(1):\n",
        "    for j in range(28):\n",
        "      for k in range(28):\n",
        "        adversarial_s_saliency[m][i][j][k]=advs_saliency[m][6000][i][j][k].item()"
      ]
    },
    {
      "cell_type": "code",
      "execution_count": null,
      "metadata": {
        "colab": {
          "base_uri": "https://localhost:8080/"
        },
        "id": "com_DwqCay8c",
        "outputId": "cd2f6339-0ef2-49ca-bf08-25f1fa1d3a23"
      },
      "outputs": [
        {
          "name": "stdout",
          "output_type": "stream",
          "text": [
            "sample 0 predict 9 adversaral 9 Label 9\n",
            "sample 1 predict 9 adversaral 9 Label 9\n",
            "sample 2 predict 9 adversaral 4 Label 9\n",
            "sample 3 predict 9 adversaral 7 Label 9\n",
            "sample 4 predict 9 adversaral 7 Label 9\n",
            "sample 5 predict 9 adversaral 7 Label 9\n",
            "sample 6 predict 9 adversaral 7 Label 9\n",
            "sample 7 predict 9 adversaral 7 Label 9\n",
            "sample 8 predict 9 adversaral 7 Label 9\n",
            "sample 9 predict 9 adversaral 7 Label 9\n"
          ]
        }
      ],
      "source": [
        "adversarial_s_label_saliency = []\n",
        "adversarial_s_All_saliency = []\n",
        "for i in range(10):\n",
        "    #adver= adversarial[i].unsqueeze(0).cuda()\n",
        "    adver= adversarial_s_saliency[i].unsqueeze(0)\n",
        "\n",
        "    adversarial_s_All_saliency.append(adver)\n",
        "    output_adver = model_saliency(adver)\n",
        "    predicted_adver = torch.argmax(output_adver, dim=1).item()\n",
        "    adversarial_s_label_saliency.append(predicted_adver)\n",
        "    print(\"sample\",i,\"predict\",predicted[6000],\"adversaral\",adversarial_s_label_saliency[i], \"Label\", Label[6000])"
      ]
    },
    {
      "cell_type": "code",
      "execution_count": null,
      "metadata": {
        "colab": {
          "base_uri": "https://localhost:8080/",
          "height": 448
        },
        "id": "27KD6k2sa8ba",
        "outputId": "5fb63589-07b2-4ab5-c74f-2232e9a59b81"
      },
      "outputs": [
        {
          "data": {
            "text/plain": [
              "<matplotlib.image.AxesImage at 0x7f910bc15180>"
            ]
          },
          "execution_count": 60,
          "metadata": {},
          "output_type": "execute_result"
        },
        {
          "data": {
            "image/png": "[encoded data removed]",
            "text/plain": [
              "<Figure size 640x480 with 1 Axes>"
            ]
          },
          "metadata": {},
          "output_type": "display_data"
        }
      ],
      "source": [
        "adversarial_ss = torch.permute(adversarial_s_saliency[0],(1,2,0))\n",
        "import matplotlib.pyplot as plt\n",
        "\n",
        "plt.imshow(adversarial_ss)"
      ]
    },
    {
      "cell_type": "code",
      "execution_count": null,
      "metadata": {
        "colab": {
          "base_uri": "https://localhost:8080/",
          "height": 448
        },
        "id": "fyenA94Ra94m",
        "outputId": "84b82550-40e4-4f63-8d11-ee05073ef197"
      },
      "outputs": [
        {
          "data": {
            "text/plain": [
              "<matplotlib.image.AxesImage at 0x7f910aeeab90>"
            ]
          },
          "execution_count": 69,
          "metadata": {},
          "output_type": "execute_result"
        },
        {
          "data": {
            "image/png": "[encoded data removed]",
            "text/plain": [
              "<Figure size 640x480 with 1 Axes>"
            ]
          },
          "metadata": {},
          "output_type": "display_data"
        }
      ],
      "source": [
        "adversarial_ss = torch.permute(adversarial_s_saliency[1],(1,2,0))\n",
        "import matplotlib.pyplot as plt\n",
        "\n",
        "plt.imshow(adversarial_ss)"
      ]
    },
    {
      "cell_type": "code",
      "execution_count": null,
      "metadata": {
        "colab": {
          "base_uri": "https://localhost:8080/",
          "height": 448
        },
        "id": "VNR-x7-La-er",
        "outputId": "6725eacb-90b1-4e78-d4e5-1617b0d3b7fc"
      },
      "outputs": [
        {
          "data": {
            "text/plain": [
              "<matplotlib.image.AxesImage at 0x7f910ae881f0>"
            ]
          },
          "execution_count": 68,
          "metadata": {},
          "output_type": "execute_result"
        },
        {
          "data": {
            "image/png": "[encoded data removed]",
            "text/plain": [
              "<Figure size 640x480 with 1 Axes>"
            ]
          },
          "metadata": {},
          "output_type": "display_data"
        }
      ],
      "source": [
        "adversarial_ss = torch.permute(adversarial_s_saliency[2],(1,2,0))\n",
        "import matplotlib.pyplot as plt\n",
        "\n",
        "plt.imshow(adversarial_ss)"
      ]
    },
    {
      "cell_type": "code",
      "execution_count": null,
      "metadata": {
        "colab": {
          "base_uri": "https://localhost:8080/",
          "height": 448
        },
        "id": "hU2lg26Ga--L",
        "outputId": "cd66e643-21d8-45cd-e4b2-f46f65e5cde3"
      },
      "outputs": [
        {
          "data": {
            "text/plain": [
              "<matplotlib.image.AxesImage at 0x7f910ae08e20>"
            ]
          },
          "execution_count": 67,
          "metadata": {},
          "output_type": "execute_result"
        },
        {
          "data": {
            "image/png": "[encoded data removed]",
            "text/plain": [
              "<Figure size 640x480 with 1 Axes>"
            ]
          },
          "metadata": {},
          "output_type": "display_data"
        }
      ],
      "source": [
        "adversarial_ss = torch.permute(adversarial_s_saliency[3],(1,2,0))\n",
        "import matplotlib.pyplot as plt\n",
        "\n",
        "plt.imshow(adversarial_ss)"
      ]
    },
    {
      "cell_type": "code",
      "execution_count": null,
      "metadata": {
        "colab": {
          "base_uri": "https://localhost:8080/",
          "height": 448
        },
        "id": "fYE_mywYbAPu",
        "outputId": "39e72717-9996-4c52-a2b6-f58b7d4a1495"
      },
      "outputs": [
        {
          "data": {
            "text/plain": [
              "<matplotlib.image.AxesImage at 0x7f910af94c70>"
            ]
          },
          "execution_count": 66,
          "metadata": {},
          "output_type": "execute_result"
        },
        {
          "data": {
            "image/png": "[encoded data removed]",
            "text/plain": [
              "<Figure size 640x480 with 1 Axes>"
            ]
          },
          "metadata": {},
          "output_type": "display_data"
        }
      ],
      "source": [
        "adversarial_ss = torch.permute(adversarial_s_saliency[4],(1,2,0))\n",
        "import matplotlib.pyplot as plt\n",
        "\n",
        "plt.imshow(adversarial_ss)"
      ]
    },
    {
      "cell_type": "code",
      "execution_count": null,
      "metadata": {
        "colab": {
          "base_uri": "https://localhost:8080/",
          "height": 448
        },
        "id": "NCkuF4U2bANm",
        "outputId": "52bdf45e-d36f-4110-8d55-4fa1b1d15e5e"
      },
      "outputs": [
        {
          "data": {
            "text/plain": [
              "<matplotlib.image.AxesImage at 0x7f910af0c460>"
            ]
          },
          "execution_count": 65,
          "metadata": {},
          "output_type": "execute_result"
        },
        {
          "data": {
            "image/png": "[encoded data removed]",
            "text/plain": [
              "<Figure size 640x480 with 1 Axes>"
            ]
          },
          "metadata": {},
          "output_type": "display_data"
        }
      ],
      "source": [
        "adversarial_ss = torch.permute(adversarial_s_saliency[5],(1,2,0))\n",
        "import matplotlib.pyplot as plt\n",
        "\n",
        "plt.imshow(adversarial_ss)"
      ]
    },
    {
      "cell_type": "code",
      "execution_count": null,
      "metadata": {
        "colab": {
          "base_uri": "https://localhost:8080/",
          "height": 448
        },
        "id": "WzBIfbDAbALH",
        "outputId": "7a03aa71-a222-4bab-a02e-29d456cd94c6"
      },
      "outputs": [
        {
          "data": {
            "text/plain": [
              "<matplotlib.image.AxesImage at 0x7f910b09f280>"
            ]
          },
          "execution_count": 64,
          "metadata": {},
          "output_type": "execute_result"
        },
        {
          "data": {
            "image/png": "[encoded data removed]",
            "text/plain": [
              "<Figure size 640x480 with 1 Axes>"
            ]
          },
          "metadata": {},
          "output_type": "display_data"
        }
      ],
      "source": [
        "adversarial_ss = torch.permute(adversarial_s_saliency[6],(1,2,0))\n",
        "import matplotlib.pyplot as plt\n",
        "\n",
        "plt.imshow(adversarial_ss)"
      ]
    },
    {
      "cell_type": "code",
      "execution_count": null,
      "metadata": {
        "colab": {
          "base_uri": "https://localhost:8080/",
          "height": 448
        },
        "id": "SI2uY0gUbAIf",
        "outputId": "0a07f646-214c-410c-a8c5-162e25c97dab"
      },
      "outputs": [
        {
          "data": {
            "text/plain": [
              "<matplotlib.image.AxesImage at 0x7f910b02dbd0>"
            ]
          },
          "execution_count": 63,
          "metadata": {},
          "output_type": "execute_result"
        },
        {
          "data": {
            "image/png": "[encoded data removed]",
            "text/plain": [
              "<Figure size 640x480 with 1 Axes>"
            ]
          },
          "metadata": {},
          "output_type": "display_data"
        }
      ],
      "source": [
        "adversarial_ss = torch.permute(adversarial_s_saliency[7],(1,2,0))\n",
        "import matplotlib.pyplot as plT\n",
        "\n",
        "plt.imshow(adversarial_ss)"
      ]
    },
    {
      "cell_type": "code",
      "execution_count": null,
      "metadata": {
        "colab": {
          "base_uri": "https://localhost:8080/",
          "height": 448
        },
        "id": "huQThjXIbAF-",
        "outputId": "f019028d-d8d0-45e5-cd55-323adf50f835"
      },
      "outputs": [
        {
          "data": {
            "text/plain": [
              "<matplotlib.image.AxesImage at 0x7f910b1c54e0>"
            ]
          },
          "execution_count": 62,
          "metadata": {},
          "output_type": "execute_result"
        },
        {
          "data": {
            "image/png": "[encoded data removed]",
            "text/plain": [
              "<Figure size 640x480 with 1 Axes>"
            ]
          },
          "metadata": {},
          "output_type": "display_data"
        }
      ],
      "source": [
        "adversarial_ss = torch.permute(adversarial_s_saliency[8],(1,2,0))\n",
        "import matplotlib.pyplot as plt\n",
        "\n",
        "plt.imshow(adversarial_ss)"
      ]
    },
    {
      "cell_type": "code",
      "execution_count": null,
      "metadata": {
        "colab": {
          "base_uri": "https://localhost:8080/",
          "height": 448
        },
        "id": "9IuxO1t_bADT",
        "outputId": "4e123841-70ac-44df-878d-b52f321d6866"
      },
      "outputs": [
        {
          "data": {
            "text/plain": [
              "<matplotlib.image.AxesImage at 0x7f910b1502e0>"
            ]
          },
          "execution_count": 61,
          "metadata": {},
          "output_type": "execute_result"
        },
        {
          "data": {
            "image/png": "[encoded data removed]",
            "text/plain": [
              "<Figure size 640x480 with 1 Axes>"
            ]
          },
          "metadata": {},
          "output_type": "display_data"
        }
      ],
      "source": [
        "adversarial_ss = torch.permute(adversarial_s_saliency[9],(1,2,0))\n",
        "import matplotlib.pyplot as plt\n",
        "\n",
        "plt.imshow(adversarial_ss)"
      ]
    },
    {
      "cell_type": "code",
      "source": [
        "print(num_true_list)"
      ],
      "metadata": {
        "colab": {
          "base_uri": "https://localhost:8080/"
        },
        "id": "0rL4RUVrWwzx",
        "outputId": "0eee8d61-f43b-4022-dc24-e8d2e4cdcd6f"
      },
      "execution_count": null,
      "outputs": [
        {
          "output_type": "stream",
          "name": "stdout",
          "text": [
            "[73.0, 220.0, 483.0, 916.0, 1526.0, 2264.0, 2927.0, 3538.0, 4049.0, 4454.0, 4709.0]\n"
          ]
        }
      ]
    },
    {
      "cell_type": "code",
      "source": [
        "print(num_true_saliency_list)"
      ],
      "metadata": {
        "colab": {
          "base_uri": "https://localhost:8080/"
        },
        "id": "OWeHBXtDW2rB",
        "outputId": "3146b8e0-4a65-4cc9-cb7c-594766b2f4c6"
      },
      "execution_count": null,
      "outputs": [
        {
          "output_type": "stream",
          "name": "stdout",
          "text": [
            "[144.0, 373.0, 789.0, 1483.0, 2422.0, 3567.0, 4390.0, 5215.0, 5879.0, 6319.0, 6675.0]\n"
          ]
        }
      ]
    },
    {
      "cell_type": "code",
      "execution_count": null,
      "metadata": {
        "id": "Tf5vPZVxa_lZ"
      },
      "outputs": [],
      "source": [
        "num_true_list = [73.0, 220.0, 483.0, 916.0, 1526.0, 2264.0, 2927.0, 3538.0, 4049.0, 4454.0, 4709.0]\n"
      ]
    },
    {
      "cell_type": "code",
      "execution_count": null,
      "metadata": {
        "id": "GIhNJww7baPt"
      },
      "outputs": [],
      "source": [
        "num_true_saliency_list = [144.0, 373.0, 789.0, 1483.0, 2422.0, 3567.0, 4390.0, 5215.0, 5879.0, 6319.0, 6675.0]\n"
      ]
    },
    {
      "cell_type": "code",
      "execution_count": null,
      "metadata": {
        "colab": {
          "base_uri": "https://localhost:8080/",
          "height": 607
        },
        "id": "ktKhnxHLuYr9",
        "outputId": "23213a9f-4203-41b3-da7e-4800e87b23c0"
      },
      "outputs": [
        {
          "output_type": "display_data",
          "data": {
            "text/plain": [
              "<Figure size 1000x600 with 1 Axes>"
            ],
            "image/png": "[encoded data removed]"
          },
          "metadata": {}
        }
      ],
      "source": [
        "import matplotlib.pyplot as plt\n",
        "\n",
        "# Assuming that my_list, num_true_list, and num_true_saliency_list have been defined\n",
        "thresholds = my_list\n",
        "accuracy_original = [(10000 - num) / 10000 for num in num_true_list]\n",
        "accuracy_saliency = [(10000 - num) / 10000 for num in num_true_saliency_list]\n",
        "\n",
        "plt.figure(figsize=(10,6), tight_layout=True)\n",
        "plt.plot(thresholds, accuracy_original, 'o-', linewidth=2, label='Original Model')\n",
        "plt.plot(thresholds, accuracy_saliency, 'o-', linewidth=2, label='Saliency Model')\n",
        "\n",
        "# Adjusting the font size and font weight for the plot elements\n",
        "plt.xlabel('Epsilon Value of Attack', fontsize=14, fontweight='bold')\n",
        "plt.ylabel('Accuracy', fontsize=14, fontweight='bold')\n",
        "plt.title('Comparison of Models under Face FGSM Attack', fontsize=16, fontweight='bold')\n",
        "plt.legend(fontsize=12, loc='upper right')\n",
        "\n",
        "# Increasing the tick label size\n",
        "plt.xticks(fontsize=12, fontweight='bold')\n",
        "plt.yticks(fontsize=12, fontweight='bold')\n",
        "plt.grid(True, which='both', linestyle='--', linewidth=0.5)\n",
        "\n",
        "\n",
        "plt.show()\n"
      ]
    },
    {
      "cell_type": "code",
      "execution_count": null,
      "metadata": {
        "colab": {
          "base_uri": "https://localhost:8080/",
          "height": 607
        },
        "id": "UvwdJi9aL4XM",
        "outputId": "57169ee2-7784-4c29-d70e-bdafe2b9d563"
      },
      "outputs": [
        {
          "data": {
            "image/png": "[encoded data removed]",
            "text/plain": [
              "<Figure size 1000x600 with 1 Axes>"
            ]
          },
          "metadata": {},
          "output_type": "display_data"
        }
      ],
      "source": [
        "import matplotlib.pyplot as plt\n",
        "\n",
        "#x = [0.001, 0.005, 0.01, 0.03, 0.05, 0.1, 0.15, 0.2,0.3,0.5,1,2,3,4]\n",
        "x = my_list\n",
        "#t1 = [num / 10000 for num in training]\n",
        "#i1 = [num / 10000 for num in important]\n",
        "y2 = [(10000 - num) / 10000 for num in num_true_list]\n",
        "y3 = [(10000 - num) / 10000 for num in num_true_saliency_list]\n",
        "#y4 = [num / 10000 for num in num_true_list_saliency_2]\n",
        "\n",
        "plt.figure(figsize=(10,6), tight_layout=True)\n",
        "#plt.plot(x, t1, 'o-', linewidth=2, label='training')\n",
        "#plt.plot(x, i1, 'o-', linewidth=2, label='masking important number')\n",
        "plt.plot(x, y2, 'o-', linewidth=2, label='traditional model with accuracy = 99.3')\n",
        "plt.plot(x, y3, 'o-', linewidth=2, label='sgd model with accuracy = 98.5')\n",
        "#plt.plot(x, y4, 'o-', linewidth=2, label='sgd model with accuracy = 98.8')\n",
        "\n",
        "plt.xticks(x)\n",
        "plt.xlabel('threshold for masking')\n",
        "plt.ylabel('Accuracy')\n",
        "plt.title('Plot of comapre models wirh face BIM Attack')\n",
        "plt.legend()\n",
        "\n",
        "plt.show()"
      ]
    },
    {
      "cell_type": "code",
      "execution_count": null,
      "metadata": {
        "colab": {
          "base_uri": "https://localhost:8080/",
          "height": 607
        },
        "id": "RSPmBmxbgXgz",
        "outputId": "70c6a63a-f569-41a7-8203-ac3144971647"
      },
      "outputs": [
        {
          "data": {
            "image/png": "[encoded data removed]",
            "text/plain": [
              "<Figure size 1000x600 with 1 Axes>"
            ]
          },
          "metadata": {},
          "output_type": "display_data"
        }
      ],
      "source": [
        "import matplotlib.pyplot as plt\n",
        "\n",
        "#x = [0.001, 0.005, 0.01, 0.03, 0.05, 0.1, 0.15, 0.2,0.3,0.5,1,2,3,4]\n",
        "x= my_list\n",
        "#t1 = [num / 10000 for num in training]\n",
        "#i1 = [num / 10000 for num in important]\n",
        "y2 = [(10000 - num) / 10000 for num in num_true_list]\n",
        "y3 = [(10000 - num) / 10000 for num in num_true_saliency_list]\n",
        "#y4 = [num / 10000 for num in num_true_list_saliency_2]\n",
        "\n",
        "plt.figure(figsize=(10,6), tight_layout=True)\n",
        "#plt.plot(x, t1, 'o-', linewidth=2, label='training')\n",
        "#plt.plot(x, i1, 'o-', linewidth=2, label='masking important number')\n",
        "plt.plot(x, y2, 'o-', linewidth=2, label='TRADITIONAL Model')\n",
        "plt.plot(x, y3, 'o-', linewidth=2, label='SAL MODEL')\n",
        "#plt.plot(x, y4, 'o-', linewidth=2, label='sgd model with accuracy = 98.8')\n",
        "\n",
        "\n",
        "#plt.plot(x, y2, 'o-', linewidth=2, label='TRADITIONAL model with accuracy = 99.3')\n",
        "#plt.plot(x, y3, 'o-', linewidth=2, label='SAL MODEL with accuracy = 98.8')\n",
        "\n",
        "plt.xticks(x)\n",
        "plt.xlabel('Epsilon Value of Attack')\n",
        "plt.ylabel('Accuracy')\n",
        "plt.title('Comparison of Models with Face BIM Attack')\n",
        "plt.legend()\n",
        "\n",
        "plt.show()"
      ]
    },
    {
      "cell_type": "code",
      "execution_count": null,
      "metadata": {
        "colab": {
          "base_uri": "https://localhost:8080/"
        },
        "id": "rI6wJKFyFAjw",
        "outputId": "52597bbf-d78b-4316-f788-245a9606e938"
      },
      "outputs": [
        {
          "name": "stdout",
          "output_type": "stream",
          "text": [
            "Number of True values: 147.0\n",
            "Number of True values: 158.0\n",
            "Number of True values: 156.0\n",
            "Number of True values: 220.0\n",
            "Number of True values: 246.0\n",
            "Number of True values: 417.0\n",
            "Number of True values: 725.0\n",
            "Number of True values: 1096.0\n",
            "Number of True values: 2197.0\n",
            "Number of True values: 4579.0\n",
            "Number of True values: 6811.0\n",
            "Number of True values: 7946.0\n",
            "Number of True values: 8478.0\n",
            "Number of True values: 8485.0\n"
          ]
        }
      ],
      "source": [
        "import torch\n",
        "\n",
        "# Assuming you have a tensor named 'tensor' with shape (2000,) containing boolean values\n",
        "\n",
        "# Count the number of True values in the tensor\n",
        "for l in range(14):\n",
        "    num_true_saliency = torch.sum(successs_saliency[l]).item()\n",
        "    print(\"Number of True values:\", num_true_saliency)"
      ]
    },
    {
      "cell_type": "code",
      "execution_count": null,
      "metadata": {
        "colab": {
          "base_uri": "https://localhost:8080/"
        },
        "id": "prHnfFdl1BBD",
        "outputId": "54efac44-b8c7-4893-b8a9-80e6d894aded"
      },
      "outputs": [
        {
          "name": "stderr",
          "output_type": "stream",
          "text": [
            "/usr/local/lib/python3.10/dist-packages/foolbox/utils.py:80: UserWarning: samples() has only 20 samples and repeats itself if batchsize > 20\n",
            "  warnings.warn(\n"
          ]
        }
      ],
      "source": [
        "imagesss, labelsss = ep.astensors(*samples(fmodel_saliency, dataset=\"MNIST\", batchsize=2000))"
      ]
    },
    {
      "cell_type": "code",
      "execution_count": null,
      "metadata": {
        "colab": {
          "base_uri": "https://localhost:8080/"
        },
        "id": "Wc9_Qu5AfyXM",
        "outputId": "3a170e35-7e85-4b0e-e758-decc7013c000"
      },
      "outputs": [
        {
          "name": "stdout",
          "output_type": "stream",
          "text": [
            "torch.Size([2000, 1, 28, 28])\n"
          ]
        }
      ],
      "source": [
        "import torch\n",
        "\n",
        "# Assuming your list of images is stored in the variable \"images\"\n",
        "#images = torch.randn(10000, 1, 28, 28)\n",
        "print(imagesss.shape)\n",
        "pic = torch.zeros((2000, 1, 28, 28))\n",
        "\n",
        "for m in range(2000):\n",
        "  for i in range(1):\n",
        "    for j in range(28):\n",
        "      for k in range(28):\n",
        "        pic[m][i][j][k]=imagesss[m][i][j][k].item()\n"
      ]
    },
    {
      "cell_type": "code",
      "execution_count": null,
      "metadata": {
        "colab": {
          "base_uri": "https://localhost:8080/"
        },
        "id": "Ua_NPLdagNbl",
        "outputId": "f555ec4a-c4b1-4dbf-ccba-dcc3d0981fd1"
      },
      "outputs": [
        {
          "name": "stdout",
          "output_type": "stream",
          "text": [
            "Mean: 0.41446569561958313\n"
          ]
        }
      ],
      "source": [
        "# Calculate the mean\n",
        "mean = torch.mean(pic)\n",
        "\n",
        "# Print the mean\n",
        "print(\"Mean:\", mean.item())"
      ]
    },
    {
      "cell_type": "code",
      "execution_count": null,
      "metadata": {
        "colab": {
          "base_uri": "https://localhost:8080/"
        },
        "id": "OxLjcX4fgRgR",
        "outputId": "ab0947ae-66fc-49ac-dd33-8754ffd30d5d"
      },
      "outputs": [
        {
          "name": "stdout",
          "output_type": "stream",
          "text": [
            "std: 1.097611427307129\n"
          ]
        }
      ],
      "source": [
        "# Calculate the mean\n",
        "std = torch.std(pic)\n",
        "\n",
        "# Print the mean\n",
        "print(\"std:\", std.item())"
      ]
    },
    {
      "cell_type": "code",
      "execution_count": null,
      "metadata": {
        "colab": {
          "base_uri": "https://localhost:8080/"
        },
        "id": "clemppQYA_RA",
        "outputId": "2746607d-cf73-4d88-8f51-9095c1e7edd4"
      },
      "outputs": [
        {
          "name": "stdout",
          "output_type": "stream",
          "text": [
            "std: -0.4242129623889923\n"
          ]
        }
      ],
      "source": [
        "# Calculate the mean\n",
        "min = torch.min(pic)\n",
        "\n",
        "# Print the mean\n",
        "print(\"min:\", min.item())"
      ]
    },
    {
      "cell_type": "code",
      "execution_count": null,
      "metadata": {
        "colab": {
          "base_uri": "https://localhost:8080/"
        },
        "id": "zPk-ZIKgBIfv",
        "outputId": "a8d0210e-5864-4c77-d3a7-9399ade7067f"
      },
      "outputs": [
        {
          "name": "stdout",
          "output_type": "stream",
          "text": [
            "max: 2.821486711502075\n"
          ]
        }
      ],
      "source": [
        "# Calculate the mean\n",
        "max = torch.max(pic)\n",
        "\n",
        "# Print the mean\n",
        "print(\"max:\", max.item())"
      ]
    },
    {
      "cell_type": "code",
      "execution_count": null,
      "metadata": {
        "id": "86yCbZeC29to"
      },
      "outputs": [],
      "source": [
        "import numpy as np\n",
        "\n",
        "def min_max_scale(image, min1, max1, min2, max2):\n",
        "    # Convert image to numpy array\n",
        "    image_array = np.array(image)\n",
        "\n",
        "    # Scale the image to the range [0, 1]\n",
        "    scaled_image = (image_array - min1) / (max1 - min1)\n",
        "\n",
        "    # Scale the image to the new range [min2, max2]\n",
        "    scaled_image = (scaled_image * (max2 - min2)) + min2\n",
        "\n",
        "    return scaled_image\n",
        "\n",
        "# Example usage\n",
        "# Assuming you have an image tensor named 'image' with shape (28, 28)\n",
        "\n",
        "# Define the current minimum and maximum values\n",
        "current_min = min1\n",
        "current_max = max1\n",
        "\n",
        "# Define the new minimum and maximum values\n",
        "new_min = -0.4242129623889923\n",
        "new_max = 2.821486711502075\n",
        "\n",
        "# Perform min-max scaling on the image tensor\n",
        "scaled_image = min_max_scale(imagesss, current_min, current_max, new_min, new_max)\n"
      ]
    },
    {
      "cell_type": "code",
      "execution_count": null,
      "metadata": {
        "colab": {
          "base_uri": "https://localhost:8080/"
        },
        "id": "q9_v7TnI02b4",
        "outputId": "468f3ace-f01d-4a39-cbc8-dcc2dd0b9c94"
      },
      "outputs": [
        {
          "name": "stdout",
          "output_type": "stream",
          "text": [
            "clean accuracy: 10.0%\n"
          ]
        }
      ],
      "source": [
        "clean_acc = accuracy(fmodel, pic, labelsss)\n",
        "print(f\"clean accuracy: {clean_acc * 100:.1f}%\")"
      ]
    },
    {
      "cell_type": "code",
      "execution_count": null,
      "metadata": {
        "colab": {
          "base_uri": "https://localhost:8080/"
        },
        "id": "rco76dR-f_cY",
        "outputId": "1508c938-b0e3-47a5-ad72-692800ee4e69"
      },
      "outputs": [
        {
          "name": "stdout",
          "output_type": "stream",
          "text": [
            "images.shape torch.Size([2000, 1, 28, 28])\n",
            "labels.shape torch.Size([2000])\n",
            "clean accuracy: 10.0%\n"
          ]
        }
      ],
      "source": [
        "import eagerpy as ep\n",
        "from foolbox import PyTorchModel, accuracy, samples\n",
        "import foolbox as fb\n",
        "\n",
        "fmodell = PyTorchModel(model_without, bounds=(0, 1), )\n",
        "\n",
        "imagess, labelss = ep.astensors(*samples(fmodel, dataset=\"MNIST\", batchsize=2000))\n",
        "\n",
        "print(\"images.shape\", imagess.shape)\n",
        "print(\"labels.shape\", labelss.shape)\n",
        "\n",
        "#Mean: tensor(0.2549)\n",
        "#Standard Deviation: tensor(1.2192)\n",
        "\n",
        "#mean_images = (0.2549 - 0.1673)\n",
        "#std_images = (0.2696/1.2192)\n",
        "\n",
        "mean__images =  0.45\n",
        "std__images = 3.1\n",
        "\n",
        "normalized_images = (imagess - mean__images) / std__images\n",
        "\n",
        "normalized_images = (imagess *  std__images)  - mean__images\n",
        "\n",
        "\n",
        "clean_acc = accuracy(fmodel, normalized_images, labelss)\n",
        "print(f\"clean accuracy: {clean_acc * 100:.1f}%\")"
      ]
    },
    {
      "cell_type": "code",
      "execution_count": null,
      "metadata": {
        "colab": {
          "base_uri": "https://localhost:8080/"
        },
        "id": "xAD6znZLD3F9",
        "outputId": "e8db6a52-4704-457c-d7b5-b0bcb1bdfda9"
      },
      "outputs": [
        {
          "name": "stdout",
          "output_type": "stream",
          "text": [
            "image_rescaled_min: -0.2048330157995224\n",
            "image_rescaled_max: 0.6217069625854492\n"
          ]
        }
      ],
      "source": [
        "import numpy as np\n",
        "\n",
        "def change_image_statistics(image, mean1, min1, max1, std1, mean2, min2, max2, std2):\n",
        "    # Normalize image tensor\n",
        "    image_normalized = (image - mean1) / std1\n",
        "\n",
        "    # Rescale image tensor\n",
        "    image_rescaled = (image_normalized * std2) + mean2\n",
        "\n",
        "    # Clip pixel values to desired range\n",
        "    image_rescaled = np.clip(image_rescaled, min2, max2)\n",
        "    # Calculate the mean\n",
        "    image_rescaled_min = torch.min(image_rescaled)\n",
        "    image_rescaled_max = torch.max(image_rescaled)\n",
        "\n",
        "    # Print the min and max\n",
        "    print(\"image_rescaled_min:\", image_rescaled_min.item())\n",
        "    print(\"image_rescaled_max:\", image_rescaled_max.item())\n",
        "\n",
        "    return image_rescaled\n",
        "\n",
        "# Assuming you have an image tensor of shape (28, 28)\n",
        "image = pic\n",
        "\n",
        "# Define the current statistics\n",
        "mean1 = mean\n",
        "min1 = min\n",
        "max1 = max\n",
        "std1 = std\n",
        "\n",
        "# Define the desired statistics\n",
        "mean2 = mean_t\n",
        "min2 = min_t\n",
        "max2 = max_t\n",
        "std2 = std_t\n",
        "\n",
        "# Change image statistics\n",
        "modified_image = change_image_statistics(image, mean1, min1, max1, std1, mean2, min2, max2, std2)\n"
      ]
    },
    {
      "cell_type": "code",
      "execution_count": null,
      "metadata": {
        "colab": {
          "base_uri": "https://localhost:8080/"
        },
        "id": "mC5MmcvTEZ1n",
        "outputId": "a22e3860-c9fe-4283-a16c-b50da22dfae8"
      },
      "outputs": [
        {
          "name": "stdout",
          "output_type": "stream",
          "text": [
            "clean accuracy: 10.0%\n"
          ]
        }
      ],
      "source": [
        "clean_acc = accuracy(fmodel, modified_image, labelss)\n",
        "print(f\"clean accuracy: {clean_acc * 100:.1f}%\")"
      ]
    },
    {
      "cell_type": "code",
      "execution_count": null,
      "metadata": {
        "colab": {
          "base_uri": "https://localhost:8080/"
        },
        "id": "SlB-jWI5AANz",
        "outputId": "95794a75-24e3-423b-a7de-75e14c58025a"
      },
      "outputs": [
        {
          "data": {
            "text/plain": [
              "tensor([[[-0.7641, -0.7641, -0.7641, -0.7641, -0.7641, -0.7641, -0.7641,\n",
              "          -0.7641, -0.7641, -0.7641, -0.7641, -0.7641, -0.7641, -0.7641,\n",
              "          -0.7641, -0.7641, -0.7641, -0.7641, -0.7641, -0.7641, -0.7641,\n",
              "          -0.7641, -0.7641, -0.7641, -0.7641, -0.7641, -0.7641, -0.7641],\n",
              "         [-0.7641, -0.7641, -0.7641, -0.7641, -0.7641, -0.7641, -0.7641,\n",
              "          -0.7641, -0.7641, -0.7641, -0.7641, -0.7641, -0.7641, -0.7641,\n",
              "          -0.7641, -0.7641, -0.7641, -0.7641, -0.7641, -0.7641, -0.7641,\n",
              "          -0.7641, -0.7641, -0.7641, -0.7641, -0.7641, -0.7641, -0.7641],\n",
              "         [-0.7641, -0.7641, -0.7641, -0.7641, -0.7641, -0.7641, -0.7641,\n",
              "          -0.7641, -0.7641, -0.7641, -0.7641, -0.7641, -0.7641, -0.7641,\n",
              "          -0.7641, -0.7641, -0.7641, -0.7641, -0.7641, -0.7641, -0.7641,\n",
              "          -0.7641, -0.7641, -0.7641, -0.7641, -0.7641, -0.7641, -0.7641],\n",
              "         [-0.7641, -0.7641, -0.7641, -0.7641, -0.7641, -0.7641, -0.7641,\n",
              "          -0.7641, -0.7641, -0.7641, -0.7641, -0.7641, -0.7641, -0.7641,\n",
              "          -0.7641, -0.7641, -0.7641, -0.7641, -0.7641, -0.7641, -0.7641,\n",
              "          -0.7641, -0.7641, -0.7641, -0.7641, -0.7641, -0.7641, -0.7641],\n",
              "         [-0.7641, -0.7641, -0.7641, -0.7641, -0.7641, -0.7641, -0.7641,\n",
              "          -0.7641, -0.7641, -0.7641, -0.7641, -0.7641, -0.7641, -0.7641,\n",
              "          -0.7641, -0.7641, -0.7641, -0.7641, -0.7641, -0.7641, -0.7641,\n",
              "          -0.7641, -0.7641, -0.7641, -0.7641, -0.7641, -0.7641, -0.7641],\n",
              "         [-0.7641, -0.7641, -0.7641, -0.7641, -0.7641, -0.7641, -0.7641,\n",
              "          -0.7641, -0.7641, -0.7641, -0.7641, -0.7641, -0.7641, -0.7641,\n",
              "          -0.7641, -0.7641, -0.7641, -0.7641, -0.7641, -0.7641, -0.7641,\n",
              "          -0.7641, -0.7641, -0.7641, -0.7641, -0.7641, -0.7641, -0.7641],\n",
              "         [-0.7641, -0.7641, -0.7641, -0.7641, -0.7641, -0.7641, -0.7641,\n",
              "          -0.7641, -0.7641, -0.7641, -0.7641, -0.7641, -0.7641, -0.7641,\n",
              "          -0.7641, -0.7641, -0.7641, -0.7641, -0.7641, -0.7641, -0.7641,\n",
              "          -0.7641, -0.7641, -0.7641, -0.7641, -0.7641, -0.7641, -0.7641],\n",
              "         [-0.7641, -0.7641, -0.7641, -0.7641, -0.7641, -0.7641, -0.7641,\n",
              "          -0.7641, -0.7641, -0.7641, -0.7641, -0.7641, -0.7641, -0.7641,\n",
              "          -0.7641, -0.7641, -0.7641, -0.7641, -0.7641, -0.7291, -0.7524,\n",
              "          -0.7641, -0.7641, -0.6823, -0.7641, -0.3317, -0.7641, -0.7641],\n",
              "         [-0.7641, -0.7641, -0.7641, -0.7641, -0.7641, -0.7641, -0.7641,\n",
              "          -0.7641, -0.7641, -0.7641, -0.7641, -0.7641, -0.7641, -0.7524,\n",
              "          -0.7407, -0.7641, -0.4486,  0.2175, -0.6356, -0.7641, -0.7641,\n",
              "          -0.7641, -0.7641, -0.7641, -0.7641,  0.6265, -0.7641, -0.7641],\n",
              "         [-0.7641, -0.7641, -0.7641, -0.7641, -0.7641, -0.7641, -0.7641,\n",
              "          -0.7641, -0.7641, -0.7641, -0.7641, -0.7641, -0.7641, -0.7524,\n",
              "          -0.7641, -0.7641,  0.2643,  0.9070,  0.5213, -0.7641, -0.7641,\n",
              "          -0.7641, -0.7641, -0.5070,  0.3227,  0.4746, -0.7641, -0.7641],\n",
              "         [-0.7641, -0.7641, -0.7641, -0.7641, -0.7641, -0.7641, -0.7641,\n",
              "          -0.7641, -0.7641, -0.7641, -0.7641, -0.7641, -0.7641, -0.7174,\n",
              "          -0.7641, -0.1448,  0.7434,  0.6382,  0.9537,  1.2809,  1.0706,\n",
              "           1.1758,  0.8135,  1.0355,  1.1991,  0.8719, -0.7641, -0.7641],\n",
              "         [-0.7641, -0.7641, -0.7641, -0.7641, -0.7641, -0.7641, -0.7641,\n",
              "          -0.7641, -0.7641, -0.7641, -0.7641, -0.7641, -0.7407, -0.7641,\n",
              "          -0.6356,  0.8369,  0.7551,  0.7317,  1.1056,  1.2926,  1.0939,\n",
              "           1.1874,  1.3160,  0.9771,  1.0005,  0.9187, -0.7641, -0.7641],\n",
              "         [-0.7641, -0.7641, -0.7641, -0.7641, -0.7641, -0.7641, -0.7524,\n",
              "          -0.7641, -0.7407, -0.7524, -0.7641, -0.7291, -0.7641, -0.7641,\n",
              "           0.5798,  0.5681,  0.4746,  0.8369,  1.1991,  1.0238,  1.0589,\n",
              "           1.1641,  1.1874,  0.9070,  1.0706,  1.0823, -0.6356, -0.7641],\n",
              "         [-0.7641, -0.7641, -0.7641, -0.7641, -0.7524, -0.7641, -0.7641,\n",
              "          -0.7641, -0.7641, -0.7641, -0.7291, -0.7641, -0.7641,  0.2759,\n",
              "           0.8602,  0.2876,  0.3344,  1.0238,  0.9771,  0.7667,  1.0005,\n",
              "           1.2108,  1.2459,  0.9070,  1.0939,  1.2108, -0.2032, -0.7641],\n",
              "         [-0.7641, -0.7641, -0.7641, -0.7641, -0.7641, -0.7641, -0.7407,\n",
              "          -0.7174, -0.7524, -0.7641, -0.7641, -0.7641,  0.3811,  0.8252,\n",
              "           0.5213,  0.5097,  0.5213,  1.1290,  0.8135,  0.9187,  0.9771,\n",
              "           1.0939,  1.1874,  0.9187,  1.0823,  1.2108,  0.6265, -0.7641],\n",
              "         [-0.7641, -0.7641, -0.7407, -0.7407, -0.7524, -0.7407, -0.7641,\n",
              "          -0.7641, -0.7641, -0.7641, -0.4603,  0.4980,  0.6031,  0.3928,\n",
              "           0.5330,  0.6031,  0.8252,  1.0589,  0.8018,  1.0355,  1.0355,\n",
              "           1.0589,  1.1056,  0.8836,  0.9537,  1.0589,  1.3160, -0.7641],\n",
              "         [-0.7291, -0.7641, -0.7641, -0.7641, -0.7641, -0.7641, -0.7641,\n",
              "          -0.5187, -0.1448,  0.3110,  0.6031,  0.5330,  0.4395,  0.5798,\n",
              "           0.7434,  0.8018,  0.9070,  1.0355,  1.1641,  1.2225,  1.0355,\n",
              "           1.0005,  1.0355,  0.9070,  0.8485,  0.9888,  1.1641, -0.2616],\n",
              "         [-0.7641, -0.7641, -0.4953, -0.1331, -0.0045,  0.1240,  0.2292,\n",
              "           0.6148,  0.7317,  0.6733,  0.5330,  0.5564,  0.6148,  0.7200,\n",
              "           0.6966,  0.8602,  0.7901,  0.8252,  1.1056,  0.8719,  1.0472,\n",
              "           1.1173,  0.9187,  1.0472,  1.2459,  1.1173,  1.4445, -0.0396],\n",
              "         [-0.7641,  0.0305,  0.3344,  0.2876,  0.5330,  0.5681,  0.5330,\n",
              "           0.5681,  0.5798,  0.7200,  0.8135,  0.8252,  0.9070,  0.7083,\n",
              "           0.7200,  1.0005,  1.0355,  0.9070,  0.9654,  0.6966,  1.1290,\n",
              "           1.1290,  0.9187,  0.8485,  1.0238,  1.1290,  1.5263, -0.0863],\n",
              "         [ 0.0539,  1.2108,  0.7434,  0.4512,  0.3811,  0.4045,  0.3344,\n",
              "           0.3694,  0.3811,  0.4279,  0.4980,  0.4746,  0.6265,  0.6382,\n",
              "           0.7434,  0.9771,  1.0589,  1.1874,  1.4562,  1.4562,  1.5263,\n",
              "           1.5497,  1.5497,  1.4212,  1.5380,  1.4445,  1.3861, -0.3434],\n",
              "         [-0.5771,  0.7083,  1.2342,  1.4328,  1.4328,  1.3861,  1.2342,\n",
              "           1.0238,  0.8135,  0.6382,  0.7083,  0.7200,  0.9420,  1.3978,\n",
              "           1.5146,  1.6782,  1.6666,  2.2158,  1.6782,  1.3043,  2.0989,\n",
              "           2.1807,  2.1691,  2.1691,  2.1223,  1.8068,  1.6432, -0.1915],\n",
              "         [-0.7641, -0.7641, -0.7641, -0.6239,  0.0188,  0.4746,  1.1524,\n",
              "           1.3978,  1.5614,  1.6899,  1.7016,  1.6899,  1.6666,  1.4562,\n",
              "           0.9888,  0.1941, -0.6706, -0.7641, -0.7641, -0.7641,  1.3160,\n",
              "           1.6666,  1.4328,  1.2809,  1.1290,  1.0823,  1.0005, -0.6356],\n",
              "         [-0.7641, -0.7641, -0.7641, -0.7641, -0.7641, -0.7641, -0.7641,\n",
              "          -0.7641, -0.7641, -0.7641, -0.7641, -0.7641, -0.7641, -0.7641,\n",
              "          -0.7641, -0.7641, -0.7641, -0.7641, -0.7641, -0.7641, -0.7641,\n",
              "          -0.7641, -0.7641, -0.7641, -0.7641, -0.7641, -0.7641, -0.7641],\n",
              "         [-0.7641, -0.7641, -0.7641, -0.7641, -0.7641, -0.7641, -0.7641,\n",
              "          -0.7641, -0.7641, -0.7641, -0.7641, -0.7641, -0.7641, -0.7641,\n",
              "          -0.7641, -0.7641, -0.7641, -0.7641, -0.7641, -0.7641, -0.7641,\n",
              "          -0.7641, -0.7641, -0.7641, -0.7641, -0.7641, -0.7641, -0.7641],\n",
              "         [-0.7641, -0.7641, -0.7641, -0.7641, -0.7641, -0.7641, -0.7641,\n",
              "          -0.7641, -0.7641, -0.7641, -0.7641, -0.7641, -0.7641, -0.7641,\n",
              "          -0.7641, -0.7641, -0.7641, -0.7641, -0.7641, -0.7641, -0.7641,\n",
              "          -0.7641, -0.7641, -0.7641, -0.7641, -0.7641, -0.7641, -0.7641],\n",
              "         [-0.7641, -0.7641, -0.7641, -0.7641, -0.7641, -0.7641, -0.7641,\n",
              "          -0.7641, -0.7641, -0.7641, -0.7641, -0.7641, -0.7641, -0.7641,\n",
              "          -0.7641, -0.7641, -0.7641, -0.7641, -0.7641, -0.7641, -0.7641,\n",
              "          -0.7641, -0.7641, -0.7641, -0.7641, -0.7641, -0.7641, -0.7641],\n",
              "         [-0.7641, -0.7641, -0.7641, -0.7641, -0.7641, -0.7641, -0.7641,\n",
              "          -0.7641, -0.7641, -0.7641, -0.7641, -0.7641, -0.7641, -0.7641,\n",
              "          -0.7641, -0.7641, -0.7641, -0.7641, -0.7641, -0.7641, -0.7641,\n",
              "          -0.7641, -0.7641, -0.7641, -0.7641, -0.7641, -0.7641, -0.7641],\n",
              "         [-0.7641, -0.7641, -0.7641, -0.7641, -0.7641, -0.7641, -0.7641,\n",
              "          -0.7641, -0.7641, -0.7641, -0.7641, -0.7641, -0.7641, -0.7641,\n",
              "          -0.7641, -0.7641, -0.7641, -0.7641, -0.7641, -0.7641, -0.7641,\n",
              "          -0.7641, -0.7641, -0.7641, -0.7641, -0.7641, -0.7641, -0.7641]]])"
            ]
          },
          "execution_count": 35,
          "metadata": {},
          "output_type": "execute_result"
        }
      ],
      "source": [
        "normalized_images[0]"
      ]
    },
    {
      "cell_type": "code",
      "execution_count": null,
      "metadata": {
        "id": "vc9GDVSxC_cq"
      },
      "outputs": [],
      "source": [
        "import torch\n",
        "import torchvision.transforms as transforms\n",
        "\"\"\"\n",
        "# Assuming you have a tensor named 'image' with shape (channels, height, width)\n",
        "# Convert the tensor to a PIL image\n",
        "to_pil = transforms.ToPILImage()\n",
        "pil_image = to_pil(image)\n",
        "\n",
        "# Resize the PIL image to (28, 28)\n",
        "resized_image = pil_image.resize((28, 28), Image.BILINEAR)\n",
        "\n",
        "# Convert the resized PIL image back to a tensor\n",
        "to_tensor = transforms.ToTensor()\n",
        "resized_tensor = to_tensor(resized_image)\n",
        "\n",
        "# Calculate the mean, min, max, and std of the resized tensor\n",
        "mean = resized_tensor.mean()\n",
        "min_value = resized_tensor.min()\n",
        "max_value = resized_tensor.max()\n",
        "std = resized_tensor.std()\n",
        "\n",
        "\"\"\"\n",
        "# Normalize the resized tensor to have mean=mean1 and std=std1\n",
        "normalized_tensor = (pic - mean) / std\n",
        "\n",
        "# Adjust the statistics of the normalized tensor\n",
        "adjusted_tensor = (normalized_tensor * std2) + mean2\n",
        "adjusted_tensor = torch.clamp(adjusted_tensor, min2, max2)\n",
        "\n",
        "# Rescale the tensor back to the original range\n",
        "rescaled_tensor = ((adjusted_tensor - mean2) * (max1 - min1) / (max2 - min2)) + mean1\n",
        "rescaled_tensor = torch.clamp(rescaled_tensor, min1, max1)\n"
      ]
    },
    {
      "cell_type": "code",
      "execution_count": null,
      "metadata": {
        "colab": {
          "base_uri": "https://localhost:8080/"
        },
        "id": "CopDMRyl-qeP",
        "outputId": "c8782187-6528-4f42-f070-693e92bcef4a"
      },
      "outputs": [
        {
          "name": "stdout",
          "output_type": "stream",
          "text": [
            "New Mean: 0.005889667198061943\n",
            "New Standard Deviation: 1.007725715637207\n"
          ]
        }
      ],
      "source": [
        "import torch\n",
        "\n",
        "# Assuming you have a tensor of images with shape [num_images, 28, 28]\n",
        "#images = torch.randn(num_images, 28, 28)\n",
        "\n",
        "# Calculate the current mean and standard deviation\n",
        "#current_mean = torch.mean(images)\n",
        "#current_std = torch.std(images)\n",
        "current_mean = 0.25839686393737793\n",
        "current_std = 0.338174045085907\n",
        "\n",
        "# Set the target mean and standard deviation\n",
        "target_mean = 0.005889657884836197\n",
        "target_std = 1.007725715637207\n",
        "\n",
        "# Normalize the images to the target mean and standard deviation\n",
        "normalized_images = (pic - current_mean) * (target_std / current_std) + target_mean\n",
        "\n",
        "# Print the new mean and standard deviation\n",
        "new_mean = torch.mean(normalized_images)\n",
        "new_std = torch.std(normalized_images)\n",
        "print(\"New Mean:\", new_mean.item())\n",
        "print(\"New Standard Deviation:\", new_std.item())"
      ]
    },
    {
      "cell_type": "code",
      "execution_count": null,
      "metadata": {
        "colab": {
          "base_uri": "https://localhost:8080/"
        },
        "id": "ryZGhQRt_W81",
        "outputId": "1807bb50-ed65-404e-df0b-b62e82b585ab"
      },
      "outputs": [
        {
          "name": "stdout",
          "output_type": "stream",
          "text": [
            "clean accuracy: 0.0%\n"
          ]
        }
      ],
      "source": [
        "clean_acc = accuracy(fmodel, normalized_images, labelss)\n",
        "print(f\"clean accuracy: {clean_acc * 100:.1f}%\")"
      ]
    },
    {
      "cell_type": "code",
      "execution_count": null,
      "metadata": {
        "colab": {
          "base_uri": "https://localhost:8080/"
        },
        "id": "01tvhAqGI6WQ",
        "outputId": "3cf53143-3ee3-47aa-8fac-7d604ad095ac"
      },
      "outputs": [
        {
          "name": "stdout",
          "output_type": "stream",
          "text": [
            "images.shape torch.Size([10000, 1, 28, 28])\n",
            "labels.shape torch.Size([10000])\n",
            "Clean accuracy: 99.3%\n"
          ]
        }
      ],
      "source": [
        "import eagerpy as ep\n",
        "from foolbox import PyTorchModel, accuracy\n",
        "import foolbox as fb\n",
        "import torchvision.transforms as transforms\n",
        "from torchvision.datasets import MNIST\n",
        "import numpy as np\n",
        "import torch\n",
        "\n",
        "# Define the transform for test data\n",
        "transform = transforms.Compose([\n",
        "    transforms.ToTensor(),\n",
        "    transforms.Normalize((0.1307,), (0.3081,))\n",
        "])\n",
        "\n",
        "# Load the MNIST test dataset with the defined transform\n",
        "test_dataset = MNIST(root='path/to/dataset', train=False, download=True, transform=transform)\n",
        "\n",
        "# Create a PyTorch model\n",
        "model = model_without  # Your MNIST model initialization here\n",
        "\n",
        "# Create the Foolbox model\n",
        "fmodel = PyTorchModel(model, bounds=(0, 1))\n",
        "\n",
        "# Prepare the test samples\n",
        "images = []\n",
        "labels = []\n",
        "for i in range(len(test_dataset)):\n",
        "    image, label = test_dataset[i]\n",
        "    images.append(image)\n",
        "    labels.append(label)\n",
        "\n",
        "# Convert the test samples to PyTorch tensors\n",
        "images_ = torch.stack(images)\n",
        "labels_ = torch.tensor(labels)\n",
        "\n",
        "# Convert the PyTorch tensors to eagerpy tensors\n",
        "images__ = ep.astensor(images_)\n",
        "labels__ = ep.astensor(labels_)\n",
        "print(\"images.shape\", images__.shape)\n",
        "print(\"labels.shape\", labels__.shape)\n",
        "\n",
        "# Calculate clean accuracy\n",
        "clean_acc = accuracy(fmodel, images__, labels__)\n",
        "print(f\"Clean accuracy: {clean_acc * 100:.1f}%\")\n"
      ]
    },
    {
      "cell_type": "code",
      "execution_count": null,
      "metadata": {
        "colab": {
          "base_uri": "https://localhost:8080/"
        },
        "id": "gQ8djVDHIVyN",
        "outputId": "851dd2cb-be30-4af8-cd36-088359075d52"
      },
      "outputs": [
        {
          "name": "stdout",
          "output_type": "stream",
          "text": [
            "Mean: tensor(0.2549)\n",
            "Standard Deviation: tensor(1.2192)\n"
          ]
        }
      ],
      "source": [
        "import torch\n",
        "\n",
        "# Assuming your list of images is stored in the variable \"images\"\n",
        "#images = torch.randn(10000, 1, 28, 28)\n",
        "\n",
        "# Reshape the images tensor to flatten the spatial dimensions\n",
        "images_flat = image.view(-1, 28*28)\n",
        "\n",
        "# Calculate the mean and standard deviation\n",
        "mean = torch.mean(images_flat)#, dim=0)\n",
        "std = torch.std(images_flat)#, dim=0)\n",
        "\n",
        "# Print the mean and standard deviation\n",
        "print(\"Mean:\", mean)\n",
        "print(\"Standard Deviation:\", std)\n"
      ]
    },
    {
      "cell_type": "code",
      "execution_count": null,
      "metadata": {
        "id": "MOExhWPGHcds"
      },
      "outputs": [],
      "source": [
        "images[0].max"
      ]
    },
    {
      "cell_type": "code",
      "execution_count": null,
      "metadata": {
        "id": "iLs6guxgH1Ii"
      },
      "outputs": [],
      "source": [
        "imagess[0].max"
      ]
    },
    {
      "cell_type": "code",
      "execution_count": null,
      "metadata": {
        "colab": {
          "base_uri": "https://localhost:8080/",
          "height": 235
        },
        "id": "zVvGwZ69BCAf",
        "outputId": "f8b8660f-1a46-4ed5-ef0a-17f6609cf197"
      },
      "outputs": [
        {
          "ename": "AttributeError",
          "evalue": "ignored",
          "output_type": "error",
          "traceback": [
            "\u001b[0;31m---------------------------------------------------------------------------\u001b[0m",
            "\u001b[0;31mAttributeError\u001b[0m                            Traceback (most recent call last)",
            "\u001b[0;32m<ipython-input-40-068e46ff6b77>\u001b[0m in \u001b[0;36m<cell line: 7>\u001b[0;34m()\u001b[0m\n\u001b[1;32m      5\u001b[0m \u001b[0;34m\u001b[0m\u001b[0m\n\u001b[1;32m      6\u001b[0m \u001b[0;31m# Reshape the tensor to [num_images, num_pixels]\u001b[0m\u001b[0;34m\u001b[0m\u001b[0;34m\u001b[0m\u001b[0m\n\u001b[0;32m----> 7\u001b[0;31m \u001b[0mreshaped_images\u001b[0m \u001b[0;34m=\u001b[0m \u001b[0mimages\u001b[0m\u001b[0;34m.\u001b[0m\u001b[0mview\u001b[0m\u001b[0;34m(\u001b[0m\u001b[0mimages\u001b[0m\u001b[0;34m.\u001b[0m\u001b[0msize\u001b[0m\u001b[0;34m(\u001b[0m\u001b[0;36m0\u001b[0m\u001b[0;34m)\u001b[0m\u001b[0;34m,\u001b[0m \u001b[0;34m-\u001b[0m\u001b[0;36m1\u001b[0m\u001b[0;34m)\u001b[0m\u001b[0;34m\u001b[0m\u001b[0;34m\u001b[0m\u001b[0m\n\u001b[0m\u001b[1;32m      8\u001b[0m \u001b[0;34m\u001b[0m\u001b[0m\n\u001b[1;32m      9\u001b[0m \u001b[0;31m# Calculate the mean and std\u001b[0m\u001b[0;34m\u001b[0m\u001b[0;34m\u001b[0m\u001b[0m\n",
            "\u001b[0;31mAttributeError\u001b[0m: 'PyTorchTensor' object has no attribute 'view'"
          ]
        }
      ],
      "source": [
        "import torch\n",
        "\n",
        "# Assuming your list of images is stored in a tensor called \"images\"\n",
        "# images.shape = torch.Size([10000, 1, 28, 28])\n",
        "\n",
        "# Reshape the tensor to [num_images, num_pixels]\n",
        "reshaped_images = images.view(images.size(0), -1)\n",
        "\n",
        "# Calculate the mean and std\n",
        "mean = torch.mean(reshaped_images.float(), dim=0)\n",
        "std = torch.std(reshaped_images.float(), dim=0)\n",
        "\n",
        "# Print the results\n",
        "print(\"Mean:\", mean)\n",
        "print(\"Standard Deviation:\", std)\n"
      ]
    },
    {
      "cell_type": "code",
      "execution_count": null,
      "metadata": {
        "colab": {
          "base_uri": "https://localhost:8080/",
          "height": 467
        },
        "id": "IOBdRRVd6VIy",
        "outputId": "21c4b2ab-49ed-4b84-e9fd-7c4ea0e3cb80"
      },
      "outputs": [
        {
          "ename": "TypeError",
          "evalue": "ignored",
          "output_type": "error",
          "traceback": [
            "\u001b[0;31m---------------------------------------------------------------------------\u001b[0m",
            "\u001b[0;31mAttributeError\u001b[0m                            Traceback (most recent call last)",
            "\u001b[0;31mAttributeError\u001b[0m: 'PyTorchTensor' object has no attribute 'conjugate'",
            "\nThe above exception was the direct cause of the following exception:\n",
            "\u001b[0;31mTypeError\u001b[0m                                 Traceback (most recent call last)",
            "\u001b[0;32m<ipython-input-37-dcf9003da455>\u001b[0m in \u001b[0;36m<cell line: 12>\u001b[0;34m()\u001b[0m\n\u001b[1;32m     10\u001b[0m \u001b[0;31m# Calculate the mean and standard deviation along the axis of the images\u001b[0m\u001b[0;34m\u001b[0m\u001b[0;34m\u001b[0m\u001b[0m\n\u001b[1;32m     11\u001b[0m \u001b[0mmean_images\u001b[0m \u001b[0;34m=\u001b[0m \u001b[0mnp\u001b[0m\u001b[0;34m.\u001b[0m\u001b[0mmean\u001b[0m\u001b[0;34m(\u001b[0m\u001b[0mimage_array\u001b[0m\u001b[0;34m,\u001b[0m \u001b[0maxis\u001b[0m\u001b[0;34m=\u001b[0m\u001b[0;36m0\u001b[0m\u001b[0;34m)\u001b[0m\u001b[0;34m\u001b[0m\u001b[0;34m\u001b[0m\u001b[0m\n\u001b[0;32m---> 12\u001b[0;31m \u001b[0mstd_images\u001b[0m \u001b[0;34m=\u001b[0m \u001b[0mnp\u001b[0m\u001b[0;34m.\u001b[0m\u001b[0mstd\u001b[0m\u001b[0;34m(\u001b[0m\u001b[0mimage_array\u001b[0m\u001b[0;34m,\u001b[0m \u001b[0maxis\u001b[0m\u001b[0;34m=\u001b[0m\u001b[0;36m0\u001b[0m\u001b[0;34m)\u001b[0m\u001b[0;34m\u001b[0m\u001b[0;34m\u001b[0m\u001b[0m\n\u001b[0m\u001b[1;32m     13\u001b[0m \u001b[0;34m\u001b[0m\u001b[0m\n\u001b[1;32m     14\u001b[0m \u001b[0;31m# Print the results\u001b[0m\u001b[0;34m\u001b[0m\u001b[0;34m\u001b[0m\u001b[0m\n",
            "\u001b[0;32m/usr/local/lib/python3.10/dist-packages/numpy/core/overrides.py\u001b[0m in \u001b[0;36mstd\u001b[0;34m(*args, **kwargs)\u001b[0m\n",
            "\u001b[0;32m/usr/local/lib/python3.10/dist-packages/numpy/core/fromnumeric.py\u001b[0m in \u001b[0;36mstd\u001b[0;34m(a, axis, dtype, out, ddof, keepdims, where)\u001b[0m\n\u001b[1;32m   3613\u001b[0m             \u001b[0;32mreturn\u001b[0m \u001b[0mstd\u001b[0m\u001b[0;34m(\u001b[0m\u001b[0maxis\u001b[0m\u001b[0;34m=\u001b[0m\u001b[0maxis\u001b[0m\u001b[0;34m,\u001b[0m \u001b[0mdtype\u001b[0m\u001b[0;34m=\u001b[0m\u001b[0mdtype\u001b[0m\u001b[0;34m,\u001b[0m \u001b[0mout\u001b[0m\u001b[0;34m=\u001b[0m\u001b[0mout\u001b[0m\u001b[0;34m,\u001b[0m \u001b[0mddof\u001b[0m\u001b[0;34m=\u001b[0m\u001b[0mddof\u001b[0m\u001b[0;34m,\u001b[0m \u001b[0;34m**\u001b[0m\u001b[0mkwargs\u001b[0m\u001b[0;34m)\u001b[0m\u001b[0;34m\u001b[0m\u001b[0;34m\u001b[0m\u001b[0m\n\u001b[1;32m   3614\u001b[0m \u001b[0;34m\u001b[0m\u001b[0m\n\u001b[0;32m-> 3615\u001b[0;31m     return _methods._std(a, axis=axis, dtype=dtype, out=out, ddof=ddof,\n\u001b[0m\u001b[1;32m   3616\u001b[0m                          **kwargs)\n\u001b[1;32m   3617\u001b[0m \u001b[0;34m\u001b[0m\u001b[0m\n",
            "\u001b[0;32m/usr/local/lib/python3.10/dist-packages/numpy/core/_methods.py\u001b[0m in \u001b[0;36m_std\u001b[0;34m(a, axis, dtype, out, ddof, keepdims, where)\u001b[0m\n\u001b[1;32m    262\u001b[0m def _std(a, axis=None, dtype=None, out=None, ddof=0, keepdims=False, *,\n\u001b[1;32m    263\u001b[0m          where=True):\n\u001b[0;32m--> 264\u001b[0;31m     ret = _var(a, axis=axis, dtype=dtype, out=out, ddof=ddof,\n\u001b[0m\u001b[1;32m    265\u001b[0m                keepdims=keepdims, where=where)\n\u001b[1;32m    266\u001b[0m \u001b[0;34m\u001b[0m\u001b[0m\n",
            "\u001b[0;32m/usr/local/lib/python3.10/dist-packages/numpy/core/_methods.py\u001b[0m in \u001b[0;36m_var\u001b[0;34m(a, axis, dtype, out, ddof, keepdims, where)\u001b[0m\n\u001b[1;32m    242\u001b[0m     \u001b[0;31m# numbers and complex types with non-native byteorder\u001b[0m\u001b[0;34m\u001b[0m\u001b[0;34m\u001b[0m\u001b[0m\n\u001b[1;32m    243\u001b[0m     \u001b[0;32melse\u001b[0m\u001b[0;34m:\u001b[0m\u001b[0;34m\u001b[0m\u001b[0;34m\u001b[0m\u001b[0m\n\u001b[0;32m--> 244\u001b[0;31m         \u001b[0mx\u001b[0m \u001b[0;34m=\u001b[0m \u001b[0mum\u001b[0m\u001b[0;34m.\u001b[0m\u001b[0mmultiply\u001b[0m\u001b[0;34m(\u001b[0m\u001b[0mx\u001b[0m\u001b[0;34m,\u001b[0m \u001b[0mum\u001b[0m\u001b[0;34m.\u001b[0m\u001b[0mconjugate\u001b[0m\u001b[0;34m(\u001b[0m\u001b[0mx\u001b[0m\u001b[0;34m)\u001b[0m\u001b[0;34m,\u001b[0m \u001b[0mout\u001b[0m\u001b[0;34m=\u001b[0m\u001b[0mx\u001b[0m\u001b[0;34m)\u001b[0m\u001b[0;34m.\u001b[0m\u001b[0mreal\u001b[0m\u001b[0;34m\u001b[0m\u001b[0;34m\u001b[0m\u001b[0m\n\u001b[0m\u001b[1;32m    245\u001b[0m \u001b[0;34m\u001b[0m\u001b[0m\n\u001b[1;32m    246\u001b[0m     \u001b[0mret\u001b[0m \u001b[0;34m=\u001b[0m \u001b[0mumr_sum\u001b[0m\u001b[0;34m(\u001b[0m\u001b[0mx\u001b[0m\u001b[0;34m,\u001b[0m \u001b[0maxis\u001b[0m\u001b[0;34m,\u001b[0m \u001b[0mdtype\u001b[0m\u001b[0;34m,\u001b[0m \u001b[0mout\u001b[0m\u001b[0;34m,\u001b[0m \u001b[0mkeepdims\u001b[0m\u001b[0;34m=\u001b[0m\u001b[0mkeepdims\u001b[0m\u001b[0;34m,\u001b[0m \u001b[0mwhere\u001b[0m\u001b[0;34m=\u001b[0m\u001b[0mwhere\u001b[0m\u001b[0;34m)\u001b[0m\u001b[0;34m\u001b[0m\u001b[0;34m\u001b[0m\u001b[0m\n",
            "\u001b[0;31mTypeError\u001b[0m: loop of ufunc does not support argument 0 of type PyTorchTensor which has no callable conjugate method"
          ]
        }
      ],
      "source": [
        "import numpy as np\n",
        "\n",
        "# Assuming your list of images is called \"image_list\"\n",
        "# Convert the list of images to a NumPy array\n",
        "image_array = np.array(images)\n",
        "\n",
        "# Reshape the array to have shape (num_images, num_channels, height, width)\n",
        "image_array = image_array.reshape(-1, 1, 28, 28)\n",
        "\n",
        "# Calculate the mean and standard deviation along the axis of the images\n",
        "mean_images = np.mean(image_array, axis=0)\n",
        "std_images = np.std(image_array, axis=0)\n",
        "\n",
        "# Print the results\n",
        "print(\"Mean:\", mean_images)\n",
        "print(\"Standard Deviation:\", std_images)\n"
      ]
    },
    {
      "cell_type": "code",
      "execution_count": null,
      "metadata": {
        "colab": {
          "base_uri": "https://localhost:8080/",
          "height": 252
        },
        "id": "2uSfqv4O71FA",
        "outputId": "48890036-90f1-43db-a3b6-fa85a88dc1a6"
      },
      "outputs": [
        {
          "ename": "TypeError",
          "evalue": "ignored",
          "output_type": "error",
          "traceback": [
            "\u001b[0;31m---------------------------------------------------------------------------\u001b[0m",
            "\u001b[0;31mTypeError\u001b[0m                                 Traceback (most recent call last)",
            "\u001b[0;32m<ipython-input-39-b258815c246e>\u001b[0m in \u001b[0;36m<cell line: 11>\u001b[0;34m()\u001b[0m\n\u001b[1;32m      9\u001b[0m \u001b[0;34m\u001b[0m\u001b[0m\n\u001b[1;32m     10\u001b[0m \u001b[0;31m# Convert the NumPy array to a PyTorch tensor\u001b[0m\u001b[0;34m\u001b[0m\u001b[0;34m\u001b[0m\u001b[0m\n\u001b[0;32m---> 11\u001b[0;31m \u001b[0mimage_tensor\u001b[0m \u001b[0;34m=\u001b[0m \u001b[0mtorch\u001b[0m\u001b[0;34m.\u001b[0m\u001b[0mfrom_numpy\u001b[0m\u001b[0;34m(\u001b[0m\u001b[0mimage_array\u001b[0m\u001b[0;34m)\u001b[0m\u001b[0;34m\u001b[0m\u001b[0;34m\u001b[0m\u001b[0m\n\u001b[0m\u001b[1;32m     12\u001b[0m \u001b[0;34m\u001b[0m\u001b[0m\n\u001b[1;32m     13\u001b[0m \u001b[0;31m# Calculate the mean and standard deviation along the axis of the images\u001b[0m\u001b[0;34m\u001b[0m\u001b[0;34m\u001b[0m\u001b[0m\n",
            "\u001b[0;31mTypeError\u001b[0m: can't convert np.ndarray of type numpy.object_. The only supported types are: float64, float32, float16, complex64, complex128, int64, int32, int16, int8, uint8, and bool."
          ]
        }
      ],
      "source": [
        "import numpy as np\n",
        "\n",
        "# Assuming your list of images is called \"image_list\"\n",
        "# Convert the list of images to a NumPy array\n",
        "image_array = np.array(images)\n",
        "\n",
        "# Reshape the array to have shape (num_images, num_channels, height, width)\n",
        "image_array = image_array.reshape(-1, 1, 28, 28)\n",
        "\n",
        "# Convert the NumPy array to a PyTorch tensor\n",
        "image_tensor = torch.from_numpy(image_array)\n",
        "\n",
        "# Calculate the mean and standard deviation along the axis of the images\n",
        "mean_images = torch.mean(image_tensor, dim=0)\n",
        "std_images = torch.std(image_tensor, dim=0)\n",
        "\n",
        "# Print the results\n",
        "print(\"Mean:\", mean_images)\n",
        "print(\"Standard Deviation:\", std_images)\n"
      ]
    },
    {
      "cell_type": "code",
      "execution_count": null,
      "metadata": {
        "colab": {
          "base_uri": "https://localhost:8080/"
        },
        "id": "xGAoYcdPMb2Q",
        "outputId": "e79137cf-bd1b-4a2b-ec0c-774c30a1a935"
      },
      "outputs": [
        {
          "name": "stderr",
          "output_type": "stream",
          "text": [
            "/usr/local/lib/python3.10/dist-packages/foolbox/utils.py:80: UserWarning: samples() has only 20 samples and repeats itself if batchsize > 20\n",
            "  warnings.warn(\n"
          ]
        },
        {
          "name": "stdout",
          "output_type": "stream",
          "text": [
            "images.shape torch.Size([10000, 1, 28, 28])\n",
            "labels.shape torch.Size([10000])\n",
            "clean accuracy: 25.0%\n"
          ]
        }
      ],
      "source": [
        "import eagerpy as ep\n",
        "from foolbox import PyTorchModel, accuracy, samples\n",
        "import foolbox as fb\n",
        "\n",
        "fmodel = PyTorchModel(model_without, bounds=(0, 1))\n",
        "\n",
        "imagess, labelss = ep.astensors(*samples(fmodel, dataset=\"MNIST\", batchsize=10000))\n",
        "\n",
        "print(\"images.shape\", imagess.shape)\n",
        "print(\"labels.shape\", labelss.shape)\n",
        "\n",
        "#Mean: tensor(0.2549)\n",
        "#Standard Deviation: tensor(1.2192)\n",
        "\n",
        "#mean_images = (0.2549 - 0.1673)\n",
        "#std_images = (0.2696/1.2192)\n",
        "\n",
        "mean__images =  0.45\n",
        "std__images = 3.1\n",
        "\n",
        "normalized_images = (imagess - mean_images) / std_images\n",
        "\n",
        "normalized_images = (imagess *  std_images)  - mean__images\n",
        "\n",
        "\n",
        "clean_acc = accuracy(fmodel, normalized_images, labelss)\n",
        "print(f\"clean accuracy: {clean_acc * 100:.1f}%\")\n"
      ]
    },
    {
      "cell_type": "code",
      "execution_count": null,
      "metadata": {
        "colab": {
          "base_uri": "https://localhost:8080/"
        },
        "id": "qBnfJ_0PLWYH",
        "outputId": "0a6976c6-59d6-4aa5-b74b-13af881011ee"
      },
      "outputs": [
        {
          "name": "stdout",
          "output_type": "stream",
          "text": [
            "torch.Size([10000, 1, 28, 28])\n"
          ]
        }
      ],
      "source": [
        "import torch\n",
        "\n",
        "# Assuming your list of images is stored in the variable \"images\"\n",
        "#images = torch.randn(10000, 1, 28, 28)\n",
        "print(imagess.shape)\n",
        "pic = torch.zeros((10000, 1, 28, 28))\n",
        "\n",
        "for m in range(10000):\n",
        "  for i in range(1):\n",
        "    for j in range(28):\n",
        "      for k in range(28):\n",
        "        pic[m][i][j][k]=imagess[m][i][j][k].item()\n",
        "\n"
      ]
    },
    {
      "cell_type": "code",
      "execution_count": null,
      "metadata": {
        "id": "HmquGlkWeMfo"
      },
      "outputs": [],
      "source": [
        "# Calculate the mean\n",
        "mean = torch.mean(pic)\n",
        "\n",
        "# Print the mean\n",
        "print(\"Mean:\", mean.item())"
      ]
    },
    {
      "cell_type": "code",
      "execution_count": null,
      "metadata": {
        "id": "mKeocopBePJj"
      },
      "outputs": [],
      "source": [
        "# Calculate the mean\n",
        "std = torch.std(pic)\n",
        "\n",
        "# Print the mean\n",
        "print(\"std:\", std.item())"
      ]
    },
    {
      "cell_type": "code",
      "execution_count": null,
      "metadata": {
        "colab": {
          "base_uri": "https://localhost:8080/"
        },
        "id": "TAi8SUOfhhjW",
        "outputId": "e58f47b0-3ea7-47a0-a0fe-e58713a730b8"
      },
      "outputs": [
        {
          "name": "stdout",
          "output_type": "stream",
          "text": [
            "New Mean: 0.00579069135710597\n",
            "New Standard Deviation: 1.0076225996017456\n"
          ]
        }
      ],
      "source": [
        "import torch\n",
        "\n",
        "# Assuming you have a tensor of images with shape [num_images, 28, 28]\n",
        "#images = torch.randn(num_images, 28, 28)\n",
        "\n",
        "# Calculate the current mean and standard deviation\n",
        "#current_mean = torch.mean(images)\n",
        "#current_std = torch.std(images)\n",
        "current_mean = 0.2584\n",
        "current_std = 0.3382\n",
        "\n",
        "# Set the target mean and standard deviation\n",
        "target_mean = 0.0058\n",
        "target_std = 1.0077\n",
        "\n",
        "# Normalize the images to the target mean and standard deviation\n",
        "normalized_images = (pic - current_mean) * (target_std / current_std) + target_mean\n",
        "\n",
        "# Print the new mean and standard deviation\n",
        "new_mean = torch.mean(normalized_images)\n",
        "new_std = torch.std(normalized_images)\n",
        "print(\"New Mean:\", new_mean.item())\n",
        "print(\"New Standard Deviation:\", new_std.item())\n"
      ]
    },
    {
      "cell_type": "code",
      "execution_count": null,
      "metadata": {
        "colab": {
          "base_uri": "https://localhost:8080/"
        },
        "id": "QrUfSMVviX1D",
        "outputId": "df7c0353-55d9-45cf-c22d-7cf9a00e1539"
      },
      "outputs": [
        {
          "name": "stdout",
          "output_type": "stream",
          "text": [
            "clean accuracy: 0.0%\n"
          ]
        }
      ],
      "source": [
        "clean_acc = accuracy(fmodel, pic, labelss[0:2000])\n",
        "print(f\"clean accuracy: {clean_acc * 100:.1f}%\")"
      ]
    },
    {
      "cell_type": "code",
      "execution_count": null,
      "metadata": {
        "colab": {
          "base_uri": "https://localhost:8080/"
        },
        "id": "yOTJYOGOiRaD",
        "outputId": "b9b0f0e3-bf12-4128-ed60-2092bf8b1747"
      },
      "outputs": [
        {
          "name": "stdout",
          "output_type": "stream",
          "text": [
            "clean accuracy: 10.0%\n"
          ]
        }
      ],
      "source": [
        "clean_acc = accuracy(fmodel, normalized_images, labelss[0:2000])\n",
        "print(f\"clean accuracy: {clean_acc * 100:.1f}%\")"
      ]
    },
    {
      "cell_type": "code",
      "execution_count": null,
      "metadata": {
        "colab": {
          "base_uri": "https://localhost:8080/"
        },
        "id": "2XTIbwTJeA_6",
        "outputId": "dd498322-ccfe-4e6d-aede-f02a853850b8"
      },
      "outputs": [
        {
          "name": "stdout",
          "output_type": "stream",
          "text": [
            "Mean: tensor([0.0000e+00, 0.0000e+00, 0.0000e+00, 3.9216e-04, 0.0000e+00, 1.9608e-04,\n",
            "        1.9608e-04, 0.0000e+00, 7.8431e-04, 1.7843e-02, 1.3529e-01, 2.0412e-01,\n",
            "        2.1000e-01, 2.0549e-01, 2.1294e-01, 2.2275e-01, 2.7235e-01, 2.1039e-01,\n",
            "        1.2314e-01, 4.6667e-02, 0.0000e+00, 3.9216e-04, 0.0000e+00, 1.9608e-04,\n",
            "        0.0000e+00, 0.0000e+00, 0.0000e+00, 0.0000e+00, 0.0000e+00, 0.0000e+00,\n",
            "        0.0000e+00, 1.9608e-04, 3.9216e-04, 3.9216e-04, 1.5686e-03, 2.4902e-02,\n",
            "        7.2941e-02, 1.9765e-01, 4.5392e-01, 5.3765e-01, 5.5882e-01, 5.7314e-01,\n",
            "        5.8039e-01, 5.6804e-01, 5.7118e-01, 4.7510e-01, 3.8608e-01, 2.4118e-01,\n",
            "        5.5882e-02, 1.5686e-03, 3.9216e-04, 0.0000e+00, 0.0000e+00, 0.0000e+00,\n",
            "        0.0000e+00, 0.0000e+00, 0.0000e+00, 0.0000e+00, 0.0000e+00, 0.0000e+00,\n",
            "        5.8824e-04, 9.8039e-03, 7.6863e-02, 1.4020e-01, 1.6804e-01, 2.5804e-01,\n",
            "        4.5098e-01, 5.0725e-01, 4.9490e-01, 5.0000e-01, 5.2255e-01, 5.0549e-01,\n",
            "        4.9882e-01, 4.4529e-01, 3.7941e-01, 2.8588e-01, 1.7745e-01, 1.4588e-01,\n",
            "        2.9608e-02, 0.0000e+00, 0.0000e+00, 0.0000e+00, 0.0000e+00, 0.0000e+00,\n",
            "        0.0000e+00, 0.0000e+00, 0.0000e+00, 5.8824e-04, 5.8824e-04, 7.6667e-02,\n",
            "        1.6078e-01, 1.8314e-01, 2.0431e-01, 3.4431e-01, 4.2137e-01, 4.4392e-01,\n",
            "        4.7882e-01, 5.2725e-01, 5.2922e-01, 5.3902e-01, 4.8863e-01, 4.3431e-01,\n",
            "        3.8196e-01, 3.1882e-01, 1.9725e-01, 1.8961e-01, 1.3353e-01, 1.3529e-02,\n",
            "        3.9216e-04, 0.0000e+00, 0.0000e+00, 0.0000e+00, 0.0000e+00, 0.0000e+00,\n",
            "        0.0000e+00, 3.9216e-04, 1.0000e-02, 1.4588e-01, 2.2137e-01, 2.2608e-01,\n",
            "        2.7353e-01, 3.6588e-01, 4.2490e-01, 4.3137e-01, 4.4529e-01, 5.2314e-01,\n",
            "        5.0569e-01, 4.8608e-01, 4.7843e-01, 4.5706e-01, 3.8118e-01, 3.5157e-01,\n",
            "        3.0451e-01, 2.4765e-01, 2.0373e-01, 6.1373e-02, 0.0000e+00, 1.9608e-04,\n",
            "        0.0000e+00, 0.0000e+00, 0.0000e+00, 0.0000e+00, 0.0000e+00, 0.0000e+00,\n",
            "        5.5686e-02, 1.8020e-01, 2.4431e-01, 2.8608e-01, 2.6196e-01, 3.3667e-01,\n",
            "        3.3765e-01, 4.0314e-01, 4.3235e-01, 4.3000e-01, 4.7863e-01, 4.7353e-01,\n",
            "        4.4902e-01, 4.1275e-01, 3.5196e-01, 3.3098e-01, 2.5941e-01, 2.5451e-01,\n",
            "        2.3471e-01, 1.2941e-01, 7.0588e-03, 0.0000e+00, 0.0000e+00, 0.0000e+00,\n",
            "        0.0000e+00, 0.0000e+00, 0.0000e+00, 0.0000e+00, 7.2157e-02, 2.1314e-01,\n",
            "        2.6745e-01, 3.0157e-01, 3.0314e-01, 3.5275e-01, 3.6020e-01, 4.2118e-01,\n",
            "        4.6980e-01, 4.3216e-01, 4.5922e-01, 4.5294e-01, 4.7725e-01, 4.0118e-01,\n",
            "        3.2431e-01, 3.2314e-01, 2.6686e-01, 2.6529e-01, 2.6451e-01, 1.7706e-01,\n",
            "        3.0784e-02, 0.0000e+00, 0.0000e+00, 0.0000e+00, 0.0000e+00, 0.0000e+00,\n",
            "        0.0000e+00, 1.3333e-02, 7.6863e-02, 2.3216e-01, 3.1059e-01, 3.0157e-01,\n",
            "        3.2569e-01, 3.9333e-01, 4.0647e-01, 4.3804e-01, 4.8431e-01, 4.1353e-01,\n",
            "        4.4078e-01, 4.8431e-01, 4.8255e-01, 4.0294e-01, 3.9667e-01, 3.5941e-01,\n",
            "        3.4824e-01, 3.3255e-01, 3.1000e-01, 2.1020e-01, 7.9216e-02, 3.6471e-02,\n",
            "        1.9412e-02, 0.0000e+00, 0.0000e+00, 0.0000e+00, 0.0000e+00, 2.5686e-02,\n",
            "        9.5686e-02, 2.9235e-01, 3.1627e-01, 3.1000e-01, 3.5059e-01, 4.0882e-01,\n",
            "        3.7725e-01, 4.4333e-01, 4.5569e-01, 4.0294e-01, 3.4882e-01, 4.4824e-01,\n",
            "        4.6725e-01, 4.2490e-01, 4.0588e-01, 3.8039e-01, 3.2157e-01, 3.2686e-01,\n",
            "        2.8255e-01, 2.7137e-01, 1.1353e-01, 5.9020e-02, 3.6667e-02, 0.0000e+00,\n",
            "        0.0000e+00, 1.9608e-04, 1.9608e-04, 0.0000e+00, 9.9216e-02, 2.9706e-01,\n",
            "        3.1137e-01, 3.3294e-01, 3.7647e-01, 4.2412e-01, 3.7412e-01, 5.0824e-01,\n",
            "        4.8490e-01, 4.0451e-01, 4.1412e-01, 5.9196e-01, 5.6137e-01, 4.8725e-01,\n",
            "        5.0020e-01, 3.6745e-01, 3.2980e-01, 3.7706e-01, 3.3529e-01, 3.0627e-01,\n",
            "        1.2059e-01, 8.1569e-02, 7.4118e-02, 1.4510e-02, 0.0000e+00, 2.1569e-03,\n",
            "        0.0000e+00, 2.5490e-03, 1.1902e-01, 2.4255e-01, 2.5000e-01, 3.3314e-01,\n",
            "        3.8902e-01, 4.4039e-01, 4.1725e-01, 4.4176e-01, 4.5922e-01, 4.8392e-01,\n",
            "        3.3569e-01, 4.8412e-01, 5.5176e-01, 4.8118e-01, 4.4843e-01, 3.7706e-01,\n",
            "        3.5667e-01, 3.7588e-01, 3.2333e-01, 3.1471e-01, 1.6706e-01, 1.0569e-01,\n",
            "        7.8627e-02, 2.4902e-02, 0.0000e+00, 3.4314e-02, 1.2353e-02, 1.3529e-02,\n",
            "        1.3294e-01, 2.6314e-01, 2.2451e-01, 3.2922e-01, 3.8431e-01, 4.4941e-01,\n",
            "        4.8765e-01, 5.0451e-01, 5.3765e-01, 4.6196e-01, 4.0353e-01, 5.5059e-01,\n",
            "        5.5039e-01, 5.2725e-01, 4.4902e-01, 4.7392e-01, 3.9725e-01, 3.5608e-01,\n",
            "        3.3157e-01, 3.2765e-01, 2.0471e-01, 1.1725e-01, 7.4314e-02, 2.0980e-02,\n",
            "        2.5490e-03, 4.0392e-02, 2.7451e-02, 3.2549e-02, 1.3765e-01, 2.6745e-01,\n",
            "        2.5882e-01, 4.0000e-01, 3.9863e-01, 5.1314e-01, 5.5098e-01, 5.0725e-01,\n",
            "        5.5922e-01, 4.5255e-01, 4.7608e-01, 6.1098e-01, 5.7725e-01, 5.2314e-01,\n",
            "        5.0686e-01, 5.0020e-01, 4.4824e-01, 4.1059e-01, 3.9569e-01, 3.9020e-01,\n",
            "        2.2176e-01, 1.2412e-01, 8.1373e-02, 2.3333e-02, 1.0980e-02, 4.0392e-02,\n",
            "        3.0000e-02, 5.2745e-02, 1.4059e-01, 2.7235e-01, 3.0922e-01, 4.0824e-01,\n",
            "        4.1667e-01, 4.7686e-01, 5.0333e-01, 5.1373e-01, 5.5412e-01, 5.0059e-01,\n",
            "        4.6118e-01, 5.8098e-01, 6.1980e-01, 5.6353e-01, 5.1176e-01, 5.1216e-01,\n",
            "        4.0314e-01, 3.7118e-01, 3.5412e-01, 3.4824e-01, 2.2804e-01, 1.0490e-01,\n",
            "        1.1451e-01, 2.1569e-02, 2.1373e-02, 6.8039e-02, 4.9412e-02, 8.2157e-02,\n",
            "        2.0490e-01, 3.4353e-01, 3.4020e-01, 3.6196e-01, 3.5157e-01, 4.6137e-01,\n",
            "        5.2922e-01, 5.1686e-01, 5.0353e-01, 4.6627e-01, 4.3314e-01, 5.7235e-01,\n",
            "        6.4392e-01, 5.6490e-01, 5.4294e-01, 5.2118e-01, 4.0588e-01, 4.0902e-01,\n",
            "        3.9333e-01, 3.5471e-01, 2.6765e-01, 1.6020e-01, 1.4863e-01, 3.8431e-02,\n",
            "        4.5098e-02, 1.0020e-01, 7.0392e-02, 9.1373e-02, 2.6039e-01, 3.1412e-01,\n",
            "        3.5431e-01, 3.7824e-01, 3.6569e-01, 4.7608e-01, 5.3745e-01, 5.6039e-01,\n",
            "        5.0863e-01, 4.8275e-01, 4.6706e-01, 5.3922e-01, 5.9000e-01, 5.2314e-01,\n",
            "        5.1471e-01, 4.9961e-01, 3.9529e-01, 4.1294e-01, 4.4059e-01, 4.1078e-01,\n",
            "        3.0431e-01, 1.9255e-01, 1.9333e-01, 5.4510e-02, 4.2157e-02, 8.3922e-02,\n",
            "        7.8235e-02, 1.1157e-01, 2.9137e-01, 3.3353e-01, 3.7412e-01, 3.9980e-01,\n",
            "        3.9745e-01, 5.1216e-01, 5.8020e-01, 5.7039e-01, 5.0843e-01, 4.5098e-01,\n",
            "        4.5961e-01, 5.0961e-01, 5.4725e-01, 4.8588e-01, 5.1882e-01, 4.3490e-01,\n",
            "        3.5863e-01, 3.3706e-01, 3.5686e-01, 3.3902e-01, 2.6510e-01, 1.2667e-01,\n",
            "        1.1392e-01, 7.6078e-02, 3.7255e-02, 4.4314e-02, 2.5686e-02, 6.5490e-02,\n",
            "        2.4980e-01, 2.8725e-01, 3.5431e-01, 3.4765e-01, 3.9373e-01, 5.1706e-01,\n",
            "        5.4235e-01, 5.2608e-01, 4.9941e-01, 4.2000e-01, 4.3922e-01, 4.6549e-01,\n",
            "        5.2627e-01, 4.7275e-01, 4.8843e-01, 4.4373e-01, 3.6549e-01, 3.3725e-01,\n",
            "        3.5000e-01, 3.2314e-01, 2.8510e-01, 1.3686e-01, 1.3627e-01, 9.2353e-02,\n",
            "        3.2157e-02, 6.8235e-02, 7.1373e-02, 9.8627e-02, 2.9804e-01, 3.4961e-01,\n",
            "        3.8863e-01, 3.3608e-01, 4.0667e-01, 4.8490e-01, 5.7588e-01, 5.7216e-01,\n",
            "        5.9235e-01, 4.3941e-01, 4.1510e-01, 4.7137e-01, 5.4667e-01, 5.5098e-01,\n",
            "        5.0843e-01, 4.3843e-01, 3.6922e-01, 3.3275e-01, 3.5843e-01, 3.4647e-01,\n",
            "        2.6294e-01, 1.4686e-01, 1.5373e-01, 6.1373e-02, 2.8235e-02, 9.1569e-02,\n",
            "        8.1765e-02, 1.1941e-01, 3.2588e-01, 3.6765e-01, 4.0373e-01, 3.5020e-01,\n",
            "        4.1176e-01, 4.6020e-01, 5.9059e-01, 5.8549e-01, 6.2510e-01, 4.6725e-01,\n",
            "        4.2039e-01, 4.6020e-01, 5.4686e-01, 5.6647e-01, 5.6961e-01, 4.7765e-01,\n",
            "        3.9529e-01, 3.4020e-01, 4.0196e-01, 4.1843e-01, 3.1275e-01, 1.6471e-01,\n",
            "        1.1706e-01, 2.4118e-02, 5.2941e-03, 3.6667e-02, 4.9608e-02, 1.0020e-01,\n",
            "        3.1431e-01, 3.2294e-01, 3.3686e-01, 2.9216e-01, 3.6765e-01, 4.2314e-01,\n",
            "        5.6078e-01, 5.5255e-01, 5.8373e-01, 4.5549e-01, 4.0647e-01, 4.0843e-01,\n",
            "        4.9588e-01, 5.2490e-01, 5.1137e-01, 4.4588e-01, 4.1098e-01, 2.7314e-01,\n",
            "        3.6529e-01, 3.5922e-01, 2.8059e-01, 1.4431e-01, 1.0608e-01, 2.6078e-02,\n",
            "        0.0000e+00, 4.9020e-03, 1.9020e-02, 4.4314e-02, 2.0549e-01, 2.5980e-01,\n",
            "        2.6843e-01, 2.5804e-01, 3.3941e-01, 3.8039e-01, 5.4902e-01, 5.3824e-01,\n",
            "        5.7098e-01, 4.5294e-01, 4.0314e-01, 3.9529e-01, 4.8000e-01, 4.8882e-01,\n",
            "        4.8510e-01, 3.9745e-01, 3.6471e-01, 2.1157e-01, 2.7353e-01, 2.9118e-01,\n",
            "        2.1588e-01, 8.2549e-02, 7.4118e-02, 1.0980e-02, 9.6078e-03, 2.0392e-02,\n",
            "        6.2745e-03, 2.0392e-02, 1.9039e-01, 2.1176e-01, 2.0176e-01, 1.8059e-01,\n",
            "        2.6157e-01, 2.7941e-01, 4.3902e-01, 4.4373e-01, 4.6765e-01, 3.3529e-01,\n",
            "        2.8549e-01, 3.0118e-01, 3.9059e-01, 3.9706e-01, 4.0314e-01, 3.2314e-01,\n",
            "        2.8078e-01, 1.2686e-01, 1.8608e-01, 2.2510e-01, 1.5686e-01, 3.0980e-02,\n",
            "        6.4706e-03, 0.0000e+00, 0.0000e+00, 0.0000e+00, 0.0000e+00, 2.1765e-02,\n",
            "        1.8510e-01, 1.9784e-01, 1.8686e-01, 1.2824e-01, 2.3431e-01, 2.4882e-01,\n",
            "        3.5922e-01, 4.0647e-01, 4.2412e-01, 3.3647e-01, 2.6137e-01, 2.8020e-01,\n",
            "        3.5941e-01, 3.8490e-01, 3.9098e-01, 3.1216e-01, 2.5431e-01, 9.4510e-02,\n",
            "        1.7569e-01, 2.2843e-01, 1.6157e-01, 3.1176e-02, 0.0000e+00, 0.0000e+00,\n",
            "        0.0000e+00, 0.0000e+00, 0.0000e+00, 2.8627e-02, 1.7863e-01, 1.8412e-01,\n",
            "        1.6922e-01, 1.3314e-01, 2.1627e-01, 2.5333e-01, 3.1804e-01, 4.3941e-01,\n",
            "        4.2882e-01, 3.6608e-01, 2.7471e-01, 2.7549e-01, 3.7059e-01, 4.1118e-01,\n",
            "        3.8882e-01, 3.0902e-01, 2.5667e-01, 9.0392e-02, 1.6078e-01, 2.1412e-01,\n",
            "        1.5980e-01, 3.9804e-02, 0.0000e+00, 0.0000e+00, 0.0000e+00, 0.0000e+00,\n",
            "        0.0000e+00, 4.0392e-02, 1.5333e-01, 2.0392e-01, 1.8627e-01, 1.2706e-01,\n",
            "        1.5980e-01, 2.4098e-01, 2.3980e-01, 3.7667e-01, 3.5745e-01, 3.1078e-01,\n",
            "        2.2765e-01, 2.1510e-01, 3.0902e-01, 3.5843e-01, 3.3765e-01, 2.9392e-01,\n",
            "        2.6588e-01, 1.0098e-01, 1.6314e-01, 2.1529e-01, 1.4608e-01, 3.2157e-02,\n",
            "        0.0000e+00, 0.0000e+00, 0.0000e+00, 0.0000e+00, 0.0000e+00, 4.2549e-02,\n",
            "        1.1275e-01, 1.9059e-01, 1.5588e-01, 7.8039e-02, 1.1196e-01, 2.0667e-01,\n",
            "        3.0588e-01, 3.9784e-01, 3.9078e-01, 3.6784e-01, 2.7824e-01, 2.5216e-01,\n",
            "        3.5569e-01, 4.0451e-01, 3.7980e-01, 2.8608e-01, 1.6941e-01, 6.2353e-02,\n",
            "        1.2843e-01, 1.7000e-01, 9.8824e-02, 3.0588e-02, 0.0000e+00, 0.0000e+00,\n",
            "        0.0000e+00, 0.0000e+00, 0.0000e+00, 1.4706e-02, 5.1373e-02, 1.0275e-01,\n",
            "        8.8824e-02, 4.7059e-02, 7.1176e-02, 8.0784e-02, 1.1627e-01, 2.2647e-01,\n",
            "        2.4118e-01, 1.9216e-01, 1.5275e-01, 1.4882e-01, 2.1686e-01, 2.4333e-01,\n",
            "        1.7784e-01, 1.2000e-01, 7.3922e-02, 1.9020e-02, 8.7255e-02, 1.0412e-01,\n",
            "        4.6863e-02, 1.5882e-02, 0.0000e+00, 0.0000e+00])\n",
            "Standard Deviation: tensor([0.0000, 0.0000, 0.0000, 0.0017, 0.0000, 0.0009, 0.0009, 0.0000, 0.0020,\n",
            "        0.0478, 0.2478, 0.2560, 0.2470, 0.2461, 0.2242, 0.2287, 0.2702, 0.2566,\n",
            "        0.2427, 0.1582, 0.0000, 0.0017, 0.0000, 0.0009, 0.0000, 0.0000, 0.0000,\n",
            "        0.0000, 0.0000, 0.0000, 0.0000, 0.0009, 0.0012, 0.0012, 0.0049, 0.0963,\n",
            "        0.1844, 0.2985, 0.4198, 0.4108, 0.4285, 0.4306, 0.4320, 0.4295, 0.4300,\n",
            "        0.3743, 0.4002, 0.2928, 0.1174, 0.0049, 0.0017, 0.0000, 0.0000, 0.0000,\n",
            "        0.0000, 0.0000, 0.0000, 0.0000, 0.0000, 0.0000, 0.0019, 0.0428, 0.1919,\n",
            "        0.2790, 0.3053, 0.3120, 0.3754, 0.3728, 0.3784, 0.3848, 0.4001, 0.3908,\n",
            "        0.3614, 0.3499, 0.3589, 0.3116, 0.3177, 0.2833, 0.0956, 0.0000, 0.0000,\n",
            "        0.0000, 0.0000, 0.0000, 0.0000, 0.0000, 0.0000, 0.0019, 0.0026, 0.1955,\n",
            "        0.2913, 0.2845, 0.2837, 0.3053, 0.3605, 0.3811, 0.3779, 0.3682, 0.3809,\n",
            "        0.3704, 0.3867, 0.3662, 0.3621, 0.3024, 0.2764, 0.3118, 0.2581, 0.0590,\n",
            "        0.0017, 0.0000, 0.0000, 0.0000, 0.0000, 0.0000, 0.0000, 0.0017, 0.0410,\n",
            "        0.2865, 0.3125, 0.2880, 0.3372, 0.3330, 0.3714, 0.3593, 0.3937, 0.3814,\n",
            "        0.3685, 0.3874, 0.3824, 0.3633, 0.3498, 0.3441, 0.3586, 0.3305, 0.3123,\n",
            "        0.1394, 0.0000, 0.0009, 0.0000, 0.0000, 0.0000, 0.0000, 0.0000, 0.0000,\n",
            "        0.1754, 0.3147, 0.3209, 0.3466, 0.3394, 0.3116, 0.3385, 0.3642, 0.3637,\n",
            "        0.3972, 0.3956, 0.3830, 0.3566, 0.3546, 0.3579, 0.3401, 0.3170, 0.3346,\n",
            "        0.3214, 0.2406, 0.0201, 0.0000, 0.0000, 0.0000, 0.0000, 0.0000, 0.0000,\n",
            "        0.0000, 0.2016, 0.3344, 0.3215, 0.3369, 0.3353, 0.3084, 0.3332, 0.3490,\n",
            "        0.3773, 0.3689, 0.3826, 0.3862, 0.3624, 0.3475, 0.3266, 0.3134, 0.3334,\n",
            "        0.3389, 0.3511, 0.3139, 0.0956, 0.0000, 0.0000, 0.0000, 0.0000, 0.0000,\n",
            "        0.0000, 0.0564, 0.2133, 0.3385, 0.3526, 0.3464, 0.3390, 0.3276, 0.3739,\n",
            "        0.3382, 0.3568, 0.3555, 0.3077, 0.3601, 0.3638, 0.3109, 0.3439, 0.3306,\n",
            "        0.3700, 0.3790, 0.3645, 0.2762, 0.1717, 0.1297, 0.0847, 0.0000, 0.0000,\n",
            "        0.0000, 0.0000, 0.1121, 0.2271, 0.3424, 0.3573, 0.3635, 0.3626, 0.3389,\n",
            "        0.3481, 0.3368, 0.3558, 0.3662, 0.3217, 0.3635, 0.3375, 0.3113, 0.3574,\n",
            "        0.3487, 0.3539, 0.3620, 0.3529, 0.3313, 0.2147, 0.1815, 0.1504, 0.0000,\n",
            "        0.0000, 0.0009, 0.0009, 0.0000, 0.1790, 0.3395, 0.3629, 0.3797, 0.3715,\n",
            "        0.3490, 0.3361, 0.3470, 0.3466, 0.3511, 0.3202, 0.3456, 0.3069, 0.2966,\n",
            "        0.3390, 0.3190, 0.3569, 0.3790, 0.3525, 0.3478, 0.2121, 0.1901, 0.2232,\n",
            "        0.0526, 0.0000, 0.0078, 0.0000, 0.0111, 0.2441, 0.3073, 0.3300, 0.3895,\n",
            "        0.3750, 0.3637, 0.3338, 0.3280, 0.3286, 0.2960, 0.3191, 0.3593, 0.3245,\n",
            "        0.2796, 0.3196, 0.2951, 0.3331, 0.3530, 0.3431, 0.3547, 0.2644, 0.2472,\n",
            "        0.2370, 0.0754, 0.0000, 0.1462, 0.0539, 0.0572, 0.2562, 0.3344, 0.3316,\n",
            "        0.3948, 0.3662, 0.3390, 0.2889, 0.2821, 0.3026, 0.3057, 0.3019, 0.2868,\n",
            "        0.3021, 0.3003, 0.3226, 0.3111, 0.3310, 0.3700, 0.3437, 0.3278, 0.2974,\n",
            "        0.2447, 0.2245, 0.0689, 0.0094, 0.1700, 0.1198, 0.0978, 0.2467, 0.3533,\n",
            "        0.3162, 0.4140, 0.3423, 0.3298, 0.2973, 0.3094, 0.3070, 0.2985, 0.3016,\n",
            "        0.2990, 0.2633, 0.3095, 0.3306, 0.3453, 0.3606, 0.3882, 0.3678, 0.3811,\n",
            "        0.2962, 0.2483, 0.2379, 0.0745, 0.0470, 0.1700, 0.1300, 0.1567, 0.2343,\n",
            "        0.3224, 0.3274, 0.3859, 0.3305, 0.3369, 0.2827, 0.2821, 0.2473, 0.2791,\n",
            "        0.2886, 0.2811, 0.2621, 0.2696, 0.2838, 0.3124, 0.3042, 0.3674, 0.3362,\n",
            "        0.3574, 0.3086, 0.2074, 0.2670, 0.0703, 0.0669, 0.2090, 0.1503, 0.1833,\n",
            "        0.2698, 0.3681, 0.3624, 0.3767, 0.3339, 0.3237, 0.2767, 0.2932, 0.2687,\n",
            "        0.3056, 0.2896, 0.2628, 0.2358, 0.2764, 0.2835, 0.3081, 0.2777, 0.3553,\n",
            "        0.3101, 0.3163, 0.2976, 0.2471, 0.2700, 0.0931, 0.1296, 0.2658, 0.1838,\n",
            "        0.1831, 0.2733, 0.3347, 0.3529, 0.3442, 0.3197, 0.3279, 0.2751, 0.2610,\n",
            "        0.2632, 0.3134, 0.3032, 0.2826, 0.2399, 0.3114, 0.3051, 0.3263, 0.2810,\n",
            "        0.3505, 0.3434, 0.3465, 0.3036, 0.2748, 0.3108, 0.1009, 0.1253, 0.2223,\n",
            "        0.1882, 0.2113, 0.2894, 0.3440, 0.3364, 0.3513, 0.3168, 0.3007, 0.2677,\n",
            "        0.2416, 0.2630, 0.3065, 0.3152, 0.2955, 0.2710, 0.3164, 0.2959, 0.3391,\n",
            "        0.2888, 0.3629, 0.3250, 0.3259, 0.2639, 0.2088, 0.2474, 0.1775, 0.1478,\n",
            "        0.1670, 0.0882, 0.1387, 0.3023, 0.3139, 0.3464, 0.3176, 0.3471, 0.3093,\n",
            "        0.3017, 0.2949, 0.2871, 0.3208, 0.3432, 0.3330, 0.3207, 0.3118, 0.3045,\n",
            "        0.3181, 0.2945, 0.3675, 0.3317, 0.3465, 0.3003, 0.2360, 0.2872, 0.2050,\n",
            "        0.1403, 0.2193, 0.1910, 0.1877, 0.3202, 0.3356, 0.3795, 0.3111, 0.3620,\n",
            "        0.3377, 0.3122, 0.2778, 0.2749, 0.3260, 0.3074, 0.3256, 0.3306, 0.2930,\n",
            "        0.3006, 0.3214, 0.2853, 0.3602, 0.3395, 0.3561, 0.2759, 0.2509, 0.2963,\n",
            "        0.1126, 0.0755, 0.2178, 0.1982, 0.2064, 0.3177, 0.3411, 0.3843, 0.3264,\n",
            "        0.3536, 0.3118, 0.2985, 0.2683, 0.2681, 0.3209, 0.3131, 0.3323, 0.3292,\n",
            "        0.3129, 0.2934, 0.3383, 0.2836, 0.3628, 0.3613, 0.3752, 0.2985, 0.2578,\n",
            "        0.2610, 0.0572, 0.0162, 0.1173, 0.1589, 0.1913, 0.3410, 0.3598, 0.3639,\n",
            "        0.3260, 0.3498, 0.3410, 0.3387, 0.3134, 0.3156, 0.3686, 0.3516, 0.3506,\n",
            "        0.3516, 0.3590, 0.3428, 0.3491, 0.3395, 0.3438, 0.3985, 0.3829, 0.3243,\n",
            "        0.2644, 0.2552, 0.0629, 0.0000, 0.0214, 0.0830, 0.1052, 0.2834, 0.3341,\n",
            "        0.3559, 0.3326, 0.3569, 0.3742, 0.3394, 0.3338, 0.3553, 0.3491, 0.3682,\n",
            "        0.3561, 0.3757, 0.3557, 0.3608, 0.3762, 0.3489, 0.3039, 0.3602, 0.3665,\n",
            "        0.2948, 0.1987, 0.2275, 0.0391, 0.0419, 0.0890, 0.0274, 0.0637, 0.2985,\n",
            "        0.3086, 0.3400, 0.2858, 0.3322, 0.3404, 0.3716, 0.3674, 0.3689, 0.3336,\n",
            "        0.3510, 0.3387, 0.3767, 0.3843, 0.3765, 0.3647, 0.3590, 0.1968, 0.3220,\n",
            "        0.3476, 0.2597, 0.0806, 0.0282, 0.0000, 0.0000, 0.0000, 0.0000, 0.0768,\n",
            "        0.2834, 0.3073, 0.3489, 0.2507, 0.3117, 0.3378, 0.3652, 0.3914, 0.3933,\n",
            "        0.3437, 0.3557, 0.3548, 0.3815, 0.3966, 0.4018, 0.3775, 0.3514, 0.1703,\n",
            "        0.3241, 0.3555, 0.2750, 0.0938, 0.0000, 0.0000, 0.0000, 0.0000, 0.0000,\n",
            "        0.0880, 0.2761, 0.3069, 0.3228, 0.2650, 0.2952, 0.3418, 0.3412, 0.3859,\n",
            "        0.3839, 0.3514, 0.3588, 0.3418, 0.3786, 0.3890, 0.3861, 0.3785, 0.3195,\n",
            "        0.1554, 0.3239, 0.3416, 0.2858, 0.1240, 0.0000, 0.0000, 0.0000, 0.0000,\n",
            "        0.0000, 0.1216, 0.2363, 0.3170, 0.3280, 0.2726, 0.2750, 0.3472, 0.3210,\n",
            "        0.3929, 0.3818, 0.3515, 0.3369, 0.3167, 0.3600, 0.3949, 0.3825, 0.3608,\n",
            "        0.3631, 0.1847, 0.3237, 0.3432, 0.2733, 0.0967, 0.0000, 0.0000, 0.0000,\n",
            "        0.0000, 0.0000, 0.1280, 0.2087, 0.3051, 0.3039, 0.1923, 0.2460, 0.3146,\n",
            "        0.3760, 0.3889, 0.3978, 0.3957, 0.3545, 0.3429, 0.3768, 0.4046, 0.3933,\n",
            "        0.3480, 0.2873, 0.1130, 0.2827, 0.3051, 0.2141, 0.0923, 0.0000, 0.0000,\n",
            "        0.0000, 0.0000, 0.0000, 0.0642, 0.1239, 0.2043, 0.2071, 0.1532, 0.2138,\n",
            "        0.2434, 0.2493, 0.2867, 0.2947, 0.2762, 0.2572, 0.2607, 0.2836, 0.2994,\n",
            "        0.2833, 0.2576, 0.1691, 0.0439, 0.1951, 0.2133, 0.1174, 0.0693, 0.0000,\n",
            "        0.0000])\n"
          ]
        }
      ],
      "source": [
        "import torch\n",
        "\n",
        "# Assuming your tensor of images is stored in the variable \"images\"\n",
        "#images = torch.randn(500, 1, 28, 28)\n",
        "\n",
        "# Reshape the images tensor to flatten the spatial dimensions\n",
        "images_flat = pic.view(500, -1)\n",
        "\n",
        "# Calculate the mean and standard deviation\n",
        "mean = torch.mean(images_flat, dim=0)\n",
        "std = torch.std(images_flat, dim=0)\n",
        "\n",
        "# Print the mean and standard deviation\n",
        "print(\"Mean:\", mean)\n",
        "print(\"Standard Deviation:\", std)\n"
      ]
    },
    {
      "cell_type": "code",
      "execution_count": null,
      "metadata": {
        "colab": {
          "base_uri": "https://localhost:8080/"
        },
        "id": "caSDBEOwdxtc",
        "outputId": "0f9baa09-2da4-4402-9ef4-af5f64cbce30"
      },
      "outputs": [
        {
          "name": "stdout",
          "output_type": "stream",
          "text": [
            "Mean: 784\n",
            "Standard Deviation: tensor([0.0000, 0.0000, 0.0000, 0.0017, 0.0000, 0.0009, 0.0009, 0.0000, 0.0020,\n",
            "        0.0478, 0.2478, 0.2560, 0.2470, 0.2461, 0.2242, 0.2287, 0.2702, 0.2566,\n",
            "        0.2427, 0.1582, 0.0000, 0.0017, 0.0000, 0.0009, 0.0000, 0.0000, 0.0000,\n",
            "        0.0000, 0.0000, 0.0000, 0.0000, 0.0009, 0.0012, 0.0012, 0.0049, 0.0963,\n",
            "        0.1844, 0.2985, 0.4198, 0.4108, 0.4285, 0.4306, 0.4320, 0.4295, 0.4300,\n",
            "        0.3743, 0.4002, 0.2928, 0.1174, 0.0049, 0.0017, 0.0000, 0.0000, 0.0000,\n",
            "        0.0000, 0.0000, 0.0000, 0.0000, 0.0000, 0.0000, 0.0019, 0.0428, 0.1919,\n",
            "        0.2790, 0.3053, 0.3120, 0.3754, 0.3728, 0.3784, 0.3848, 0.4001, 0.3908,\n",
            "        0.3614, 0.3499, 0.3589, 0.3116, 0.3177, 0.2833, 0.0956, 0.0000, 0.0000,\n",
            "        0.0000, 0.0000, 0.0000, 0.0000, 0.0000, 0.0000, 0.0019, 0.0026, 0.1955,\n",
            "        0.2913, 0.2845, 0.2837, 0.3053, 0.3605, 0.3811, 0.3779, 0.3682, 0.3809,\n",
            "        0.3704, 0.3867, 0.3662, 0.3621, 0.3024, 0.2764, 0.3118, 0.2581, 0.0590,\n",
            "        0.0017, 0.0000, 0.0000, 0.0000, 0.0000, 0.0000, 0.0000, 0.0017, 0.0410,\n",
            "        0.2865, 0.3125, 0.2880, 0.3372, 0.3330, 0.3714, 0.3593, 0.3937, 0.3814,\n",
            "        0.3685, 0.3874, 0.3824, 0.3633, 0.3498, 0.3441, 0.3586, 0.3305, 0.3123,\n",
            "        0.1394, 0.0000, 0.0009, 0.0000, 0.0000, 0.0000, 0.0000, 0.0000, 0.0000,\n",
            "        0.1754, 0.3147, 0.3209, 0.3466, 0.3394, 0.3116, 0.3385, 0.3642, 0.3637,\n",
            "        0.3972, 0.3956, 0.3830, 0.3566, 0.3546, 0.3579, 0.3401, 0.3170, 0.3346,\n",
            "        0.3214, 0.2406, 0.0201, 0.0000, 0.0000, 0.0000, 0.0000, 0.0000, 0.0000,\n",
            "        0.0000, 0.2016, 0.3344, 0.3215, 0.3369, 0.3353, 0.3084, 0.3332, 0.3490,\n",
            "        0.3773, 0.3689, 0.3826, 0.3862, 0.3624, 0.3475, 0.3266, 0.3134, 0.3334,\n",
            "        0.3389, 0.3511, 0.3139, 0.0956, 0.0000, 0.0000, 0.0000, 0.0000, 0.0000,\n",
            "        0.0000, 0.0564, 0.2133, 0.3385, 0.3526, 0.3464, 0.3390, 0.3276, 0.3739,\n",
            "        0.3382, 0.3568, 0.3555, 0.3077, 0.3601, 0.3638, 0.3109, 0.3439, 0.3306,\n",
            "        0.3700, 0.3790, 0.3645, 0.2762, 0.1717, 0.1297, 0.0847, 0.0000, 0.0000,\n",
            "        0.0000, 0.0000, 0.1121, 0.2271, 0.3424, 0.3573, 0.3635, 0.3626, 0.3389,\n",
            "        0.3481, 0.3368, 0.3558, 0.3662, 0.3217, 0.3635, 0.3375, 0.3113, 0.3574,\n",
            "        0.3487, 0.3539, 0.3620, 0.3529, 0.3313, 0.2147, 0.1815, 0.1504, 0.0000,\n",
            "        0.0000, 0.0009, 0.0009, 0.0000, 0.1790, 0.3395, 0.3629, 0.3797, 0.3715,\n",
            "        0.3490, 0.3361, 0.3470, 0.3466, 0.3511, 0.3202, 0.3456, 0.3069, 0.2966,\n",
            "        0.3390, 0.3190, 0.3569, 0.3790, 0.3525, 0.3478, 0.2121, 0.1901, 0.2232,\n",
            "        0.0526, 0.0000, 0.0078, 0.0000, 0.0111, 0.2441, 0.3073, 0.3300, 0.3895,\n",
            "        0.3750, 0.3637, 0.3338, 0.3280, 0.3286, 0.2960, 0.3191, 0.3593, 0.3245,\n",
            "        0.2796, 0.3196, 0.2951, 0.3331, 0.3530, 0.3431, 0.3547, 0.2644, 0.2472,\n",
            "        0.2370, 0.0754, 0.0000, 0.1462, 0.0539, 0.0572, 0.2562, 0.3344, 0.3316,\n",
            "        0.3948, 0.3662, 0.3390, 0.2889, 0.2821, 0.3026, 0.3057, 0.3019, 0.2868,\n",
            "        0.3021, 0.3003, 0.3226, 0.3111, 0.3310, 0.3700, 0.3437, 0.3278, 0.2974,\n",
            "        0.2447, 0.2245, 0.0689, 0.0094, 0.1700, 0.1198, 0.0978, 0.2467, 0.3533,\n",
            "        0.3162, 0.4140, 0.3423, 0.3298, 0.2973, 0.3094, 0.3070, 0.2985, 0.3016,\n",
            "        0.2990, 0.2633, 0.3095, 0.3306, 0.3453, 0.3606, 0.3882, 0.3678, 0.3811,\n",
            "        0.2962, 0.2483, 0.2379, 0.0745, 0.0470, 0.1700, 0.1300, 0.1567, 0.2343,\n",
            "        0.3224, 0.3274, 0.3859, 0.3305, 0.3369, 0.2827, 0.2821, 0.2473, 0.2791,\n",
            "        0.2886, 0.2811, 0.2621, 0.2696, 0.2838, 0.3124, 0.3042, 0.3674, 0.3362,\n",
            "        0.3574, 0.3086, 0.2074, 0.2670, 0.0703, 0.0669, 0.2090, 0.1503, 0.1833,\n",
            "        0.2698, 0.3681, 0.3624, 0.3767, 0.3339, 0.3237, 0.2767, 0.2932, 0.2687,\n",
            "        0.3056, 0.2896, 0.2628, 0.2358, 0.2764, 0.2835, 0.3081, 0.2777, 0.3553,\n",
            "        0.3101, 0.3163, 0.2976, 0.2471, 0.2700, 0.0931, 0.1296, 0.2658, 0.1838,\n",
            "        0.1831, 0.2733, 0.3347, 0.3529, 0.3442, 0.3197, 0.3279, 0.2751, 0.2610,\n",
            "        0.2632, 0.3134, 0.3032, 0.2826, 0.2399, 0.3114, 0.3051, 0.3263, 0.2810,\n",
            "        0.3505, 0.3434, 0.3465, 0.3036, 0.2748, 0.3108, 0.1009, 0.1253, 0.2223,\n",
            "        0.1882, 0.2113, 0.2894, 0.3440, 0.3364, 0.3513, 0.3168, 0.3007, 0.2677,\n",
            "        0.2416, 0.2630, 0.3065, 0.3152, 0.2955, 0.2710, 0.3164, 0.2959, 0.3391,\n",
            "        0.2888, 0.3629, 0.3250, 0.3259, 0.2639, 0.2088, 0.2474, 0.1775, 0.1478,\n",
            "        0.1670, 0.0882, 0.1387, 0.3023, 0.3139, 0.3464, 0.3176, 0.3471, 0.3093,\n",
            "        0.3017, 0.2949, 0.2871, 0.3208, 0.3432, 0.3330, 0.3207, 0.3118, 0.3045,\n",
            "        0.3181, 0.2945, 0.3675, 0.3317, 0.3465, 0.3003, 0.2360, 0.2872, 0.2050,\n",
            "        0.1403, 0.2193, 0.1910, 0.1877, 0.3202, 0.3356, 0.3795, 0.3111, 0.3620,\n",
            "        0.3377, 0.3122, 0.2778, 0.2749, 0.3260, 0.3074, 0.3256, 0.3306, 0.2930,\n",
            "        0.3006, 0.3214, 0.2853, 0.3602, 0.3395, 0.3561, 0.2759, 0.2509, 0.2963,\n",
            "        0.1126, 0.0755, 0.2178, 0.1982, 0.2064, 0.3177, 0.3411, 0.3843, 0.3264,\n",
            "        0.3536, 0.3118, 0.2985, 0.2683, 0.2681, 0.3209, 0.3131, 0.3323, 0.3292,\n",
            "        0.3129, 0.2934, 0.3383, 0.2836, 0.3628, 0.3613, 0.3752, 0.2985, 0.2578,\n",
            "        0.2610, 0.0572, 0.0162, 0.1173, 0.1589, 0.1913, 0.3410, 0.3598, 0.3639,\n",
            "        0.3260, 0.3498, 0.3410, 0.3387, 0.3134, 0.3156, 0.3686, 0.3516, 0.3506,\n",
            "        0.3516, 0.3590, 0.3428, 0.3491, 0.3395, 0.3438, 0.3985, 0.3829, 0.3243,\n",
            "        0.2644, 0.2552, 0.0629, 0.0000, 0.0214, 0.0830, 0.1052, 0.2834, 0.3341,\n",
            "        0.3559, 0.3326, 0.3569, 0.3742, 0.3394, 0.3338, 0.3553, 0.3491, 0.3682,\n",
            "        0.3561, 0.3757, 0.3557, 0.3608, 0.3762, 0.3489, 0.3039, 0.3602, 0.3665,\n",
            "        0.2948, 0.1987, 0.2275, 0.0391, 0.0419, 0.0890, 0.0274, 0.0637, 0.2985,\n",
            "        0.3086, 0.3400, 0.2858, 0.3322, 0.3404, 0.3716, 0.3674, 0.3689, 0.3336,\n",
            "        0.3510, 0.3387, 0.3767, 0.3843, 0.3765, 0.3647, 0.3590, 0.1968, 0.3220,\n",
            "        0.3476, 0.2597, 0.0806, 0.0282, 0.0000, 0.0000, 0.0000, 0.0000, 0.0768,\n",
            "        0.2834, 0.3073, 0.3489, 0.2507, 0.3117, 0.3378, 0.3652, 0.3914, 0.3933,\n",
            "        0.3437, 0.3557, 0.3548, 0.3815, 0.3966, 0.4018, 0.3775, 0.3514, 0.1703,\n",
            "        0.3241, 0.3555, 0.2750, 0.0938, 0.0000, 0.0000, 0.0000, 0.0000, 0.0000,\n",
            "        0.0880, 0.2761, 0.3069, 0.3228, 0.2650, 0.2952, 0.3418, 0.3412, 0.3859,\n",
            "        0.3839, 0.3514, 0.3588, 0.3418, 0.3786, 0.3890, 0.3861, 0.3785, 0.3195,\n",
            "        0.1554, 0.3239, 0.3416, 0.2858, 0.1240, 0.0000, 0.0000, 0.0000, 0.0000,\n",
            "        0.0000, 0.1216, 0.2363, 0.3170, 0.3280, 0.2726, 0.2750, 0.3472, 0.3210,\n",
            "        0.3929, 0.3818, 0.3515, 0.3369, 0.3167, 0.3600, 0.3949, 0.3825, 0.3608,\n",
            "        0.3631, 0.1847, 0.3237, 0.3432, 0.2733, 0.0967, 0.0000, 0.0000, 0.0000,\n",
            "        0.0000, 0.0000, 0.1280, 0.2087, 0.3051, 0.3039, 0.1923, 0.2460, 0.3146,\n",
            "        0.3760, 0.3889, 0.3978, 0.3957, 0.3545, 0.3429, 0.3768, 0.4046, 0.3933,\n",
            "        0.3480, 0.2873, 0.1130, 0.2827, 0.3051, 0.2141, 0.0923, 0.0000, 0.0000,\n",
            "        0.0000, 0.0000, 0.0000, 0.0642, 0.1239, 0.2043, 0.2071, 0.1532, 0.2138,\n",
            "        0.2434, 0.2493, 0.2867, 0.2947, 0.2762, 0.2572, 0.2607, 0.2836, 0.2994,\n",
            "        0.2833, 0.2576, 0.1691, 0.0439, 0.1951, 0.2133, 0.1174, 0.0693, 0.0000,\n",
            "        0.0000])\n"
          ]
        }
      ],
      "source": [
        "# Reshape the images tensor to flatten the spatial dimensions\n",
        "images_flat = pic.view(-1, 28*28)\n",
        "\n",
        "# Calculate the mean and standard deviation\n",
        "mean = torch.mean(images_flat, dim=0)\n",
        "std = torch.std(images_flat, dim=0)\n",
        "\n",
        "# Print the mean and standard deviation\n",
        "print(\"Mean:\", mean)\n",
        "print(\"Standard Deviation:\", std)"
      ]
    },
    {
      "cell_type": "code",
      "execution_count": null,
      "metadata": {
        "id": "dpnrZUIidQ5K"
      },
      "outputs": [],
      "source": [
        "# Reshape the images tensor to flatten the spatial dimensions\n",
        "images_flat = pic[0].view(-1, 28*28)\n",
        "\n",
        "# Calculate the mean and standard deviation\n",
        "mean = torch.mean(images_flat)#, dim=0)\n",
        "std = torch.std(images_flat)#, dim=0)\n",
        "\n",
        "# Print the mean and standard deviation\n",
        "print(\"Mean:\", mean)\n",
        "print(\"Standard Deviation:\", std)\n"
      ]
    },
    {
      "cell_type": "code",
      "execution_count": null,
      "metadata": {
        "colab": {
          "base_uri": "https://localhost:8080/"
        },
        "id": "79GONQMWq8K3",
        "outputId": "8a95e118-36c1-4d2a-c594-caf154460264"
      },
      "outputs": [
        {
          "name": "stderr",
          "output_type": "stream",
          "text": [
            "/usr/local/lib/python3.10/dist-packages/foolbox/utils.py:80: UserWarning: samples() has only 20 samples and repeats itself if batchsize > 20\n",
            "  warnings.warn(\n"
          ]
        },
        {
          "name": "stdout",
          "output_type": "stream",
          "text": [
            "images.shape torch.Size([1000, 1, 28, 28])\n",
            "labels.shape torch.Size([1000])\n",
            "clean accuracy: 10.0%\n"
          ]
        }
      ],
      "source": [
        "import eagerpy as ep\n",
        "from foolbox import PyTorchModel, accuracy, samples\n",
        "import foolbox as fb\n",
        "\n",
        "fmodel = PyTorchModel(model_without, bounds=(0, 1))\n",
        "\n",
        "imagess, labelss = ep.astensors(*samples(fmodel, dataset=\"MNIST\", batchsize=1000))\n",
        "\n",
        "print(\"images.shape\", imagess.shape)\n",
        "print(\"labels.shape\", labelss.shape)\n",
        "\n",
        "\n",
        "\n",
        "mean_images = 0.25\n",
        "std_images = 1.2\n",
        "\n",
        "\n",
        "normalized_images = (imagess - mean_images) / std_images\n",
        "\n",
        "\n",
        "clean_acc = accuracy(fmodel, normalized_images, labelss)\n",
        "print(f\"clean accuracy: {clean_acc * 100:.1f}%\")\n"
      ]
    },
    {
      "cell_type": "code",
      "execution_count": null,
      "metadata": {
        "id": "cmYc_lXwLMIG"
      },
      "outputs": [],
      "source": [
        "imagess"
      ]
    },
    {
      "cell_type": "code",
      "execution_count": null,
      "metadata": {
        "colab": {
          "base_uri": "https://localhost:8080/"
        },
        "id": "djE0jib42mVO",
        "outputId": "9efb96b2-ba67-4755-a3a8-c3c16f211881"
      },
      "outputs": [
        {
          "data": {
            "text/plain": [
              "PyTorchTensor(tensor([[-0.4242, -0.4242, -0.4242, -0.4242, -0.4242, -0.4242, -0.4242, -0.4242,\n",
              "                       -0.4242, -0.4242, -0.4242, -0.4242, -0.4242, -0.4242, -0.4242, -0.4242,\n",
              "                       -0.4242, -0.4242, -0.4242, -0.4242, -0.4242, -0.4242, -0.4242, -0.4242,\n",
              "                       -0.4242, -0.4242, -0.4242, -0.4242],\n",
              "                      [-0.4242, -0.4242, -0.4242, -0.4242, -0.4242, -0.4242, -0.4242, -0.4242,\n",
              "                       -0.4242, -0.4242, -0.4242, -0.4242, -0.4242, -0.4242, -0.4242, -0.4242,\n",
              "                       -0.4242, -0.4242, -0.4242, -0.4242, -0.4242, -0.4242, -0.4242, -0.4242,\n",
              "                       -0.4242, -0.4242, -0.4242, -0.4242],\n",
              "                      [-0.4242, -0.4242, -0.4242, -0.4242, -0.4242, -0.4242, -0.4242, -0.4242,\n",
              "                       -0.4242, -0.4242, -0.4242, -0.4242, -0.4242, -0.4242, -0.4242, -0.4242,\n",
              "                       -0.4242, -0.4242, -0.4242, -0.4242, -0.4242, -0.4242, -0.4242, -0.4242,\n",
              "                       -0.4242, -0.4242, -0.4242, -0.4242],\n",
              "                      [-0.4242, -0.4242, -0.4242, -0.4242, -0.4242, -0.4242, -0.4242, -0.4242,\n",
              "                       -0.4242, -0.4242, -0.4242, -0.4242, -0.4242, -0.4242, -0.4242, -0.4242,\n",
              "                       -0.4242, -0.4242, -0.4242, -0.4242, -0.4242, -0.4242, -0.4242, -0.4242,\n",
              "                       -0.4242, -0.4242, -0.4242, -0.4242],\n",
              "                      [-0.4242, -0.4242, -0.4242, -0.4242, -0.4242, -0.4242, -0.4242, -0.4242,\n",
              "                       -0.4242, -0.4242, -0.4242, -0.4242, -0.4242, -0.4242, -0.4242, -0.4242,\n",
              "                       -0.4242, -0.4242, -0.4242, -0.4242, -0.4242, -0.4242, -0.4242, -0.4242,\n",
              "                       -0.4242, -0.4242, -0.4242, -0.4242],\n",
              "                      [-0.4242, -0.4242, -0.4242, -0.4242, -0.4242, -0.4242, -0.4242, -0.4242,\n",
              "                       -0.4242, -0.4242, -0.4242, -0.4242, -0.4242, -0.4242, -0.4242, -0.4242,\n",
              "                       -0.4242, -0.4242, -0.4242, -0.4242, -0.4242, -0.4242, -0.4242, -0.4242,\n",
              "                       -0.4242, -0.4242, -0.4242, -0.4242],\n",
              "                      [-0.4242, -0.4242, -0.4242, -0.4242, -0.4242, -0.4242, -0.4242, -0.4242,\n",
              "                       -0.4242, -0.4242, -0.4242, -0.4242, -0.4242, -0.4242, -0.4242, -0.4242,\n",
              "                       -0.4242, -0.4242, -0.4242, -0.4242, -0.4242, -0.4242, -0.4242, -0.4242,\n",
              "                       -0.4242, -0.4242, -0.4242, -0.4242],\n",
              "                      [-0.4242, -0.4242, -0.4242, -0.4242, -0.4242, -0.4242,  0.6450,  1.9305,\n",
              "                        1.5996,  1.4978,  0.3395,  0.0340, -0.4242, -0.4242, -0.4242, -0.4242,\n",
              "                       -0.4242, -0.4242, -0.4242, -0.4242, -0.4242, -0.4242, -0.4242, -0.4242,\n",
              "                       -0.4242, -0.4242, -0.4242, -0.4242],\n",
              "                      [-0.4242, -0.4242, -0.4242, -0.4242, -0.4242, -0.4242,  2.4015,  2.8088,\n",
              "                        2.8088,  2.8088,  2.8088,  2.6433,  2.0960,  2.0960,  2.0960,  2.0960,\n",
              "                        2.0960,  2.0960,  2.0960,  2.0960,  1.7396,  0.2377, -0.4242, -0.4242,\n",
              "                       -0.4242, -0.4242, -0.4242, -0.4242],\n",
              "                      [-0.4242, -0.4242, -0.4242, -0.4242, -0.4242, -0.4242,  0.4286,  1.0268,\n",
              "                        0.4922,  1.0268,  1.6505,  2.4651,  2.8088,  2.4396,  2.8088,  2.8088,\n",
              "                        2.8088,  2.7578,  2.4906,  2.8088,  2.8088,  1.3577, -0.4242, -0.4242,\n",
              "                       -0.4242, -0.4242, -0.4242, -0.4242],\n",
              "                      [-0.4242, -0.4242, -0.4242, -0.4242, -0.4242, -0.4242, -0.4242, -0.4242,\n",
              "                       -0.4242, -0.4242, -0.4242, -0.2078,  0.4159, -0.2460,  0.4286,  0.4286,\n",
              "                        0.4286,  0.3268, -0.1569,  2.5797,  2.8088,  0.9250, -0.4242, -0.4242,\n",
              "                       -0.4242, -0.4242, -0.4242, -0.4242],\n",
              "                      [-0.4242, -0.4242, -0.4242, -0.4242, -0.4242, -0.4242, -0.4242, -0.4242,\n",
              "                       -0.4242, -0.4242, -0.4242, -0.4242, -0.4242, -0.4242, -0.4242, -0.4242,\n",
              "                       -0.4242, -0.4242,  0.6322,  2.7960,  2.2360, -0.1951, -0.4242, -0.4242,\n",
              "                       -0.4242, -0.4242, -0.4242, -0.4242],\n",
              "                      [-0.4242, -0.4242, -0.4242, -0.4242, -0.4242, -0.4242, -0.4242, -0.4242,\n",
              "                       -0.4242, -0.4242, -0.4242, -0.4242, -0.4242, -0.4242, -0.4242, -0.4242,\n",
              "                       -0.4242, -0.1442,  2.5415,  2.8215,  0.6322, -0.4242, -0.4242, -0.4242,\n",
              "                       -0.4242, -0.4242, -0.4242, -0.4242],\n",
              "                      [-0.4242, -0.4242, -0.4242, -0.4242, -0.4242, -0.4242, -0.4242, -0.4242,\n",
              "                       -0.4242, -0.4242, -0.4242, -0.4242, -0.4242, -0.4242, -0.4242, -0.4242,\n",
              "                       -0.4242,  1.2177,  2.8088,  2.6051,  0.1358, -0.4242, -0.4242, -0.4242,\n",
              "                       -0.4242, -0.4242, -0.4242, -0.4242],\n",
              "                      [-0.4242, -0.4242, -0.4242, -0.4242, -0.4242, -0.4242, -0.4242, -0.4242,\n",
              "                       -0.4242, -0.4242, -0.4242, -0.4242, -0.4242, -0.4242, -0.4242, -0.4242,\n",
              "                        0.3268,  2.7451,  2.8088,  0.3649, -0.4242, -0.4242, -0.4242, -0.4242,\n",
              "                       -0.4242, -0.4242, -0.4242, -0.4242],\n",
              "                      [-0.4242, -0.4242, -0.4242, -0.4242, -0.4242, -0.4242, -0.4242, -0.4242,\n",
              "                       -0.4242, -0.4242, -0.4242, -0.4242, -0.4242, -0.4242, -0.4242, -0.4242,\n",
              "                        1.2686,  2.8088,  1.9560, -0.3606, -0.4242, -0.4242, -0.4242, -0.4242,\n",
              "                       -0.4242, -0.4242, -0.4242, -0.4242],\n",
              "                      [-0.4242, -0.4242, -0.4242, -0.4242, -0.4242, -0.4242, -0.4242, -0.4242,\n",
              "                       -0.4242, -0.4242, -0.4242, -0.4242, -0.4242, -0.4242, -0.4242, -0.3097,\n",
              "                        2.1851,  2.7324,  0.3140, -0.4242, -0.4242, -0.4242, -0.4242, -0.4242,\n",
              "                       -0.4242, -0.4242, -0.4242, -0.4242],\n",
              "                      [-0.4242, -0.4242, -0.4242, -0.4242, -0.4242, -0.4242, -0.4242, -0.4242,\n",
              "                       -0.4242, -0.4242, -0.4242, -0.4242, -0.4242, -0.4242, -0.4242,  1.1795,\n",
              "                        2.8088,  1.8923, -0.4242, -0.4242, -0.4242, -0.4242, -0.4242, -0.4242,\n",
              "                       -0.4242, -0.4242, -0.4242, -0.4242],\n",
              "                      [-0.4242, -0.4242, -0.4242, -0.4242, -0.4242, -0.4242, -0.4242, -0.4242,\n",
              "                       -0.4242, -0.4242, -0.4242, -0.4242, -0.4242, -0.4242,  0.5304,  2.7706,\n",
              "                        2.6306,  0.3013, -0.4242, -0.4242, -0.4242, -0.4242, -0.4242, -0.4242,\n",
              "                       -0.4242, -0.4242, -0.4242, -0.4242],\n",
              "                      [-0.4242, -0.4242, -0.4242, -0.4242, -0.4242, -0.4242, -0.4242, -0.4242,\n",
              "                       -0.4242, -0.4242, -0.4242, -0.4242, -0.4242, -0.1824,  2.3887,  2.8088,\n",
              "                        1.6887, -0.4242, -0.4242, -0.4242, -0.4242, -0.4242, -0.4242, -0.4242,\n",
              "                       -0.4242, -0.4242, -0.4242, -0.4242],\n",
              "                      [-0.4242, -0.4242, -0.4242, -0.4242, -0.4242, -0.4242, -0.4242, -0.4242,\n",
              "                       -0.4242, -0.4242, -0.4242, -0.4242, -0.3860,  2.1596,  2.8088,  2.3633,\n",
              "                        0.0213, -0.4242, -0.4242, -0.4242, -0.4242, -0.4242, -0.4242, -0.4242,\n",
              "                       -0.4242, -0.4242, -0.4242, -0.4242],\n",
              "                      [-0.4242, -0.4242, -0.4242, -0.4242, -0.4242, -0.4242, -0.4242, -0.4242,\n",
              "                       -0.4242, -0.4242, -0.4242, -0.4242,  0.0595,  2.8088,  2.8088,  0.5559,\n",
              "                       -0.4242, -0.4242, -0.4242, -0.4242, -0.4242, -0.4242, -0.4242, -0.4242,\n",
              "                       -0.4242, -0.4242, -0.4242, -0.4242],\n",
              "                      [-0.4242, -0.4242, -0.4242, -0.4242, -0.4242, -0.4242, -0.4242, -0.4242,\n",
              "                       -0.4242, -0.4242, -0.4242, -0.0296,  2.4269,  2.8088,  1.0395, -0.4115,\n",
              "                       -0.4242, -0.4242, -0.4242, -0.4242, -0.4242, -0.4242, -0.4242, -0.4242,\n",
              "                       -0.4242, -0.4242, -0.4242, -0.4242],\n",
              "                      [-0.4242, -0.4242, -0.4242, -0.4242, -0.4242, -0.4242, -0.4242, -0.4242,\n",
              "                       -0.4242, -0.4242, -0.4242,  1.2686,  2.8088,  2.8088,  0.2377, -0.4242,\n",
              "                       -0.4242, -0.4242, -0.4242, -0.4242, -0.4242, -0.4242, -0.4242, -0.4242,\n",
              "                       -0.4242, -0.4242, -0.4242, -0.4242],\n",
              "                      [-0.4242, -0.4242, -0.4242, -0.4242, -0.4242, -0.4242, -0.4242, -0.4242,\n",
              "                       -0.4242, -0.4242,  0.3522,  2.6560,  2.8088,  2.8088,  0.2377, -0.4242,\n",
              "                       -0.4242, -0.4242, -0.4242, -0.4242, -0.4242, -0.4242, -0.4242, -0.4242,\n",
              "                       -0.4242, -0.4242, -0.4242, -0.4242],\n",
              "                      [-0.4242, -0.4242, -0.4242, -0.4242, -0.4242, -0.4242, -0.4242, -0.4242,\n",
              "                       -0.4242, -0.4242,  1.1159,  2.8088,  2.8088,  2.3633,  0.0849, -0.4242,\n",
              "                       -0.4242, -0.4242, -0.4242, -0.4242, -0.4242, -0.4242, -0.4242, -0.4242,\n",
              "                       -0.4242, -0.4242, -0.4242, -0.4242],\n",
              "                      [-0.4242, -0.4242, -0.4242, -0.4242, -0.4242, -0.4242, -0.4242, -0.4242,\n",
              "                       -0.4242, -0.4242,  1.1159,  2.8088,  2.2105, -0.1951, -0.4242, -0.4242,\n",
              "                       -0.4242, -0.4242, -0.4242, -0.4242, -0.4242, -0.4242, -0.4242, -0.4242,\n",
              "                       -0.4242, -0.4242, -0.4242, -0.4242],\n",
              "                      [-0.4242, -0.4242, -0.4242, -0.4242, -0.4242, -0.4242, -0.4242, -0.4242,\n",
              "                       -0.4242, -0.4242, -0.4242, -0.4242, -0.4242, -0.4242, -0.4242, -0.4242,\n",
              "                       -0.4242, -0.4242, -0.4242, -0.4242, -0.4242, -0.4242, -0.4242, -0.4242,\n",
              "                       -0.4242, -0.4242, -0.4242, -0.4242]]))"
            ]
          },
          "execution_count": 87,
          "metadata": {},
          "output_type": "execute_result"
        }
      ],
      "source": [
        "max(images__[0])"
      ]
    },
    {
      "cell_type": "code",
      "execution_count": null,
      "metadata": {
        "colab": {
          "base_uri": "https://localhost:8080/"
        },
        "id": "VU27gEJFPiA1",
        "outputId": "3de99486-9a45-4bc2-a9bb-d2a2b1f92a73"
      },
      "outputs": [
        {
          "data": {
            "text/plain": [
              "PyTorchTensor(tensor([[[-0.4242, -0.4242, -0.4242, -0.4242, -0.4242, -0.4242, -0.4242,\n",
              "                        -0.4242, -0.4242, -0.4242, -0.4242, -0.4242, -0.4242, -0.4242,\n",
              "                        -0.4242, -0.4242, -0.4242, -0.4242, -0.4242, -0.4242, -0.4242,\n",
              "                        -0.4242, -0.4242, -0.4242, -0.4242, -0.4242, -0.4242, -0.4242],\n",
              "                       [-0.4242, -0.4242, -0.4242, -0.4242, -0.4242, -0.4242, -0.4242,\n",
              "                        -0.4242, -0.4242, -0.4242, -0.4242, -0.4242, -0.4242, -0.4242,\n",
              "                        -0.4242, -0.4242, -0.4242, -0.4242, -0.4242, -0.4242, -0.4242,\n",
              "                        -0.4242, -0.4242, -0.4242, -0.4242, -0.4242, -0.4242, -0.4242],\n",
              "                       [-0.4242, -0.4242, -0.4242, -0.4242, -0.4242, -0.4242, -0.4242,\n",
              "                        -0.4242, -0.4242, -0.4242, -0.4242, -0.4242, -0.4242, -0.4242,\n",
              "                        -0.4242, -0.4242, -0.4242, -0.4242, -0.4242, -0.4242, -0.4242,\n",
              "                        -0.4242, -0.4242, -0.4242, -0.4242, -0.4242, -0.4242, -0.4242],\n",
              "                       [-0.4242, -0.4242, -0.4242, -0.4242, -0.4242, -0.4242, -0.4242,\n",
              "                        -0.4242, -0.4242, -0.4242, -0.4242, -0.4242, -0.4242, -0.4242,\n",
              "                        -0.4242, -0.4242, -0.4242, -0.4242, -0.4242, -0.4242, -0.4242,\n",
              "                        -0.4242, -0.4242, -0.4242, -0.4242, -0.4242, -0.4242, -0.4242],\n",
              "                       [-0.4242, -0.4242, -0.4242, -0.4242, -0.4242, -0.4242, -0.4242,\n",
              "                        -0.4242, -0.4242, -0.4242, -0.4242, -0.4242, -0.4242, -0.4242,\n",
              "                        -0.4242, -0.4242, -0.4242, -0.4242, -0.4242, -0.4242, -0.4242,\n",
              "                        -0.4242, -0.4242, -0.4242, -0.4242, -0.4242, -0.4242, -0.4242],\n",
              "                       [-0.4242, -0.4242, -0.4242, -0.4242, -0.4242, -0.4242, -0.4242,\n",
              "                        -0.4242, -0.4242, -0.4242, -0.4242, -0.4242, -0.4242, -0.4242,\n",
              "                        -0.4242, -0.4242, -0.4242, -0.4242, -0.4242, -0.4242, -0.4242,\n",
              "                        -0.4242, -0.4242, -0.4242, -0.4242, -0.4242, -0.4242, -0.4242],\n",
              "                       [-0.4242, -0.4242, -0.4242, -0.4242, -0.4242, -0.4242, -0.4242,\n",
              "                        -0.4242, -0.4242, -0.4242, -0.4242, -0.4242, -0.4242, -0.4242,\n",
              "                        -0.4242, -0.4242, -0.4242, -0.4242, -0.4242, -0.4242, -0.4242,\n",
              "                        -0.4242, -0.4242, -0.4242, -0.4242, -0.4242, -0.4242, -0.4242],\n",
              "                       [-0.4242, -0.4242, -0.4242, -0.4242, -0.4242, -0.4242,  0.6450,\n",
              "                         1.9305,  1.5996,  1.4978,  0.3395,  0.0340, -0.4242, -0.4242,\n",
              "                        -0.4242, -0.4242, -0.4242, -0.4242, -0.4242, -0.4242, -0.4242,\n",
              "                        -0.4242, -0.4242, -0.4242, -0.4242, -0.4242, -0.4242, -0.4242],\n",
              "                       [-0.4242, -0.4242, -0.4242, -0.4242, -0.4242, -0.4242,  2.4015,\n",
              "                         2.8088,  2.8088,  2.8088,  2.8088,  2.6433,  2.0960,  2.0960,\n",
              "                         2.0960,  2.0960,  2.0960,  2.0960,  2.0960,  2.0960,  1.7396,\n",
              "                         0.2377, -0.4242, -0.4242, -0.4242, -0.4242, -0.4242, -0.4242],\n",
              "                       [-0.4242, -0.4242, -0.4242, -0.4242, -0.4242, -0.4242,  0.4286,\n",
              "                         1.0268,  0.4922,  1.0268,  1.6505,  2.4651,  2.8088,  2.4396,\n",
              "                         2.8088,  2.8088,  2.8088,  2.7578,  2.4906,  2.8088,  2.8088,\n",
              "                         1.3577, -0.4242, -0.4242, -0.4242, -0.4242, -0.4242, -0.4242],\n",
              "                       [-0.4242, -0.4242, -0.4242, -0.4242, -0.4242, -0.4242, -0.4242,\n",
              "                        -0.4242, -0.4242, -0.4242, -0.4242, -0.2078,  0.4159, -0.2460,\n",
              "                         0.4286,  0.4286,  0.4286,  0.3268, -0.1569,  2.5797,  2.8088,\n",
              "                         0.9250, -0.4242, -0.4242, -0.4242, -0.4242, -0.4242, -0.4242],\n",
              "                       [-0.4242, -0.4242, -0.4242, -0.4242, -0.4242, -0.4242, -0.4242,\n",
              "                        -0.4242, -0.4242, -0.4242, -0.4242, -0.4242, -0.4242, -0.4242,\n",
              "                        -0.4242, -0.4242, -0.4242, -0.4242,  0.6322,  2.7960,  2.2360,\n",
              "                        -0.1951, -0.4242, -0.4242, -0.4242, -0.4242, -0.4242, -0.4242],\n",
              "                       [-0.4242, -0.4242, -0.4242, -0.4242, -0.4242, -0.4242, -0.4242,\n",
              "                        -0.4242, -0.4242, -0.4242, -0.4242, -0.4242, -0.4242, -0.4242,\n",
              "                        -0.4242, -0.4242, -0.4242, -0.1442,  2.5415,  2.8215,  0.6322,\n",
              "                        -0.4242, -0.4242, -0.4242, -0.4242, -0.4242, -0.4242, -0.4242],\n",
              "                       [-0.4242, -0.4242, -0.4242, -0.4242, -0.4242, -0.4242, -0.4242,\n",
              "                        -0.4242, -0.4242, -0.4242, -0.4242, -0.4242, -0.4242, -0.4242,\n",
              "                        -0.4242, -0.4242, -0.4242,  1.2177,  2.8088,  2.6051,  0.1358,\n",
              "                        -0.4242, -0.4242, -0.4242, -0.4242, -0.4242, -0.4242, -0.4242],\n",
              "                       [-0.4242, -0.4242, -0.4242, -0.4242, -0.4242, -0.4242, -0.4242,\n",
              "                        -0.4242, -0.4242, -0.4242, -0.4242, -0.4242, -0.4242, -0.4242,\n",
              "                        -0.4242, -0.4242,  0.3268,  2.7451,  2.8088,  0.3649, -0.4242,\n",
              "                        -0.4242, -0.4242, -0.4242, -0.4242, -0.4242, -0.4242, -0.4242],\n",
              "                       [-0.4242, -0.4242, -0.4242, -0.4242, -0.4242, -0.4242, -0.4242,\n",
              "                        -0.4242, -0.4242, -0.4242, -0.4242, -0.4242, -0.4242, -0.4242,\n",
              "                        -0.4242, -0.4242,  1.2686,  2.8088,  1.9560, -0.3606, -0.4242,\n",
              "                        -0.4242, -0.4242, -0.4242, -0.4242, -0.4242, -0.4242, -0.4242],\n",
              "                       [-0.4242, -0.4242, -0.4242, -0.4242, -0.4242, -0.4242, -0.4242,\n",
              "                        -0.4242, -0.4242, -0.4242, -0.4242, -0.4242, -0.4242, -0.4242,\n",
              "                        -0.4242, -0.3097,  2.1851,  2.7324,  0.3140, -0.4242, -0.4242,\n",
              "                        -0.4242, -0.4242, -0.4242, -0.4242, -0.4242, -0.4242, -0.4242],\n",
              "                       [-0.4242, -0.4242, -0.4242, -0.4242, -0.4242, -0.4242, -0.4242,\n",
              "                        -0.4242, -0.4242, -0.4242, -0.4242, -0.4242, -0.4242, -0.4242,\n",
              "                        -0.4242,  1.1795,  2.8088,  1.8923, -0.4242, -0.4242, -0.4242,\n",
              "                        -0.4242, -0.4242, -0.4242, -0.4242, -0.4242, -0.4242, -0.4242],\n",
              "                       [-0.4242, -0.4242, -0.4242, -0.4242, -0.4242, -0.4242, -0.4242,\n",
              "                        -0.4242, -0.4242, -0.4242, -0.4242, -0.4242, -0.4242, -0.4242,\n",
              "                         0.5304,  2.7706,  2.6306,  0.3013, -0.4242, -0.4242, -0.4242,\n",
              "                        -0.4242, -0.4242, -0.4242, -0.4242, -0.4242, -0.4242, -0.4242],\n",
              "                       [-0.4242, -0.4242, -0.4242, -0.4242, -0.4242, -0.4242, -0.4242,\n",
              "                        -0.4242, -0.4242, -0.4242, -0.4242, -0.4242, -0.4242, -0.1824,\n",
              "                         2.3887,  2.8088,  1.6887, -0.4242, -0.4242, -0.4242, -0.4242,\n",
              "                        -0.4242, -0.4242, -0.4242, -0.4242, -0.4242, -0.4242, -0.4242],\n",
              "                       [-0.4242, -0.4242, -0.4242, -0.4242, -0.4242, -0.4242, -0.4242,\n",
              "                        -0.4242, -0.4242, -0.4242, -0.4242, -0.4242, -0.3860,  2.1596,\n",
              "                         2.8088,  2.3633,  0.0213, -0.4242, -0.4242, -0.4242, -0.4242,\n",
              "                        -0.4242, -0.4242, -0.4242, -0.4242, -0.4242, -0.4242, -0.4242],\n",
              "                       [-0.4242, -0.4242, -0.4242, -0.4242, -0.4242, -0.4242, -0.4242,\n",
              "                        -0.4242, -0.4242, -0.4242, -0.4242, -0.4242,  0.0595,  2.8088,\n",
              "                         2.8088,  0.5559, -0.4242, -0.4242, -0.4242, -0.4242, -0.4242,\n",
              "                        -0.4242, -0.4242, -0.4242, -0.4242, -0.4242, -0.4242, -0.4242],\n",
              "                       [-0.4242, -0.4242, -0.4242, -0.4242, -0.4242, -0.4242, -0.4242,\n",
              "                        -0.4242, -0.4242, -0.4242, -0.4242, -0.0296,  2.4269,  2.8088,\n",
              "                         1.0395, -0.4115, -0.4242, -0.4242, -0.4242, -0.4242, -0.4242,\n",
              "                        -0.4242, -0.4242, -0.4242, -0.4242, -0.4242, -0.4242, -0.4242],\n",
              "                       [-0.4242, -0.4242, -0.4242, -0.4242, -0.4242, -0.4242, -0.4242,\n",
              "                        -0.4242, -0.4242, -0.4242, -0.4242,  1.2686,  2.8088,  2.8088,\n",
              "                         0.2377, -0.4242, -0.4242, -0.4242, -0.4242, -0.4242, -0.4242,\n",
              "                        -0.4242, -0.4242, -0.4242, -0.4242, -0.4242, -0.4242, -0.4242],\n",
              "                       [-0.4242, -0.4242, -0.4242, -0.4242, -0.4242, -0.4242, -0.4242,\n",
              "                        -0.4242, -0.4242, -0.4242,  0.3522,  2.6560,  2.8088,  2.8088,\n",
              "                         0.2377, -0.4242, -0.4242, -0.4242, -0.4242, -0.4242, -0.4242,\n",
              "                        -0.4242, -0.4242, -0.4242, -0.4242, -0.4242, -0.4242, -0.4242],\n",
              "                       [-0.4242, -0.4242, -0.4242, -0.4242, -0.4242, -0.4242, -0.4242,\n",
              "                        -0.4242, -0.4242, -0.4242,  1.1159,  2.8088,  2.8088,  2.3633,\n",
              "                         0.0849, -0.4242, -0.4242, -0.4242, -0.4242, -0.4242, -0.4242,\n",
              "                        -0.4242, -0.4242, -0.4242, -0.4242, -0.4242, -0.4242, -0.4242],\n",
              "                       [-0.4242, -0.4242, -0.4242, -0.4242, -0.4242, -0.4242, -0.4242,\n",
              "                        -0.4242, -0.4242, -0.4242,  1.1159,  2.8088,  2.2105, -0.1951,\n",
              "                        -0.4242, -0.4242, -0.4242, -0.4242, -0.4242, -0.4242, -0.4242,\n",
              "                        -0.4242, -0.4242, -0.4242, -0.4242, -0.4242, -0.4242, -0.4242],\n",
              "                       [-0.4242, -0.4242, -0.4242, -0.4242, -0.4242, -0.4242, -0.4242,\n",
              "                        -0.4242, -0.4242, -0.4242, -0.4242, -0.4242, -0.4242, -0.4242,\n",
              "                        -0.4242, -0.4242, -0.4242, -0.4242, -0.4242, -0.4242, -0.4242,\n",
              "                        -0.4242, -0.4242, -0.4242, -0.4242, -0.4242, -0.4242, -0.4242]]]))"
            ]
          },
          "execution_count": 91,
          "metadata": {},
          "output_type": "execute_result"
        }
      ],
      "source": [
        "(images__[0])"
      ]
    },
    {
      "cell_type": "code",
      "execution_count": null,
      "metadata": {
        "colab": {
          "base_uri": "https://localhost:8080/"
        },
        "id": "RdpC6HAWP5LI",
        "outputId": "b5fcf146-8491-4bcf-98b7-a42b2c499743"
      },
      "outputs": [
        {
          "data": {
            "text/plain": [
              "PyTorchTensor(tensor([[[-0.4200, -0.4200, -0.4200, -0.4200, -0.4200, -0.4200, -0.4200,\n",
              "                        -0.4200, -0.4200, -0.4200, -0.4200, -0.4200, -0.4200, -0.4200,\n",
              "                        -0.4200, -0.4200, -0.4200, -0.4200, -0.4200, -0.4200, -0.4200,\n",
              "                        -0.4200, -0.4200, -0.4200, -0.4200, -0.4200, -0.4200, -0.4200],\n",
              "                       [-0.4200, -0.4200, -0.4200, -0.4200, -0.4200, -0.4200, -0.4200,\n",
              "                        -0.4200, -0.4200, -0.4200, -0.4200, -0.4200, -0.4200, -0.4200,\n",
              "                        -0.4200, -0.4200, -0.4200, -0.4200, -0.4200, -0.4200, -0.4200,\n",
              "                        -0.4200, -0.4200, -0.4200, -0.4200, -0.4200, -0.4200, -0.4200],\n",
              "                       [-0.4200, -0.4200, -0.4200, -0.4200, -0.4200, -0.4200, -0.4200,\n",
              "                        -0.4200, -0.4200, -0.4200, -0.4200, -0.4200, -0.4200, -0.4200,\n",
              "                        -0.4200, -0.4200, -0.4200, -0.4200, -0.4200, -0.4200, -0.4200,\n",
              "                        -0.4200, -0.4200, -0.4200, -0.4200, -0.4200, -0.4200, -0.4200],\n",
              "                       [-0.4200, -0.4200, -0.4200, -0.4200, -0.4200, -0.4200, -0.4200,\n",
              "                        -0.4200, -0.4200, -0.4200, -0.4200, -0.4200, -0.4200, -0.4200,\n",
              "                        -0.4200, -0.4200, -0.4200, -0.4200, -0.4200, -0.4200, -0.4200,\n",
              "                        -0.4200, -0.4200, -0.4200, -0.4200, -0.4200, -0.4200, -0.4200],\n",
              "                       [-0.4200, -0.4200, -0.4200, -0.4200, -0.4200, -0.4200, -0.4200,\n",
              "                        -0.4200, -0.4200, -0.4200, -0.4200, -0.4200, -0.4200, -0.4200,\n",
              "                        -0.4200, -0.4200, -0.4200, -0.4200, -0.4200, -0.4200, -0.4200,\n",
              "                        -0.4200, -0.4200, -0.4200, -0.4200, -0.4200, -0.4200, -0.4200],\n",
              "                       [-0.4200, -0.4200, -0.4200, -0.4200, -0.4200, -0.4200, -0.4200,\n",
              "                        -0.4200, -0.4200, -0.4200, -0.4200, -0.4200, -0.4200, -0.4200,\n",
              "                        -0.4200, -0.4200, -0.4200, -0.4200, -0.4200, -0.4200, -0.4200,\n",
              "                        -0.4200, -0.4200, -0.4200, -0.4200, -0.4200, -0.4200, -0.4200],\n",
              "                       [-0.4200, -0.4200, -0.4200, -0.4200, -0.4200, -0.4200, -0.4200,\n",
              "                        -0.4200, -0.4200, -0.4200, -0.4200, -0.4200, -0.4200, -0.4200,\n",
              "                        -0.4200, -0.4200, -0.4200, -0.4200, -0.4200, -0.4200, -0.4200,\n",
              "                        -0.4200, -0.4200, -0.4200, -0.4200, -0.4200, -0.4200, -0.4200],\n",
              "                       [-0.4200, -0.4200, -0.4200, -0.4200, -0.4200, -0.4200, -0.4200,\n",
              "                        -0.4200, -0.4200, -0.4200, -0.4200, -0.4200, -0.4200, -0.4200,\n",
              "                        -0.4200, -0.4200, -0.4200, -0.4200, -0.4200, -0.3824, -0.4075,\n",
              "                        -0.4200, -0.4200, -0.3322, -0.4200,  0.0443, -0.4200, -0.4200],\n",
              "                       [-0.4200, -0.4200, -0.4200, -0.4200, -0.4200, -0.4200, -0.4200,\n",
              "                        -0.4200, -0.4200, -0.4200, -0.4200, -0.4200, -0.4200, -0.4075,\n",
              "                        -0.3949, -0.4200, -0.0812,  0.6341, -0.2820, -0.4200, -0.4200,\n",
              "                        -0.4200, -0.4200, -0.4200, -0.4200,  1.0733, -0.4200, -0.4200],\n",
              "                       [-0.4200, -0.4200, -0.4200, -0.4200, -0.4200, -0.4200, -0.4200,\n",
              "                        -0.4200, -0.4200, -0.4200, -0.4200, -0.4200, -0.4200, -0.4075,\n",
              "                        -0.4200, -0.4200,  0.6843,  1.3745,  0.9604, -0.4200, -0.4200,\n",
              "                        -0.4200, -0.4200, -0.1439,  0.7471,  0.9102, -0.4200, -0.4200],\n",
              "                       [-0.4200, -0.4200, -0.4200, -0.4200, -0.4200, -0.4200, -0.4200,\n",
              "                        -0.4200, -0.4200, -0.4200, -0.4200, -0.4200, -0.4200, -0.3698,\n",
              "                        -0.4200,  0.2451,  1.1988,  1.0859,  1.4247,  1.7761,  1.5502,\n",
              "                         1.6631,  1.2741,  1.5125,  1.6882,  1.3369, -0.4200, -0.4200],\n",
              "                       [-0.4200, -0.4200, -0.4200, -0.4200, -0.4200, -0.4200, -0.4200,\n",
              "                        -0.4200, -0.4200, -0.4200, -0.4200, -0.4200, -0.3949, -0.4200,\n",
              "                        -0.2820,  1.2992,  1.2114,  1.1863,  1.5878,  1.7886,  1.5753,\n",
              "                         1.6757,  1.8137,  1.4498,  1.4749,  1.3871, -0.4200, -0.4200],\n",
              "                       [-0.4200, -0.4200, -0.4200, -0.4200, -0.4200, -0.4200, -0.4075,\n",
              "                        -0.4200, -0.3949, -0.4075, -0.4200, -0.3824, -0.4200, -0.4200,\n",
              "                         1.0231,  1.0106,  0.9102,  1.2992,  1.6882,  1.5000,  1.5376,\n",
              "                         1.6506,  1.6757,  1.3745,  1.5502,  1.5627, -0.2820, -0.4200],\n",
              "                       [-0.4200, -0.4200, -0.4200, -0.4200, -0.4075, -0.4200, -0.4200,\n",
              "                        -0.4200, -0.4200, -0.4200, -0.3824, -0.4200, -0.4200,  0.6969,\n",
              "                         1.3243,  0.7094,  0.7596,  1.5000,  1.4498,  1.2239,  1.4749,\n",
              "                         1.7008,  1.7384,  1.3745,  1.5753,  1.7008,  0.1824, -0.4200],\n",
              "                       [-0.4200, -0.4200, -0.4200, -0.4200, -0.4200, -0.4200, -0.3949,\n",
              "                        -0.3698, -0.4075, -0.4200, -0.4200, -0.4200,  0.8098,  1.2867,\n",
              "                         0.9604,  0.9478,  0.9604,  1.6129,  1.2741,  1.3871,  1.4498,\n",
              "                         1.5753,  1.6757,  1.3871,  1.5627,  1.7008,  1.0733, -0.4200],\n",
              "                       [-0.4200, -0.4200, -0.3949, -0.3949, -0.4075, -0.3949, -0.4200,\n",
              "                        -0.4200, -0.4200, -0.4200, -0.0937,  0.9353,  1.0482,  0.8224,\n",
              "                         0.9729,  1.0482,  1.2867,  1.5376,  1.2616,  1.5125,  1.5125,\n",
              "                         1.5376,  1.5878,  1.3494,  1.4247,  1.5376,  1.8137, -0.4200],\n",
              "                       [-0.3824, -0.4200, -0.4200, -0.4200, -0.4200, -0.4200, -0.4200,\n",
              "                        -0.1565,  0.2451,  0.7345,  1.0482,  0.9729,  0.8725,  1.0231,\n",
              "                         1.1988,  1.2616,  1.3745,  1.5125,  1.6506,  1.7133,  1.5125,\n",
              "                         1.4749,  1.5125,  1.3745,  1.3118,  1.4624,  1.6506,  0.1196],\n",
              "                       [-0.4200, -0.4200, -0.1314,  0.2576,  0.3957,  0.5337,  0.6467,\n",
              "                         1.0608,  1.1863,  1.1235,  0.9729,  0.9980,  1.0608,  1.1737,\n",
              "                         1.1486,  1.3243,  1.2490,  1.2867,  1.5878,  1.3369,  1.5251,\n",
              "                         1.6004,  1.3871,  1.5251,  1.7384,  1.6004,  1.9518,  0.3580],\n",
              "                       [-0.4200,  0.4333,  0.7596,  0.7094,  0.9729,  1.0106,  0.9729,\n",
              "                         1.0106,  1.0231,  1.1737,  1.2741,  1.2867,  1.3745,  1.1612,\n",
              "                         1.1737,  1.4749,  1.5125,  1.3745,  1.4373,  1.1486,  1.6129,\n",
              "                         1.6129,  1.3871,  1.3118,  1.5000,  1.6129,  2.0396,  0.3078],\n",
              "                       [ 0.4584,  1.7008,  1.1988,  0.8851,  0.8098,  0.8349,  0.7596,\n",
              "                         0.7973,  0.8098,  0.8600,  0.9353,  0.9102,  1.0733,  1.0859,\n",
              "                         1.1988,  1.4498,  1.5376,  1.6757,  1.9643,  1.9643,  2.0396,\n",
              "                         2.0647,  2.0647,  1.9267,  2.0522,  1.9518,  1.8890,  0.0318],\n",
              "                       [-0.2192,  1.1612,  1.7259,  1.9392,  1.9392,  1.8890,  1.7259,\n",
              "                         1.5000,  1.2741,  1.0859,  1.1612,  1.1737,  1.4122,  1.9016,\n",
              "                         2.0271,  2.2027,  2.1902,  2.7800,  2.2027,  1.8012,  2.6545,\n",
              "                         2.7424,  2.7298,  2.7298,  2.6796,  2.3408,  2.1651,  0.1949],\n",
              "                       [-0.4200, -0.4200, -0.4200, -0.2694,  0.4208,  0.9102,  1.6380,\n",
              "                         1.9016,  2.0773,  2.2153,  2.2278,  2.2153,  2.1902,  1.9643,\n",
              "                         1.4624,  0.6090, -0.3196, -0.4200, -0.4200, -0.4200,  1.8137,\n",
              "                         2.1902,  1.9392,  1.7761,  1.6129,  1.5627,  1.4749, -0.2820],\n",
              "                       [-0.4200, -0.4200, -0.4200, -0.4200, -0.4200, -0.4200, -0.4200,\n",
              "                        -0.4200, -0.4200, -0.4200, -0.4200, -0.4200, -0.4200, -0.4200,\n",
              "                        -0.4200, -0.4200, -0.4200, -0.4200, -0.4200, -0.4200, -0.4200,\n",
              "                        -0.4200, -0.4200, -0.4200, -0.4200, -0.4200, -0.4200, -0.4200],\n",
              "                       [-0.4200, -0.4200, -0.4200, -0.4200, -0.4200, -0.4200, -0.4200,\n",
              "                        -0.4200, -0.4200, -0.4200, -0.4200, -0.4200, -0.4200, -0.4200,\n",
              "                        -0.4200, -0.4200, -0.4200, -0.4200, -0.4200, -0.4200, -0.4200,\n",
              "                        -0.4200, -0.4200, -0.4200, -0.4200, -0.4200, -0.4200, -0.4200],\n",
              "                       [-0.4200, -0.4200, -0.4200, -0.4200, -0.4200, -0.4200, -0.4200,\n",
              "                        -0.4200, -0.4200, -0.4200, -0.4200, -0.4200, -0.4200, -0.4200,\n",
              "                        -0.4200, -0.4200, -0.4200, -0.4200, -0.4200, -0.4200, -0.4200,\n",
              "                        -0.4200, -0.4200, -0.4200, -0.4200, -0.4200, -0.4200, -0.4200],\n",
              "                       [-0.4200, -0.4200, -0.4200, -0.4200, -0.4200, -0.4200, -0.4200,\n",
              "                        -0.4200, -0.4200, -0.4200, -0.4200, -0.4200, -0.4200, -0.4200,\n",
              "                        -0.4200, -0.4200, -0.4200, -0.4200, -0.4200, -0.4200, -0.4200,\n",
              "                        -0.4200, -0.4200, -0.4200, -0.4200, -0.4200, -0.4200, -0.4200],\n",
              "                       [-0.4200, -0.4200, -0.4200, -0.4200, -0.4200, -0.4200, -0.4200,\n",
              "                        -0.4200, -0.4200, -0.4200, -0.4200, -0.4200, -0.4200, -0.4200,\n",
              "                        -0.4200, -0.4200, -0.4200, -0.4200, -0.4200, -0.4200, -0.4200,\n",
              "                        -0.4200, -0.4200, -0.4200, -0.4200, -0.4200, -0.4200, -0.4200],\n",
              "                       [-0.4200, -0.4200, -0.4200, -0.4200, -0.4200, -0.4200, -0.4200,\n",
              "                        -0.4200, -0.4200, -0.4200, -0.4200, -0.4200, -0.4200, -0.4200,\n",
              "                        -0.4200, -0.4200, -0.4200, -0.4200, -0.4200, -0.4200, -0.4200,\n",
              "                        -0.4200, -0.4200, -0.4200, -0.4200, -0.4200, -0.4200, -0.4200]]]))"
            ]
          },
          "execution_count": 95,
          "metadata": {},
          "output_type": "execute_result"
        }
      ],
      "source": [
        "imagess[0]*3.2 - 0.42"
      ]
    },
    {
      "cell_type": "code",
      "execution_count": null,
      "metadata": {
        "colab": {
          "base_uri": "https://localhost:8080/"
        },
        "id": "4XEQi2OA51kV",
        "outputId": "11f07712-17a8-4711-fc27-39453faf1d5f"
      },
      "outputs": [
        {
          "data": {
            "text/plain": [
              "PyTorchTensor(tensor([[[0.0000, 0.0000, 0.0000, 0.0000, 0.0000, 0.0000, 0.0000, 0.0000,\n",
              "                        0.0000, 0.0000, 0.0000, 0.0000, 0.0000, 0.0000, 0.0000, 0.0000,\n",
              "                        0.0000, 0.0000, 0.0000, 0.0000, 0.0000, 0.0000, 0.0000, 0.0000,\n",
              "                        0.0000, 0.0000, 0.0000, 0.0000],\n",
              "                       [0.0000, 0.0000, 0.0000, 0.0000, 0.0000, 0.0000, 0.0000, 0.0000,\n",
              "                        0.0000, 0.0000, 0.0000, 0.0000, 0.0000, 0.0000, 0.0000, 0.0000,\n",
              "                        0.0000, 0.0000, 0.0000, 0.0000, 0.0000, 0.0000, 0.0000, 0.0000,\n",
              "                        0.0000, 0.0000, 0.0000, 0.0000],\n",
              "                       [0.0000, 0.0000, 0.0000, 0.0000, 0.0000, 0.0000, 0.0000, 0.0000,\n",
              "                        0.0000, 0.0000, 0.0000, 0.0000, 0.0000, 0.0000, 0.0000, 0.0000,\n",
              "                        0.0000, 0.0000, 0.0000, 0.0000, 0.0000, 0.0000, 0.0000, 0.0000,\n",
              "                        0.0000, 0.0000, 0.0000, 0.0000],\n",
              "                       [0.0000, 0.0000, 0.0000, 0.0000, 0.0000, 0.0000, 0.0000, 0.0000,\n",
              "                        0.0000, 0.0000, 0.0000, 0.0000, 0.0000, 0.0000, 0.0000, 0.0000,\n",
              "                        0.0000, 0.0000, 0.0000, 0.0000, 0.0000, 0.0000, 0.0000, 0.0000,\n",
              "                        0.0000, 0.0000, 0.0000, 0.0000],\n",
              "                       [0.0000, 0.0000, 0.0000, 0.0000, 0.0000, 0.0000, 0.0000, 0.0000,\n",
              "                        0.0000, 0.0000, 0.0000, 0.0000, 0.0000, 0.0000, 0.0000, 0.0000,\n",
              "                        0.0000, 0.0000, 0.0000, 0.0000, 0.0000, 0.0000, 0.0000, 0.0000,\n",
              "                        0.0000, 0.0000, 0.0000, 0.0000],\n",
              "                       [0.0000, 0.0000, 0.0000, 0.0000, 0.0000, 0.0000, 0.0000, 0.0000,\n",
              "                        0.0000, 0.0000, 0.0000, 0.0000, 0.0000, 0.0000, 0.0000, 0.0000,\n",
              "                        0.0000, 0.0000, 0.0000, 0.0000, 0.0000, 0.0000, 0.0000, 0.0000,\n",
              "                        0.0000, 0.0000, 0.0000, 0.0000],\n",
              "                       [0.0000, 0.0000, 0.0000, 0.0000, 0.0000, 0.0000, 0.0000, 0.0000,\n",
              "                        0.0000, 0.0000, 0.0000, 0.0000, 0.0000, 0.0000, 0.0000, 0.0000,\n",
              "                        0.0000, 0.0000, 0.0000, 0.0000, 0.0000, 0.0000, 0.0000, 0.0000,\n",
              "                        0.0000, 0.0000, 0.0000, 0.0000],\n",
              "                       [0.0000, 0.0000, 0.0000, 0.0000, 0.0000, 0.0000, 0.0000, 0.0000,\n",
              "                        0.0000, 0.0000, 0.0000, 0.0000, 0.0000, 0.0000, 0.0000, 0.0000,\n",
              "                        0.0000, 0.0000, 0.0000, 0.0118, 0.0039, 0.0000, 0.0000, 0.0275,\n",
              "                        0.0000, 0.1451, 0.0000, 0.0000],\n",
              "                       [0.0000, 0.0000, 0.0000, 0.0000, 0.0000, 0.0000, 0.0000, 0.0000,\n",
              "                        0.0000, 0.0000, 0.0000, 0.0000, 0.0000, 0.0039, 0.0078, 0.0000,\n",
              "                        0.1059, 0.3294, 0.0431, 0.0000, 0.0000, 0.0000, 0.0000, 0.0000,\n",
              "                        0.0000, 0.4667, 0.0000, 0.0000],\n",
              "                       [0.0000, 0.0000, 0.0000, 0.0000, 0.0000, 0.0000, 0.0000, 0.0000,\n",
              "                        0.0000, 0.0000, 0.0000, 0.0000, 0.0000, 0.0039, 0.0000, 0.0000,\n",
              "                        0.3451, 0.5608, 0.4314, 0.0000, 0.0000, 0.0000, 0.0000, 0.0863,\n",
              "                        0.3647, 0.4157, 0.0000, 0.0000],\n",
              "                       [0.0000, 0.0000, 0.0000, 0.0000, 0.0000, 0.0000, 0.0000, 0.0000,\n",
              "                        0.0000, 0.0000, 0.0000, 0.0000, 0.0000, 0.0157, 0.0000, 0.2078,\n",
              "                        0.5059, 0.4706, 0.5765, 0.6863, 0.6157, 0.6510, 0.5294, 0.6039,\n",
              "                        0.6588, 0.5490, 0.0000, 0.0000],\n",
              "                       [0.0000, 0.0000, 0.0000, 0.0000, 0.0000, 0.0000, 0.0000, 0.0000,\n",
              "                        0.0000, 0.0000, 0.0000, 0.0000, 0.0078, 0.0000, 0.0431, 0.5373,\n",
              "                        0.5098, 0.5020, 0.6275, 0.6902, 0.6235, 0.6549, 0.6980, 0.5843,\n",
              "                        0.5922, 0.5647, 0.0000, 0.0000],\n",
              "                       [0.0000, 0.0000, 0.0000, 0.0000, 0.0000, 0.0000, 0.0039, 0.0000,\n",
              "                        0.0078, 0.0039, 0.0000, 0.0118, 0.0000, 0.0000, 0.4510, 0.4471,\n",
              "                        0.4157, 0.5373, 0.6588, 0.6000, 0.6118, 0.6471, 0.6549, 0.5608,\n",
              "                        0.6157, 0.6196, 0.0431, 0.0000],\n",
              "                       [0.0000, 0.0000, 0.0000, 0.0000, 0.0039, 0.0000, 0.0000, 0.0000,\n",
              "                        0.0000, 0.0000, 0.0118, 0.0000, 0.0000, 0.3490, 0.5451, 0.3529,\n",
              "                        0.3686, 0.6000, 0.5843, 0.5137, 0.5922, 0.6627, 0.6745, 0.5608,\n",
              "                        0.6235, 0.6627, 0.1882, 0.0000],\n",
              "                       [0.0000, 0.0000, 0.0000, 0.0000, 0.0000, 0.0000, 0.0078, 0.0157,\n",
              "                        0.0039, 0.0000, 0.0000, 0.0000, 0.3843, 0.5333, 0.4314, 0.4275,\n",
              "                        0.4314, 0.6353, 0.5294, 0.5647, 0.5843, 0.6235, 0.6549, 0.5647,\n",
              "                        0.6196, 0.6627, 0.4667, 0.0000],\n",
              "                       [0.0000, 0.0000, 0.0078, 0.0078, 0.0039, 0.0078, 0.0000, 0.0000,\n",
              "                        0.0000, 0.0000, 0.1020, 0.4235, 0.4588, 0.3882, 0.4353, 0.4588,\n",
              "                        0.5333, 0.6118, 0.5255, 0.6039, 0.6039, 0.6118, 0.6275, 0.5529,\n",
              "                        0.5765, 0.6118, 0.6980, 0.0000],\n",
              "                       [0.0118, 0.0000, 0.0000, 0.0000, 0.0000, 0.0000, 0.0000, 0.0824,\n",
              "                        0.2078, 0.3608, 0.4588, 0.4353, 0.4039, 0.4510, 0.5059, 0.5255,\n",
              "                        0.5608, 0.6039, 0.6471, 0.6667, 0.6039, 0.5922, 0.6039, 0.5608,\n",
              "                        0.5412, 0.5882, 0.6471, 0.1686],\n",
              "                       [0.0000, 0.0000, 0.0902, 0.2118, 0.2549, 0.2980, 0.3333, 0.4627,\n",
              "                        0.5020, 0.4824, 0.4353, 0.4431, 0.4627, 0.4980, 0.4902, 0.5451,\n",
              "                        0.5216, 0.5333, 0.6275, 0.5490, 0.6078, 0.6314, 0.5647, 0.6078,\n",
              "                        0.6745, 0.6314, 0.7412, 0.2431],\n",
              "                       [0.0000, 0.2667, 0.3686, 0.3529, 0.4353, 0.4471, 0.4353, 0.4471,\n",
              "                        0.4510, 0.4980, 0.5294, 0.5333, 0.5608, 0.4941, 0.4980, 0.5922,\n",
              "                        0.6039, 0.5608, 0.5804, 0.4902, 0.6353, 0.6353, 0.5647, 0.5412,\n",
              "                        0.6000, 0.6353, 0.7686, 0.2275],\n",
              "                       [0.2745, 0.6627, 0.5059, 0.4078, 0.3843, 0.3922, 0.3686, 0.3804,\n",
              "                        0.3843, 0.4000, 0.4235, 0.4157, 0.4667, 0.4706, 0.5059, 0.5843,\n",
              "                        0.6118, 0.6549, 0.7451, 0.7451, 0.7686, 0.7765, 0.7765, 0.7333,\n",
              "                        0.7725, 0.7412, 0.7216, 0.1412],\n",
              "                       [0.0627, 0.4941, 0.6706, 0.7373, 0.7373, 0.7216, 0.6706, 0.6000,\n",
              "                        0.5294, 0.4706, 0.4941, 0.4980, 0.5725, 0.7255, 0.7647, 0.8196,\n",
              "                        0.8157, 1.0000, 0.8196, 0.6941, 0.9608, 0.9882, 0.9843, 0.9843,\n",
              "                        0.9686, 0.8627, 0.8078, 0.1922],\n",
              "                       [0.0000, 0.0000, 0.0000, 0.0471, 0.2627, 0.4157, 0.6431, 0.7255,\n",
              "                        0.7804, 0.8235, 0.8275, 0.8235, 0.8157, 0.7451, 0.5882, 0.3216,\n",
              "                        0.0314, 0.0000, 0.0000, 0.0000, 0.6980, 0.8157, 0.7373, 0.6863,\n",
              "                        0.6353, 0.6196, 0.5922, 0.0431],\n",
              "                       [0.0000, 0.0000, 0.0000, 0.0000, 0.0000, 0.0000, 0.0000, 0.0000,\n",
              "                        0.0000, 0.0000, 0.0000, 0.0000, 0.0000, 0.0000, 0.0000, 0.0000,\n",
              "                        0.0000, 0.0000, 0.0000, 0.0000, 0.0000, 0.0000, 0.0000, 0.0000,\n",
              "                        0.0000, 0.0000, 0.0000, 0.0000],\n",
              "                       [0.0000, 0.0000, 0.0000, 0.0000, 0.0000, 0.0000, 0.0000, 0.0000,\n",
              "                        0.0000, 0.0000, 0.0000, 0.0000, 0.0000, 0.0000, 0.0000, 0.0000,\n",
              "                        0.0000, 0.0000, 0.0000, 0.0000, 0.0000, 0.0000, 0.0000, 0.0000,\n",
              "                        0.0000, 0.0000, 0.0000, 0.0000],\n",
              "                       [0.0000, 0.0000, 0.0000, 0.0000, 0.0000, 0.0000, 0.0000, 0.0000,\n",
              "                        0.0000, 0.0000, 0.0000, 0.0000, 0.0000, 0.0000, 0.0000, 0.0000,\n",
              "                        0.0000, 0.0000, 0.0000, 0.0000, 0.0000, 0.0000, 0.0000, 0.0000,\n",
              "                        0.0000, 0.0000, 0.0000, 0.0000],\n",
              "                       [0.0000, 0.0000, 0.0000, 0.0000, 0.0000, 0.0000, 0.0000, 0.0000,\n",
              "                        0.0000, 0.0000, 0.0000, 0.0000, 0.0000, 0.0000, 0.0000, 0.0000,\n",
              "                        0.0000, 0.0000, 0.0000, 0.0000, 0.0000, 0.0000, 0.0000, 0.0000,\n",
              "                        0.0000, 0.0000, 0.0000, 0.0000],\n",
              "                       [0.0000, 0.0000, 0.0000, 0.0000, 0.0000, 0.0000, 0.0000, 0.0000,\n",
              "                        0.0000, 0.0000, 0.0000, 0.0000, 0.0000, 0.0000, 0.0000, 0.0000,\n",
              "                        0.0000, 0.0000, 0.0000, 0.0000, 0.0000, 0.0000, 0.0000, 0.0000,\n",
              "                        0.0000, 0.0000, 0.0000, 0.0000],\n",
              "                       [0.0000, 0.0000, 0.0000, 0.0000, 0.0000, 0.0000, 0.0000, 0.0000,\n",
              "                        0.0000, 0.0000, 0.0000, 0.0000, 0.0000, 0.0000, 0.0000, 0.0000,\n",
              "                        0.0000, 0.0000, 0.0000, 0.0000, 0.0000, 0.0000, 0.0000, 0.0000,\n",
              "                        0.0000, 0.0000, 0.0000, 0.0000]]]))"
            ]
          },
          "execution_count": 80,
          "metadata": {},
          "output_type": "execute_result"
        }
      ],
      "source": [
        "imagess[0]"
      ]
    },
    {
      "cell_type": "code",
      "execution_count": null,
      "metadata": {
        "colab": {
          "base_uri": "https://localhost:8080/"
        },
        "id": "L166k86q2v_p",
        "outputId": "71e89323-3383-49d8-a561-8e72bbccada3"
      },
      "outputs": [
        {
          "data": {
            "text/plain": [
              "PyTorchTensor(tensor([[[0.0000, 0.0000, 0.0000, 0.0000, 0.0000, 0.0000, 0.0000, 0.0000,\n",
              "                        0.0000, 0.0000, 0.0000, 0.0000, 0.0000, 0.0000, 0.0000, 0.0000,\n",
              "                        0.0000, 0.0000, 0.0000, 0.0000, 0.0000, 0.0000, 0.0000, 0.0000,\n",
              "                        0.0000, 0.0000, 0.0000, 0.0000],\n",
              "                       [0.0000, 0.0000, 0.0000, 0.0000, 0.0000, 0.0000, 0.0000, 0.0000,\n",
              "                        0.0000, 0.0000, 0.0000, 0.0000, 0.0000, 0.0000, 0.0000, 0.0000,\n",
              "                        0.0000, 0.0000, 0.0000, 0.0000, 0.0000, 0.0000, 0.0000, 0.0000,\n",
              "                        0.0000, 0.0000, 0.0000, 0.0000],\n",
              "                       [0.0000, 0.0000, 0.0000, 0.0000, 0.0000, 0.0000, 0.0000, 0.0000,\n",
              "                        0.0000, 0.0000, 0.0000, 0.0000, 0.0000, 0.0000, 0.0000, 0.0000,\n",
              "                        0.0000, 0.0000, 0.0000, 0.0000, 0.0000, 0.0000, 0.0000, 0.0000,\n",
              "                        0.0000, 0.0000, 0.0000, 0.0000],\n",
              "                       [0.0000, 0.0000, 0.0000, 0.0000, 0.0000, 0.0000, 0.0000, 0.0000,\n",
              "                        0.0000, 0.0000, 0.0000, 0.0000, 0.0000, 0.0000, 0.0000, 0.0000,\n",
              "                        0.0000, 0.0000, 0.0000, 0.0000, 0.0000, 0.0000, 0.0000, 0.0000,\n",
              "                        0.0000, 0.0000, 0.0000, 0.0000],\n",
              "                       [0.0000, 0.0000, 0.0000, 0.0000, 0.0000, 0.0000, 0.0000, 0.0000,\n",
              "                        0.0000, 0.0000, 0.0000, 0.0000, 0.0000, 0.0000, 0.0000, 0.0000,\n",
              "                        0.0000, 0.0000, 0.0000, 0.0000, 0.0000, 0.0000, 0.0000, 0.0000,\n",
              "                        0.0000, 0.0000, 0.0000, 0.0000],\n",
              "                       [0.0000, 0.0000, 0.0000, 0.0000, 0.0000, 0.0000, 0.0000, 0.0000,\n",
              "                        0.0000, 0.0000, 0.0000, 0.0000, 0.0000, 0.0000, 0.0000, 0.0000,\n",
              "                        0.0000, 0.0000, 0.0000, 0.0000, 0.0000, 0.0000, 0.0000, 0.0000,\n",
              "                        0.0000, 0.0000, 0.0000, 0.0000],\n",
              "                       [0.0000, 0.0000, 0.0000, 0.0000, 0.0000, 0.0000, 0.0000, 0.0000,\n",
              "                        0.0000, 0.0000, 0.0000, 0.0000, 0.0000, 0.0000, 0.0000, 0.0000,\n",
              "                        0.0000, 0.0000, 0.0000, 0.0000, 0.0000, 0.0000, 0.0000, 0.0000,\n",
              "                        0.0000, 0.0000, 0.0000, 0.0000],\n",
              "                       [0.0000, 0.0000, 0.0000, 0.0000, 0.0000, 0.0000, 0.0000, 0.0000,\n",
              "                        0.0000, 0.0000, 0.0000, 0.0000, 0.0000, 0.0000, 0.0000, 0.0000,\n",
              "                        0.0000, 0.0000, 0.0000, 0.0118, 0.0039, 0.0000, 0.0000, 0.0275,\n",
              "                        0.0000, 0.1451, 0.0000, 0.0000],\n",
              "                       [0.0000, 0.0000, 0.0000, 0.0000, 0.0000, 0.0000, 0.0000, 0.0000,\n",
              "                        0.0000, 0.0000, 0.0000, 0.0000, 0.0000, 0.0039, 0.0078, 0.0000,\n",
              "                        0.1059, 0.3294, 0.0431, 0.0000, 0.0000, 0.0000, 0.0000, 0.0000,\n",
              "                        0.0000, 0.4667, 0.0000, 0.0000],\n",
              "                       [0.0000, 0.0000, 0.0000, 0.0000, 0.0000, 0.0000, 0.0000, 0.0000,\n",
              "                        0.0000, 0.0000, 0.0000, 0.0000, 0.0000, 0.0039, 0.0000, 0.0000,\n",
              "                        0.3451, 0.5608, 0.4314, 0.0000, 0.0000, 0.0000, 0.0000, 0.0863,\n",
              "                        0.3647, 0.4157, 0.0000, 0.0000],\n",
              "                       [0.0000, 0.0000, 0.0000, 0.0000, 0.0000, 0.0000, 0.0000, 0.0000,\n",
              "                        0.0000, 0.0000, 0.0000, 0.0000, 0.0000, 0.0157, 0.0000, 0.2078,\n",
              "                        0.5059, 0.4706, 0.5765, 0.6863, 0.6157, 0.6510, 0.5294, 0.6039,\n",
              "                        0.6588, 0.5490, 0.0000, 0.0000],\n",
              "                       [0.0000, 0.0000, 0.0000, 0.0000, 0.0000, 0.0000, 0.0000, 0.0000,\n",
              "                        0.0000, 0.0000, 0.0000, 0.0000, 0.0078, 0.0000, 0.0431, 0.5373,\n",
              "                        0.5098, 0.5020, 0.6275, 0.6902, 0.6235, 0.6549, 0.6980, 0.5843,\n",
              "                        0.5922, 0.5647, 0.0000, 0.0000],\n",
              "                       [0.0000, 0.0000, 0.0000, 0.0000, 0.0000, 0.0000, 0.0039, 0.0000,\n",
              "                        0.0078, 0.0039, 0.0000, 0.0118, 0.0000, 0.0000, 0.4510, 0.4471,\n",
              "                        0.4157, 0.5373, 0.6588, 0.6000, 0.6118, 0.6471, 0.6549, 0.5608,\n",
              "                        0.6157, 0.6196, 0.0431, 0.0000],\n",
              "                       [0.0000, 0.0000, 0.0000, 0.0000, 0.0039, 0.0000, 0.0000, 0.0000,\n",
              "                        0.0000, 0.0000, 0.0118, 0.0000, 0.0000, 0.3490, 0.5451, 0.3529,\n",
              "                        0.3686, 0.6000, 0.5843, 0.5137, 0.5922, 0.6627, 0.6745, 0.5608,\n",
              "                        0.6235, 0.6627, 0.1882, 0.0000],\n",
              "                       [0.0000, 0.0000, 0.0000, 0.0000, 0.0000, 0.0000, 0.0078, 0.0157,\n",
              "                        0.0039, 0.0000, 0.0000, 0.0000, 0.3843, 0.5333, 0.4314, 0.4275,\n",
              "                        0.4314, 0.6353, 0.5294, 0.5647, 0.5843, 0.6235, 0.6549, 0.5647,\n",
              "                        0.6196, 0.6627, 0.4667, 0.0000],\n",
              "                       [0.0000, 0.0000, 0.0078, 0.0078, 0.0039, 0.0078, 0.0000, 0.0000,\n",
              "                        0.0000, 0.0000, 0.1020, 0.4235, 0.4588, 0.3882, 0.4353, 0.4588,\n",
              "                        0.5333, 0.6118, 0.5255, 0.6039, 0.6039, 0.6118, 0.6275, 0.5529,\n",
              "                        0.5765, 0.6118, 0.6980, 0.0000],\n",
              "                       [0.0118, 0.0000, 0.0000, 0.0000, 0.0000, 0.0000, 0.0000, 0.0824,\n",
              "                        0.2078, 0.3608, 0.4588, 0.4353, 0.4039, 0.4510, 0.5059, 0.5255,\n",
              "                        0.5608, 0.6039, 0.6471, 0.6667, 0.6039, 0.5922, 0.6039, 0.5608,\n",
              "                        0.5412, 0.5882, 0.6471, 0.1686],\n",
              "                       [0.0000, 0.0000, 0.0902, 0.2118, 0.2549, 0.2980, 0.3333, 0.4627,\n",
              "                        0.5020, 0.4824, 0.4353, 0.4431, 0.4627, 0.4980, 0.4902, 0.5451,\n",
              "                        0.5216, 0.5333, 0.6275, 0.5490, 0.6078, 0.6314, 0.5647, 0.6078,\n",
              "                        0.6745, 0.6314, 0.7412, 0.2431],\n",
              "                       [0.0000, 0.2667, 0.3686, 0.3529, 0.4353, 0.4471, 0.4353, 0.4471,\n",
              "                        0.4510, 0.4980, 0.5294, 0.5333, 0.5608, 0.4941, 0.4980, 0.5922,\n",
              "                        0.6039, 0.5608, 0.5804, 0.4902, 0.6353, 0.6353, 0.5647, 0.5412,\n",
              "                        0.6000, 0.6353, 0.7686, 0.2275],\n",
              "                       [0.2745, 0.6627, 0.5059, 0.4078, 0.3843, 0.3922, 0.3686, 0.3804,\n",
              "                        0.3843, 0.4000, 0.4235, 0.4157, 0.4667, 0.4706, 0.5059, 0.5843,\n",
              "                        0.6118, 0.6549, 0.7451, 0.7451, 0.7686, 0.7765, 0.7765, 0.7333,\n",
              "                        0.7725, 0.7412, 0.7216, 0.1412],\n",
              "                       [0.0627, 0.4941, 0.6706, 0.7373, 0.7373, 0.7216, 0.6706, 0.6000,\n",
              "                        0.5294, 0.4706, 0.4941, 0.4980, 0.5725, 0.7255, 0.7647, 0.8196,\n",
              "                        0.8157, 1.0000, 0.8196, 0.6941, 0.9608, 0.9882, 0.9843, 0.9843,\n",
              "                        0.9686, 0.8627, 0.8078, 0.1922],\n",
              "                       [0.0000, 0.0000, 0.0000, 0.0471, 0.2627, 0.4157, 0.6431, 0.7255,\n",
              "                        0.7804, 0.8235, 0.8275, 0.8235, 0.8157, 0.7451, 0.5882, 0.3216,\n",
              "                        0.0314, 0.0000, 0.0000, 0.0000, 0.6980, 0.8157, 0.7373, 0.6863,\n",
              "                        0.6353, 0.6196, 0.5922, 0.0431],\n",
              "                       [0.0000, 0.0000, 0.0000, 0.0000, 0.0000, 0.0000, 0.0000, 0.0000,\n",
              "                        0.0000, 0.0000, 0.0000, 0.0000, 0.0000, 0.0000, 0.0000, 0.0000,\n",
              "                        0.0000, 0.0000, 0.0000, 0.0000, 0.0000, 0.0000, 0.0000, 0.0000,\n",
              "                        0.0000, 0.0000, 0.0000, 0.0000],\n",
              "                       [0.0000, 0.0000, 0.0000, 0.0000, 0.0000, 0.0000, 0.0000, 0.0000,\n",
              "                        0.0000, 0.0000, 0.0000, 0.0000, 0.0000, 0.0000, 0.0000, 0.0000,\n",
              "                        0.0000, 0.0000, 0.0000, 0.0000, 0.0000, 0.0000, 0.0000, 0.0000,\n",
              "                        0.0000, 0.0000, 0.0000, 0.0000],\n",
              "                       [0.0000, 0.0000, 0.0000, 0.0000, 0.0000, 0.0000, 0.0000, 0.0000,\n",
              "                        0.0000, 0.0000, 0.0000, 0.0000, 0.0000, 0.0000, 0.0000, 0.0000,\n",
              "                        0.0000, 0.0000, 0.0000, 0.0000, 0.0000, 0.0000, 0.0000, 0.0000,\n",
              "                        0.0000, 0.0000, 0.0000, 0.0000],\n",
              "                       [0.0000, 0.0000, 0.0000, 0.0000, 0.0000, 0.0000, 0.0000, 0.0000,\n",
              "                        0.0000, 0.0000, 0.0000, 0.0000, 0.0000, 0.0000, 0.0000, 0.0000,\n",
              "                        0.0000, 0.0000, 0.0000, 0.0000, 0.0000, 0.0000, 0.0000, 0.0000,\n",
              "                        0.0000, 0.0000, 0.0000, 0.0000],\n",
              "                       [0.0000, 0.0000, 0.0000, 0.0000, 0.0000, 0.0000, 0.0000, 0.0000,\n",
              "                        0.0000, 0.0000, 0.0000, 0.0000, 0.0000, 0.0000, 0.0000, 0.0000,\n",
              "                        0.0000, 0.0000, 0.0000, 0.0000, 0.0000, 0.0000, 0.0000, 0.0000,\n",
              "                        0.0000, 0.0000, 0.0000, 0.0000],\n",
              "                       [0.0000, 0.0000, 0.0000, 0.0000, 0.0000, 0.0000, 0.0000, 0.0000,\n",
              "                        0.0000, 0.0000, 0.0000, 0.0000, 0.0000, 0.0000, 0.0000, 0.0000,\n",
              "                        0.0000, 0.0000, 0.0000, 0.0000, 0.0000, 0.0000, 0.0000, 0.0000,\n",
              "                        0.0000, 0.0000, 0.0000, 0.0000]]]))"
            ]
          },
          "execution_count": 31,
          "metadata": {},
          "output_type": "execute_result"
        }
      ],
      "source": [
        "imagess[0]"
      ]
    },
    {
      "cell_type": "code",
      "execution_count": null,
      "metadata": {
        "colab": {
          "base_uri": "https://localhost:8080/"
        },
        "id": "-zL7qsWi2Z1w",
        "outputId": "599f866b-51b3-46a0-a259-3e9b6b785cd5"
      },
      "outputs": [
        {
          "data": {
            "text/plain": [
              "PyTorchTensor(tensor([[[False, False, False, False, False, False, False, False, False, False,\n",
              "                        False, False, False, False, False, False, False, False, False, False,\n",
              "                        False, False, False, False, False, False, False, False],\n",
              "                       [False, False, False, False, False, False, False, False, False, False,\n",
              "                        False, False, False, False, False, False, False, False, False, False,\n",
              "                        False, False, False, False, False, False, False, False],\n",
              "                       [False, False, False, False, False, False, False, False, False, False,\n",
              "                        False, False, False, False, False, False, False, False, False, False,\n",
              "                        False, False, False, False, False, False, False, False],\n",
              "                       [False, False, False, False, False, False, False, False, False, False,\n",
              "                        False, False, False, False, False, False, False, False, False, False,\n",
              "                        False, False, False, False, False, False, False, False],\n",
              "                       [False, False, False, False, False, False, False, False, False, False,\n",
              "                        False, False, False, False, False, False, False, False, False, False,\n",
              "                        False, False, False, False, False, False, False, False],\n",
              "                       [False, False, False, False, False, False, False, False, False, False,\n",
              "                        False, False, False, False, False, False, False, False, False, False,\n",
              "                        False, False, False, False, False, False, False, False],\n",
              "                       [False, False, False, False, False, False, False, False, False, False,\n",
              "                        False, False, False, False, False, False, False, False, False, False,\n",
              "                        False, False, False, False, False, False, False, False],\n",
              "                       [False, False, False, False, False, False, False, False, False, False,\n",
              "                        False, False, False, False, False, False, False, False, False, False,\n",
              "                        False, False, False, False, False, False, False, False],\n",
              "                       [False, False, False, False, False, False, False, False, False, False,\n",
              "                        False, False, False, False, False, False, False, False, False, False,\n",
              "                        False, False, False, False, False, False, False, False],\n",
              "                       [False, False, False, False, False, False, False, False, False, False,\n",
              "                        False, False, False, False, False, False, False, False, False, False,\n",
              "                        False, False, False, False, False, False, False, False],\n",
              "                       [False, False, False, False, False, False, False, False, False, False,\n",
              "                        False, False, False, False, False, False, False, False, False, False,\n",
              "                        False, False, False, False, False, False, False, False],\n",
              "                       [False, False, False, False, False, False, False, False, False, False,\n",
              "                        False, False, False, False, False, False, False, False, False, False,\n",
              "                        False, False, False, False, False, False, False, False],\n",
              "                       [False, False, False, False, False, False, False, False, False, False,\n",
              "                        False, False, False, False, False, False, False, False, False, False,\n",
              "                        False, False, False, False, False, False, False, False],\n",
              "                       [False, False, False, False, False, False, False, False, False, False,\n",
              "                        False, False, False, False, False, False, False, False, False, False,\n",
              "                        False, False, False, False, False, False, False, False],\n",
              "                       [False, False, False, False, False, False, False, False, False, False,\n",
              "                        False, False, False, False, False, False, False, False, False, False,\n",
              "                        False, False, False, False, False, False, False, False],\n",
              "                       [False, False, False, False, False, False, False, False, False, False,\n",
              "                        False, False, False, False, False, False, False, False, False, False,\n",
              "                        False, False, False, False, False, False, False, False],\n",
              "                       [False, False, False, False, False, False, False, False, False, False,\n",
              "                        False, False, False, False, False, False, False, False, False, False,\n",
              "                        False, False, False, False, False, False, False, False],\n",
              "                       [False, False, False, False, False, False, False, False, False, False,\n",
              "                        False, False, False, False, False, False, False, False, False, False,\n",
              "                        False, False, False, False, False, False, False, False],\n",
              "                       [False, False, False, False, False, False, False, False, False, False,\n",
              "                        False, False, False, False, False, False, False, False, False, False,\n",
              "                        False, False, False, False, False, False, False, False],\n",
              "                       [False, False, False, False, False, False, False, False, False, False,\n",
              "                        False, False, False, False, False, False, False, False, False, False,\n",
              "                        False, False, False, False, False, False, False, False],\n",
              "                       [False, False, False, False, False, False, False, False, False, False,\n",
              "                        False, False, False, False, False, False, False, False, False, False,\n",
              "                        False, False, False, False, False, False, False, False],\n",
              "                       [False, False, False, False, False, False, False, False, False, False,\n",
              "                        False, False, False, False, False, False, False, False, False, False,\n",
              "                        False, False, False, False, False, False, False, False],\n",
              "                       [False, False, False, False, False, False, False, False, False, False,\n",
              "                        False, False, False, False, False, False, False, False, False, False,\n",
              "                        False, False, False, False, False, False, False, False],\n",
              "                       [False, False, False, False, False, False, False, False, False, False,\n",
              "                        False, False, False, False, False, False, False, False, False, False,\n",
              "                        False, False, False, False, False, False, False, False],\n",
              "                       [False, False, False, False, False, False, False, False, False, False,\n",
              "                        False, False, False, False, False, False, False, False, False, False,\n",
              "                        False, False, False, False, False, False, False, False],\n",
              "                       [False, False, False, False, False, False, False, False, False, False,\n",
              "                        False, False, False, False, False, False, False, False, False, False,\n",
              "                        False, False, False, False, False, False, False, False],\n",
              "                       [False, False, False, False, False, False, False, False, False, False,\n",
              "                        False, False, False, False, False, False, False, False, False, False,\n",
              "                        False, False, False, False, False, False, False, False],\n",
              "                       [False, False, False, False, False, False, False, False, False, False,\n",
              "                        False, False, False, False, False, False, False, False, False, False,\n",
              "                        False, False, False, False, False, False, False, False]]]))"
            ]
          },
          "execution_count": 29,
          "metadata": {},
          "output_type": "execute_result"
        }
      ],
      "source": [
        "images[0] == imagess[0]"
      ]
    },
    {
      "cell_type": "code",
      "execution_count": null,
      "metadata": {
        "colab": {
          "base_uri": "https://localhost:8080/",
          "height": 235
        },
        "id": "_w30nGizm7mH",
        "outputId": "0f0f6d44-a463-4ae0-a57f-bc2d6f222e35"
      },
      "outputs": [
        {
          "ename": "RuntimeError",
          "evalue": "ignored",
          "output_type": "error",
          "traceback": [
            "\u001b[0;31m---------------------------------------------------------------------------\u001b[0m",
            "\u001b[0;31mRuntimeError\u001b[0m                              Traceback (most recent call last)",
            "\u001b[0;32m<ipython-input-21-3a08078d6c81>\u001b[0m in \u001b[0;36m<cell line: 43>\u001b[0;34m()\u001b[0m\n\u001b[1;32m     41\u001b[0m \u001b[0;31m#labels = ep.astensor(labels)\u001b[0m\u001b[0;34m\u001b[0m\u001b[0;34m\u001b[0m\u001b[0m\n\u001b[1;32m     42\u001b[0m \u001b[0;34m\u001b[0m\u001b[0m\n\u001b[0;32m---> 43\u001b[0;31m \u001b[0mimages\u001b[0m \u001b[0;34m=\u001b[0m \u001b[0mtorch\u001b[0m\u001b[0;34m.\u001b[0m\u001b[0mtensor\u001b[0m\u001b[0;34m(\u001b[0m\u001b[0mimages\u001b[0m\u001b[0;34m)\u001b[0m\u001b[0;34m\u001b[0m\u001b[0;34m\u001b[0m\u001b[0m\n\u001b[0m\u001b[1;32m     44\u001b[0m \u001b[0mlabels\u001b[0m \u001b[0;34m=\u001b[0m \u001b[0mtorch\u001b[0m\u001b[0;34m.\u001b[0m\u001b[0mtensor\u001b[0m\u001b[0;34m(\u001b[0m\u001b[0mlabels\u001b[0m\u001b[0;34m)\u001b[0m\u001b[0;34m\u001b[0m\u001b[0;34m\u001b[0m\u001b[0m\n\u001b[1;32m     45\u001b[0m \u001b[0;34m\u001b[0m\u001b[0m\n",
            "\u001b[0;31mRuntimeError\u001b[0m: Could not infer dtype of Image"
          ]
        }
      ],
      "source": [
        "import eagerpy as ep\n",
        "from foolbox import PyTorchModel, accuracy\n",
        "import foolbox as fb\n",
        "import torchvision.transforms as transforms\n",
        "from torchvision.datasets import MNIST\n",
        "import numpy as np\n",
        "import torch\n",
        "\"\"\"\n",
        "# Define the transform for test data\n",
        "transform = transforms.Compose([\n",
        "    transforms.ToTensor(),\n",
        "    transforms.Normalize((0.1307,), (0.3081,))\n",
        "])\n",
        "\"\"\"\n",
        "# Load the MNIST test dataset with the defined transform\n",
        "test_dataset = MNIST(root='path/to/dataset', train=False, download=True)#, transform=transform)\n",
        "\n",
        "# Create a PyTorch model\n",
        "model = model_without  # Your MNIST model initialization here\n",
        "\n",
        "# Create the Foolbox model\n",
        "fmodel = PyTorchModel(model, bounds=(0, 1))\n",
        "\n",
        "# Prepare the test samples\n",
        "images = []\n",
        "labels = []\n",
        "for i in range(len(test_dataset)):\n",
        "    image, label = test_dataset[i]\n",
        "    images.append(image)\n",
        "    labels.append(label)\n",
        "\n",
        "#print(\"images.shape\", images.shape)\n",
        "#print(\"labels.shape\", labels.shape)\n",
        "\n",
        "# Convert the test samples to PyTorch tensors\n",
        "#images = torch.stack(images)\n",
        "#labels = torch.tensor(labels)\n",
        "\n",
        "# Convert the PyTorch tensors to eagerpy tensors\n",
        "#images = ep.astensor(images)\n",
        "#labels = ep.astensor(labels)\n",
        "\n",
        "images = torch.tensor(images)\n",
        "labels = torch.tensor(labels)\n",
        "\n",
        "# Calculate clean accuracy\n",
        "clean_acc = accuracy(fmodel, images, labels)\n",
        "print(f\"Clean accuracy: {clean_acc * 100:.1f}%\")\n"
      ]
    },
    {
      "cell_type": "code",
      "execution_count": null,
      "metadata": {
        "colab": {
          "base_uri": "https://localhost:8080/",
          "height": 393
        },
        "id": "YFadllbRncvj",
        "outputId": "5c5b011c-bda2-469e-d0da-1ffa58dda8f0"
      },
      "outputs": [
        {
          "name": "stderr",
          "output_type": "stream",
          "text": [
            "/usr/local/lib/python3.10/dist-packages/torchvision/models/_utils.py:208: UserWarning: The parameter 'pretrained' is deprecated since 0.13 and may be removed in the future, please use 'weights' instead.\n",
            "  warnings.warn(\n",
            "/usr/local/lib/python3.10/dist-packages/torchvision/models/_utils.py:223: UserWarning: Arguments other than a weight enum or `None` for 'weights' are deprecated since 0.13 and may be removed in the future. The current behavior is equivalent to passing `weights=ResNet50_Weights.IMAGENET1K_V1`. You can also use `weights=ResNet50_Weights.DEFAULT` to get the most up-to-date weights.\n",
            "  warnings.warn(msg)\n",
            "Downloading: \"https://download.pytorch.org/models/resnet50-0676ba61.pth\" to /root/.cache/torch/hub/checkpoints/resnet50-0676ba61.pth\n",
            "100%|██████████| 97.8M/97.8M [00:00<00:00, 129MB/s]\n",
            "/usr/local/lib/python3.10/dist-packages/foolbox/models/pytorch.py:36: UserWarning: The PyTorch model is in training mode and therefore might not be deterministic. Call the eval() method to set it in evaluation mode if this is not intended.\n",
            "  warnings.warn(\n"
          ]
        },
        {
          "ename": "TypeError",
          "evalue": "ignored",
          "output_type": "error",
          "traceback": [
            "\u001b[0;31m---------------------------------------------------------------------------\u001b[0m",
            "\u001b[0;31mTypeError\u001b[0m                                 Traceback (most recent call last)",
            "\u001b[0;32m<ipython-input-56-929be571e1d6>\u001b[0m in \u001b[0;36m<cell line: 30>\u001b[0;34m()\u001b[0m\n\u001b[1;32m     28\u001b[0m \u001b[0;34m\u001b[0m\u001b[0m\n\u001b[1;32m     29\u001b[0m \u001b[0;31m# Convert the PyTorch tensors to eagerpy tensors\u001b[0m\u001b[0;34m\u001b[0m\u001b[0;34m\u001b[0m\u001b[0m\n\u001b[0;32m---> 30\u001b[0;31m \u001b[0mimages\u001b[0m \u001b[0;34m=\u001b[0m \u001b[0mep\u001b[0m\u001b[0;34m.\u001b[0m\u001b[0mastensor\u001b[0m\u001b[0;34m(\u001b[0m\u001b[0mimages\u001b[0m\u001b[0;34m,\u001b[0m \u001b[0mdevice\u001b[0m\u001b[0;34m=\u001b[0m\u001b[0;34m\"cuda\"\u001b[0m\u001b[0;34m)\u001b[0m\u001b[0;34m\u001b[0m\u001b[0;34m\u001b[0m\u001b[0m\n\u001b[0m\u001b[1;32m     31\u001b[0m \u001b[0mlabels\u001b[0m \u001b[0;34m=\u001b[0m \u001b[0mep\u001b[0m\u001b[0;34m.\u001b[0m\u001b[0mastensor\u001b[0m\u001b[0;34m(\u001b[0m\u001b[0mlabels\u001b[0m\u001b[0;34m,\u001b[0m \u001b[0mdevice\u001b[0m\u001b[0;34m=\u001b[0m\u001b[0;34m\"cuda\"\u001b[0m\u001b[0;34m)\u001b[0m\u001b[0;34m\u001b[0m\u001b[0;34m\u001b[0m\u001b[0m\n\u001b[1;32m     32\u001b[0m \u001b[0;34m\u001b[0m\u001b[0m\n",
            "\u001b[0;31mTypeError\u001b[0m: astensor() got an unexpected keyword argument 'device'"
          ]
        }
      ],
      "source": [
        "import torch\n",
        "import eagerpy as ep\n",
        "from torchvision.datasets import MNIST\n",
        "from torchvision.transforms import ToTensor\n",
        "from torchvision.models import resnet50\n",
        "from foolbox import PyTorchModel, accuracy\n",
        "\n",
        "# Load the MNIST test dataset with the defined transform\n",
        "test_dataset = MNIST(root='path/to/dataset', train=False, download=True, transform=ToTensor())\n",
        "\n",
        "# Create a PyTorch model\n",
        "model = resnet50(pretrained=True)\n",
        "\n",
        "# Create the Foolbox model\n",
        "fmodel = PyTorchModel(model, bounds=(0, 1))\n",
        "\n",
        "# Prepare the test samples\n",
        "images = []\n",
        "labels = []\n",
        "for i in range(len(test_dataset)):\n",
        "    image, label = test_dataset[i]\n",
        "    images.append(image)\n",
        "    labels.append(label)\n",
        "\n",
        "# Convert the test samples to PyTorch tensors\n",
        "images = torch.stack(images)\n",
        "labels = torch.tensor(labels)\n",
        "\n",
        "# Convert the PyTorch tensors to eagerpy tensors\n",
        "images = ep.astensor(images, device=\"cuda\")\n",
        "labels = ep.astensor(labels, device=\"cuda\")\n",
        "\n",
        "# Calculate clean accuracy\n",
        "clean_acc = accuracy(fmodel, images, labels)\n",
        "print(f\"Clean accuracy: {clean_acc * 100:.1f}%\")\n"
      ]
    },
    {
      "cell_type": "code",
      "execution_count": null,
      "metadata": {
        "colab": {
          "base_uri": "https://localhost:8080/",
          "height": 235
        },
        "id": "SFFECONvZCUy",
        "outputId": "eb049ec7-b9c6-48ac-e337-41d23fd7c0e6"
      },
      "outputs": [
        {
          "ename": "TypeError",
          "evalue": "ignored",
          "output_type": "error",
          "traceback": [
            "\u001b[0;31m---------------------------------------------------------------------------\u001b[0m",
            "\u001b[0;31mTypeError\u001b[0m                                 Traceback (most recent call last)",
            "\u001b[0;32m<ipython-input-60-5fe58424ac4c>\u001b[0m in \u001b[0;36m<cell line: 6>\u001b[0;34m()\u001b[0m\n\u001b[1;32m      4\u001b[0m \u001b[0;32mimport\u001b[0m \u001b[0mfoolbox\u001b[0m \u001b[0;32mas\u001b[0m \u001b[0mfb\u001b[0m\u001b[0;34m\u001b[0m\u001b[0;34m\u001b[0m\u001b[0m\n\u001b[1;32m      5\u001b[0m \u001b[0;34m\u001b[0m\u001b[0m\n\u001b[0;32m----> 6\u001b[0;31m \u001b[0mfmodel\u001b[0m \u001b[0;34m=\u001b[0m \u001b[0mfb\u001b[0m\u001b[0;34m.\u001b[0m\u001b[0mPyTorchModel\u001b[0m\u001b[0;34m(\u001b[0m\u001b[0mmodel_without\u001b[0m\u001b[0;34m)\u001b[0m\u001b[0;34m\u001b[0m\u001b[0;34m\u001b[0m\u001b[0m\n\u001b[0m\u001b[1;32m      7\u001b[0m \u001b[0;34m\u001b[0m\u001b[0m\n\u001b[1;32m      8\u001b[0m \u001b[0mimages\u001b[0m\u001b[0;34m,\u001b[0m \u001b[0mlabels\u001b[0m \u001b[0;34m=\u001b[0m \u001b[0mep\u001b[0m\u001b[0;34m.\u001b[0m\u001b[0mastensors\u001b[0m\u001b[0;34m(\u001b[0m\u001b[0;34m*\u001b[0m\u001b[0msamples\u001b[0m\u001b[0;34m(\u001b[0m\u001b[0mfmodel\u001b[0m\u001b[0;34m,\u001b[0m \u001b[0mdataset\u001b[0m\u001b[0;34m=\u001b[0m\u001b[0;34m\"MNIST\"\u001b[0m\u001b[0;34m,\u001b[0m \u001b[0mbatchsize\u001b[0m\u001b[0;34m=\u001b[0m\u001b[0;36m1000\u001b[0m\u001b[0;34m)\u001b[0m\u001b[0;34m)\u001b[0m\u001b[0;34m\u001b[0m\u001b[0;34m\u001b[0m\u001b[0m\n",
            "\u001b[0;31mTypeError\u001b[0m: PyTorchModel.__init__() missing 1 required positional argument: 'bounds'"
          ]
        }
      ],
      "source": [
        "import eagerpy as ep\n",
        "from foolbox import PyTorchModel, accuracy, samples\n",
        "from foolbox.attacks import LinfPGD\n",
        "import foolbox as fb\n",
        "\n",
        "fmodel = fb.PyTorchModel(model_without)\n",
        "\n",
        "images, labels = ep.astensors(*samples(fmodel, dataset=\"MNIST\", batchsize=1000))\n",
        "print(images.shape)\n",
        "print(labels.shape)\n",
        "\n",
        "clean_acc = accuracy(fmodel, images, labels)\n",
        "print(f\"clean accuracy:  {clean_acc * 100:.1f} %\")\n"
      ]
    },
    {
      "cell_type": "code",
      "execution_count": null,
      "metadata": {
        "colab": {
          "base_uri": "https://localhost:8080/"
        },
        "id": "NoD4N_YTkdOT",
        "outputId": "239853c2-7208-4456-f149-e1770e23bbe5"
      },
      "outputs": [
        {
          "data": {
            "text/plain": [
              "torch.Size([10000, 1, 28, 28])"
            ]
          },
          "execution_count": 18,
          "metadata": {},
          "output_type": "execute_result"
        }
      ],
      "source": [
        "images.shape"
      ]
    },
    {
      "cell_type": "code",
      "execution_count": null,
      "metadata": {
        "colab": {
          "base_uri": "https://localhost:8080/"
        },
        "id": "zsewN7P3kgew",
        "outputId": "843d6e3c-1b6b-4aad-d6a3-05d018310ee8"
      },
      "outputs": [
        {
          "data": {
            "text/plain": [
              "torch.Size([10000])"
            ]
          },
          "execution_count": 19,
          "metadata": {},
          "output_type": "execute_result"
        }
      ],
      "source": [
        "labels.shape"
      ]
    },
    {
      "cell_type": "code",
      "execution_count": null,
      "metadata": {
        "id": "NAnzCsOfl3ZR"
      },
      "outputs": [],
      "source": [
        "# Modify the verify_input_bounds function\n",
        "def verify_input_bounds(input: ep.Tensor, model) -> None:\n",
        "    pass\n",
        "\n",
        "fb.attacks.base.verify_input_bounds = verify_input_bounds\n",
        "\n",
        "# Perform the attack\n",
        "attack = fb.attacks.FGSM()\n",
        "epsilons = [0.00000005]\n",
        "advss, advs, success = attack(fmodel, images, labels, epsilons=epsilons)"
      ]
    },
    {
      "cell_type": "code",
      "execution_count": null,
      "metadata": {
        "colab": {
          "base_uri": "https://localhost:8080/",
          "height": 328
        },
        "id": "lvM31hGajsR1",
        "outputId": "7e066999-2b19-43da-ff85-1b8ef20f1099"
      },
      "outputs": [
        {
          "ename": "AssertionError",
          "evalue": "ignored",
          "output_type": "error",
          "traceback": [
            "\u001b[0;31m---------------------------------------------------------------------------\u001b[0m",
            "\u001b[0;31mAssertionError\u001b[0m                            Traceback (most recent call last)",
            "\u001b[0;32m<ipython-input-45-c1de931ffd0d>\u001b[0m in \u001b[0;36m<cell line: 4>\u001b[0;34m()\u001b[0m\n\u001b[1;32m      2\u001b[0m \u001b[0mattack\u001b[0m \u001b[0;34m=\u001b[0m \u001b[0mfb\u001b[0m\u001b[0;34m.\u001b[0m\u001b[0mattacks\u001b[0m\u001b[0;34m.\u001b[0m\u001b[0mFGSM\u001b[0m\u001b[0;34m(\u001b[0m\u001b[0;34m)\u001b[0m\u001b[0;34m\u001b[0m\u001b[0;34m\u001b[0m\u001b[0m\n\u001b[1;32m      3\u001b[0m \u001b[0mepsilons\u001b[0m \u001b[0;34m=\u001b[0m \u001b[0;34m[\u001b[0m\u001b[0;36m0.005\u001b[0m\u001b[0;34m]\u001b[0m\u001b[0;34m\u001b[0m\u001b[0;34m\u001b[0m\u001b[0m\n\u001b[0;32m----> 4\u001b[0;31m \u001b[0madvss\u001b[0m\u001b[0;34m,\u001b[0m \u001b[0madvs\u001b[0m\u001b[0;34m,\u001b[0m \u001b[0msuccess\u001b[0m \u001b[0;34m=\u001b[0m \u001b[0mattack\u001b[0m\u001b[0;34m(\u001b[0m\u001b[0mfmodel\u001b[0m\u001b[0;34m,\u001b[0m \u001b[0mimages\u001b[0m\u001b[0;34m,\u001b[0m \u001b[0mlabels\u001b[0m\u001b[0;34m,\u001b[0m \u001b[0mepsilons\u001b[0m\u001b[0;34m=\u001b[0m\u001b[0mepsilons\u001b[0m\u001b[0;34m)\u001b[0m\u001b[0;34m\u001b[0m\u001b[0;34m\u001b[0m\u001b[0m\n\u001b[0m",
            "\u001b[0;32m/usr/local/lib/python3.10/dist-packages/foolbox/attacks/base.py\u001b[0m in \u001b[0;36m__call__\u001b[0;34m(***failed resolving arguments***)\u001b[0m\n\u001b[1;32m    255\u001b[0m         \u001b[0;32mdel\u001b[0m \u001b[0minputs\u001b[0m\u001b[0;34m\u001b[0m\u001b[0;34m\u001b[0m\u001b[0m\n\u001b[1;32m    256\u001b[0m \u001b[0;34m\u001b[0m\u001b[0m\n\u001b[0;32m--> 257\u001b[0;31m         \u001b[0mverify_input_bounds\u001b[0m\u001b[0;34m(\u001b[0m\u001b[0mx\u001b[0m\u001b[0;34m,\u001b[0m \u001b[0mmodel\u001b[0m\u001b[0;34m)\u001b[0m\u001b[0;34m\u001b[0m\u001b[0;34m\u001b[0m\u001b[0m\n\u001b[0m\u001b[1;32m    258\u001b[0m \u001b[0;34m\u001b[0m\u001b[0m\n\u001b[1;32m    259\u001b[0m         \u001b[0mcriterion\u001b[0m \u001b[0;34m=\u001b[0m \u001b[0mget_criterion\u001b[0m\u001b[0;34m(\u001b[0m\u001b[0mcriterion\u001b[0m\u001b[0;34m)\u001b[0m\u001b[0;34m\u001b[0m\u001b[0;34m\u001b[0m\u001b[0m\n",
            "\u001b[0;32m/usr/local/lib/python3.10/dist-packages/foolbox/attacks/base.py\u001b[0m in \u001b[0;36mverify_input_bounds\u001b[0;34m(input, model)\u001b[0m\n\u001b[1;32m    496\u001b[0m \u001b[0;32mdef\u001b[0m \u001b[0mverify_input_bounds\u001b[0m\u001b[0;34m(\u001b[0m\u001b[0minput\u001b[0m\u001b[0;34m:\u001b[0m \u001b[0mep\u001b[0m\u001b[0;34m.\u001b[0m\u001b[0mTensor\u001b[0m\u001b[0;34m,\u001b[0m \u001b[0mmodel\u001b[0m\u001b[0;34m:\u001b[0m \u001b[0mModel\u001b[0m\u001b[0;34m)\u001b[0m \u001b[0;34m->\u001b[0m \u001b[0;32mNone\u001b[0m\u001b[0;34m:\u001b[0m\u001b[0;34m\u001b[0m\u001b[0;34m\u001b[0m\u001b[0m\n\u001b[1;32m    497\u001b[0m     \u001b[0;31m# verify that input to the attack lies within model's input bounds\u001b[0m\u001b[0;34m\u001b[0m\u001b[0;34m\u001b[0m\u001b[0m\n\u001b[0;32m--> 498\u001b[0;31m     \u001b[0;32massert\u001b[0m \u001b[0minput\u001b[0m\u001b[0;34m.\u001b[0m\u001b[0mmin\u001b[0m\u001b[0;34m(\u001b[0m\u001b[0;34m)\u001b[0m\u001b[0;34m.\u001b[0m\u001b[0mitem\u001b[0m\u001b[0;34m(\u001b[0m\u001b[0;34m)\u001b[0m \u001b[0;34m>=\u001b[0m \u001b[0mmodel\u001b[0m\u001b[0;34m.\u001b[0m\u001b[0mbounds\u001b[0m\u001b[0;34m.\u001b[0m\u001b[0mlower\u001b[0m\u001b[0;34m\u001b[0m\u001b[0;34m\u001b[0m\u001b[0m\n\u001b[0m\u001b[1;32m    499\u001b[0m     \u001b[0;32massert\u001b[0m \u001b[0minput\u001b[0m\u001b[0;34m.\u001b[0m\u001b[0mmax\u001b[0m\u001b[0;34m(\u001b[0m\u001b[0;34m)\u001b[0m\u001b[0;34m.\u001b[0m\u001b[0mitem\u001b[0m\u001b[0;34m(\u001b[0m\u001b[0;34m)\u001b[0m \u001b[0;34m<=\u001b[0m \u001b[0mmodel\u001b[0m\u001b[0;34m.\u001b[0m\u001b[0mbounds\u001b[0m\u001b[0;34m.\u001b[0m\u001b[0mupper\u001b[0m\u001b[0;34m\u001b[0m\u001b[0;34m\u001b[0m\u001b[0m\n",
            "\u001b[0;31mAssertionError\u001b[0m: "
          ]
        }
      ],
      "source": [
        "# Perform the attack\n",
        "attack = fb.attacks.FGSM()\n",
        "epsilons = [0.005]\n",
        "advss, advs, success = attack(fmodel, images, labels, epsilons=epsilons)"
      ]
    },
    {
      "cell_type": "code",
      "execution_count": null,
      "metadata": {
        "colab": {
          "base_uri": "https://localhost:8080/"
        },
        "id": "yddWRvCRrmzT",
        "outputId": "4b83e9f2-b136-4099-c129-08485cdaaa2c"
      },
      "outputs": [
        {
          "name": "stderr",
          "output_type": "stream",
          "text": [
            "/usr/local/lib/python3.10/dist-packages/foolbox/utils.py:80: UserWarning: samples() has only 20 samples and repeats itself if batchsize > 20\n",
            "  warnings.warn(\n"
          ]
        },
        {
          "name": "stdout",
          "output_type": "stream",
          "text": [
            "clean accuracy: 0.0%\n"
          ]
        }
      ],
      "source": [
        "import eagerpy as ep\n",
        "import torch\n",
        "import torchvision.transforms as transforms\n",
        "from foolbox import PyTorchModel, accuracy, samples\n",
        "import foolbox as fb\n",
        "\n",
        "# Define the transform for test data\n",
        "transform = transforms.Compose([\n",
        "    transforms.ToTensor(),\n",
        "    transforms.Normalize((0.1307,), (0.3081,))\n",
        "])\n",
        "\n",
        "fmodel = fb.models.PyTorchModel(model_without, bounds=(0, 1))\n",
        "\n",
        "images, labels = ep.astensors(*samples(fmodel, dataset=\"MNIST\", batchsize=1000))\n",
        "\n",
        "clean_acc = accuracy(fmodel, images, labels)\n",
        "print(f\"clean accuracy: {clean_acc * 100:.1f}%\")\n"
      ]
    },
    {
      "cell_type": "code",
      "execution_count": null,
      "metadata": {
        "colab": {
          "base_uri": "https://localhost:8080/",
          "height": 363
        },
        "id": "kT7sDJVIrvro",
        "outputId": "dcc1ea17-7db1-4457-9c4b-569cab950f93"
      },
      "outputs": [
        {
          "ename": "ValueError",
          "evalue": "ignored",
          "output_type": "error",
          "traceback": [
            "\u001b[0;31m---------------------------------------------------------------------------\u001b[0m",
            "\u001b[0;31mValueError\u001b[0m                                Traceback (most recent call last)",
            "\u001b[0;32m<ipython-input-27-2bac155c6ed6>\u001b[0m in \u001b[0;36m<cell line: 22>\u001b[0;34m()\u001b[0m\n\u001b[1;32m     20\u001b[0m \u001b[0mimages\u001b[0m \u001b[0;34m=\u001b[0m \u001b[0mep\u001b[0m\u001b[0;34m.\u001b[0m\u001b[0mastensors\u001b[0m\u001b[0;34m(\u001b[0m\u001b[0;34m*\u001b[0m\u001b[0mtransformed_images\u001b[0m\u001b[0;34m)\u001b[0m\u001b[0;34m\u001b[0m\u001b[0;34m\u001b[0m\u001b[0m\n\u001b[1;32m     21\u001b[0m \u001b[0;34m\u001b[0m\u001b[0m\n\u001b[0;32m---> 22\u001b[0;31m \u001b[0mclean_acc\u001b[0m \u001b[0;34m=\u001b[0m \u001b[0maccuracy\u001b[0m\u001b[0;34m(\u001b[0m\u001b[0mfmodel\u001b[0m\u001b[0;34m,\u001b[0m \u001b[0mimages\u001b[0m\u001b[0;34m,\u001b[0m \u001b[0mlabels\u001b[0m\u001b[0;34m)\u001b[0m\u001b[0;34m\u001b[0m\u001b[0;34m\u001b[0m\u001b[0m\n\u001b[0m\u001b[1;32m     23\u001b[0m \u001b[0mprint\u001b[0m\u001b[0;34m(\u001b[0m\u001b[0;34mf\"clean accuracy: {clean_acc * 100:.1f}%\"\u001b[0m\u001b[0;34m)\u001b[0m\u001b[0;34m\u001b[0m\u001b[0;34m\u001b[0m\u001b[0m\n",
            "\u001b[0;32m/usr/local/lib/python3.10/dist-packages/foolbox/utils.py\u001b[0m in \u001b[0;36maccuracy\u001b[0;34m(fmodel, inputs, labels)\u001b[0m\n\u001b[1;32m     10\u001b[0m \u001b[0;34m\u001b[0m\u001b[0m\n\u001b[1;32m     11\u001b[0m \u001b[0;32mdef\u001b[0m \u001b[0maccuracy\u001b[0m\u001b[0;34m(\u001b[0m\u001b[0mfmodel\u001b[0m\u001b[0;34m:\u001b[0m \u001b[0mModel\u001b[0m\u001b[0;34m,\u001b[0m \u001b[0minputs\u001b[0m\u001b[0;34m:\u001b[0m \u001b[0mAny\u001b[0m\u001b[0;34m,\u001b[0m \u001b[0mlabels\u001b[0m\u001b[0;34m:\u001b[0m \u001b[0mAny\u001b[0m\u001b[0;34m)\u001b[0m \u001b[0;34m->\u001b[0m \u001b[0mfloat\u001b[0m\u001b[0;34m:\u001b[0m\u001b[0;34m\u001b[0m\u001b[0;34m\u001b[0m\u001b[0m\n\u001b[0;32m---> 12\u001b[0;31m     \u001b[0minputs_\u001b[0m\u001b[0;34m,\u001b[0m \u001b[0mlabels_\u001b[0m \u001b[0;34m=\u001b[0m \u001b[0mep\u001b[0m\u001b[0;34m.\u001b[0m\u001b[0mastensors\u001b[0m\u001b[0;34m(\u001b[0m\u001b[0minputs\u001b[0m\u001b[0;34m,\u001b[0m \u001b[0mlabels\u001b[0m\u001b[0;34m)\u001b[0m\u001b[0;34m\u001b[0m\u001b[0;34m\u001b[0m\u001b[0m\n\u001b[0m\u001b[1;32m     13\u001b[0m     \u001b[0;32mdel\u001b[0m \u001b[0minputs\u001b[0m\u001b[0;34m,\u001b[0m \u001b[0mlabels\u001b[0m\u001b[0;34m\u001b[0m\u001b[0;34m\u001b[0m\u001b[0m\n\u001b[1;32m     14\u001b[0m \u001b[0;34m\u001b[0m\u001b[0m\n",
            "\u001b[0;32m/usr/local/lib/python3.10/dist-packages/eagerpy/astensor.py\u001b[0m in \u001b[0;36mastensors\u001b[0;34m(*xs)\u001b[0m\n\u001b[1;32m     57\u001b[0m \u001b[0;34m\u001b[0m\u001b[0m\n\u001b[1;32m     58\u001b[0m \u001b[0;32mdef\u001b[0m \u001b[0mastensors\u001b[0m\u001b[0;34m(\u001b[0m\u001b[0;34m*\u001b[0m\u001b[0mxs\u001b[0m\u001b[0;34m:\u001b[0m \u001b[0mUnion\u001b[0m\u001b[0;34m[\u001b[0m\u001b[0mNativeTensor\u001b[0m\u001b[0;34m,\u001b[0m \u001b[0mTensor\u001b[0m\u001b[0;34m]\u001b[0m\u001b[0;34m)\u001b[0m \u001b[0;34m->\u001b[0m \u001b[0mTuple\u001b[0m\u001b[0;34m[\u001b[0m\u001b[0mTensor\u001b[0m\u001b[0;34m,\u001b[0m \u001b[0;34m...\u001b[0m\u001b[0;34m]\u001b[0m\u001b[0;34m:\u001b[0m  \u001b[0;31m# type: ignore\u001b[0m\u001b[0;34m\u001b[0m\u001b[0;34m\u001b[0m\u001b[0m\n\u001b[0;32m---> 59\u001b[0;31m     \u001b[0;32mreturn\u001b[0m \u001b[0mtuple\u001b[0m\u001b[0;34m(\u001b[0m\u001b[0mastensor\u001b[0m\u001b[0;34m(\u001b[0m\u001b[0mx\u001b[0m\u001b[0;34m)\u001b[0m \u001b[0;32mfor\u001b[0m \u001b[0mx\u001b[0m \u001b[0;32min\u001b[0m \u001b[0mxs\u001b[0m\u001b[0;34m)\u001b[0m\u001b[0;34m\u001b[0m\u001b[0;34m\u001b[0m\u001b[0m\n\u001b[0m\u001b[1;32m     60\u001b[0m \u001b[0;34m\u001b[0m\u001b[0m\n\u001b[1;32m     61\u001b[0m \u001b[0;34m\u001b[0m\u001b[0m\n",
            "\u001b[0;32m/usr/local/lib/python3.10/dist-packages/eagerpy/astensor.py\u001b[0m in \u001b[0;36m<genexpr>\u001b[0;34m(.0)\u001b[0m\n\u001b[1;32m     57\u001b[0m \u001b[0;34m\u001b[0m\u001b[0m\n\u001b[1;32m     58\u001b[0m \u001b[0;32mdef\u001b[0m \u001b[0mastensors\u001b[0m\u001b[0;34m(\u001b[0m\u001b[0;34m*\u001b[0m\u001b[0mxs\u001b[0m\u001b[0;34m:\u001b[0m \u001b[0mUnion\u001b[0m\u001b[0;34m[\u001b[0m\u001b[0mNativeTensor\u001b[0m\u001b[0;34m,\u001b[0m \u001b[0mTensor\u001b[0m\u001b[0;34m]\u001b[0m\u001b[0;34m)\u001b[0m \u001b[0;34m->\u001b[0m \u001b[0mTuple\u001b[0m\u001b[0;34m[\u001b[0m\u001b[0mTensor\u001b[0m\u001b[0;34m,\u001b[0m \u001b[0;34m...\u001b[0m\u001b[0;34m]\u001b[0m\u001b[0;34m:\u001b[0m  \u001b[0;31m# type: ignore\u001b[0m\u001b[0;34m\u001b[0m\u001b[0;34m\u001b[0m\u001b[0m\n\u001b[0;32m---> 59\u001b[0;31m     \u001b[0;32mreturn\u001b[0m \u001b[0mtuple\u001b[0m\u001b[0;34m(\u001b[0m\u001b[0mastensor\u001b[0m\u001b[0;34m(\u001b[0m\u001b[0mx\u001b[0m\u001b[0;34m)\u001b[0m \u001b[0;32mfor\u001b[0m \u001b[0mx\u001b[0m \u001b[0;32min\u001b[0m \u001b[0mxs\u001b[0m\u001b[0;34m)\u001b[0m\u001b[0;34m\u001b[0m\u001b[0;34m\u001b[0m\u001b[0m\n\u001b[0m\u001b[1;32m     60\u001b[0m \u001b[0;34m\u001b[0m\u001b[0m\n\u001b[1;32m     61\u001b[0m \u001b[0;34m\u001b[0m\u001b[0m\n",
            "\u001b[0;32m/usr/local/lib/python3.10/dist-packages/eagerpy/astensor.py\u001b[0m in \u001b[0;36mastensor\u001b[0;34m(x)\u001b[0m\n\u001b[1;32m     53\u001b[0m     \u001b[0;32mif\u001b[0m \u001b[0mname\u001b[0m \u001b[0;34m==\u001b[0m \u001b[0;34m\"numpy\"\u001b[0m \u001b[0;32mand\u001b[0m \u001b[0misinstance\u001b[0m\u001b[0;34m(\u001b[0m\u001b[0mx\u001b[0m\u001b[0;34m,\u001b[0m \u001b[0mm\u001b[0m\u001b[0;34m[\u001b[0m\u001b[0mname\u001b[0m\u001b[0;34m]\u001b[0m\u001b[0;34m.\u001b[0m\u001b[0mndarray\u001b[0m\u001b[0;34m)\u001b[0m\u001b[0;34m:\u001b[0m  \u001b[0;31m# type: ignore\u001b[0m\u001b[0;34m\u001b[0m\u001b[0;34m\u001b[0m\u001b[0m\n\u001b[1;32m     54\u001b[0m         \u001b[0;32mreturn\u001b[0m \u001b[0mNumPyTensor\u001b[0m\u001b[0;34m(\u001b[0m\u001b[0mx\u001b[0m\u001b[0;34m)\u001b[0m\u001b[0;34m\u001b[0m\u001b[0;34m\u001b[0m\u001b[0m\n\u001b[0;32m---> 55\u001b[0;31m     \u001b[0;32mraise\u001b[0m \u001b[0mValueError\u001b[0m\u001b[0;34m(\u001b[0m\u001b[0;34mf\"Unknown type: {type(x)}\"\u001b[0m\u001b[0;34m)\u001b[0m\u001b[0;34m\u001b[0m\u001b[0;34m\u001b[0m\u001b[0m\n\u001b[0m\u001b[1;32m     56\u001b[0m \u001b[0;34m\u001b[0m\u001b[0m\n\u001b[1;32m     57\u001b[0m \u001b[0;34m\u001b[0m\u001b[0m\n",
            "\u001b[0;31mValueError\u001b[0m: Unknown type: <class 'tuple'>"
          ]
        }
      ],
      "source": [
        "import eagerpy as ep\n",
        "import torch\n",
        "import torchvision.transforms as transforms\n",
        "from foolbox import PyTorchModel, accuracy, samples\n",
        "import foolbox as fb\n",
        "\n",
        "# Define the transform for test data\n",
        "transform = transforms.Compose([\n",
        "    transforms.ToTensor(),\n",
        "    transforms.Normalize((0.1307,), (0.3081,))\n",
        "])\n",
        "\n",
        "fmodel = PyTorchModel(model_without, bounds=(0, 1))\n",
        "\n",
        "images, labels = ep.astensors(*samples(fmodel, dataset=\"MNIST\", batchsize=1000))\n",
        "\n",
        "# Apply the transform to the images\n",
        "pil_images = [transforms.ToPILImage()(image.raw) for image in images]\n",
        "transformed_images = [transform(image) for image in pil_images]\n",
        "images = ep.astensors(*transformed_images)\n",
        "\n",
        "clean_acc = accuracy(fmodel, images, labels)\n",
        "print(f\"clean accuracy: {clean_acc * 100:.1f}%\")\n"
      ]
    }
  ],
  "metadata": {
    "colab": {
      "machine_shape": "hm",
      "provenance": [],
      "toc_visible": true,
      "include_colab_link": true
    },
    "kernelspec": {
      "display_name": "Python 3",
      "name": "python3"
    },
    "language_info": {
      "name": "python"
    }
  },
  "nbformat": 4,
  "nbformat_minor": 0
}